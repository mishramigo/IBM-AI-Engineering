{
 "cells": [
  {
   "cell_type": "markdown",
   "metadata": {},
   "source": [
    "<a href=\"https://www.skills.network/\"><img src=\"https://cf-courses-data.s3.us.cloud-object-storage.appdomain.cloud/IBM-DL0120ENedX/labs/Template%20for%20Instructional%20Hands-on%20Labs/images/IDSNlogo.png\" width=\"400px\" align=\"center\"></a>\n",
    "\n",
    "<h1 align=\"center\"><font size=\"5\">RECURRENT NETWORKS and LSTM IN DEEP LEARNING</font></h1>\n"
   ]
  },
  {
   "cell_type": "markdown",
   "metadata": {},
   "source": [
    "<h2>Applying Recurrent Neural Networks/LSTM for Language Modeling</h2>\n",
    "Hello and welcome to this part. In this notebook, we will go over the topic of Language Modelling, and create a Recurrent Neural Network model based on the Long Short-Term Memory unit to train and benchmark on the Penn Treebank dataset. By the end of this notebook, you should be able to understand how TensorFlow builds and executes a RNN model for Language Modelling.\n"
   ]
  },
  {
   "cell_type": "markdown",
   "metadata": {},
   "source": [
    "<h2>The Objective</h2>\n",
    "By now, you should have an understanding of how Recurrent Networks work -- a specialized model to process sequential data by keeping track of the \"state\" or context. In this notebook, we go over a TensorFlow code snippet for creating a model focused on <b>Language Modelling</b> -- a very relevant task that is the cornerstone of many different linguistic problems such as <b>Speech Recognition, Machine Translation and Image Captioning</b>. For this, we will be using the Penn Treebank dataset, which is an often-used dataset for benchmarking Language Modelling models.\n"
   ]
  },
  {
   "cell_type": "markdown",
   "metadata": {},
   "source": [
    "<h2>Table of Contents</h2>\n",
    "<ol>\n",
    "    <li><a href=\"#language_modelling\">What exactly is Language Modelling?</a></li>\n",
    "    <li><a href=\"#treebank_dataset\">The Penn Treebank dataset</a></li>\n",
    "    <li><a href=\"#word_embedding\">Word Embedding</a></li>\n",
    "    <li><a href=\"#building_lstm_model\">Building the LSTM model for Language Modeling</a></li>\n",
    "    <li><a href=\"#ltsm\">LTSM</a></li>\n",
    "</ol>\n",
    "<p></p>\n",
    "</div>\n",
    "<br>\n"
   ]
  },
  {
   "cell_type": "markdown",
   "metadata": {
    "button": false,
    "deletable": true,
    "new_sheet": false,
    "run_control": {
     "read_only": false
    }
   },
   "source": [
    "* * *\n"
   ]
  },
  {
   "cell_type": "markdown",
   "metadata": {},
   "source": [
    "<a id=\"language_modelling\"></a>\n",
    "\n",
    "<h2>What exactly is Language Modelling?</h2>\n",
    "Language Modelling, to put it simply, <b>is the task of assigning probabilities to sequences of words</b>. This means that, given a context of one or a sequence of words in the language the model was trained on, the model should provide the next most probable words or sequence of words that follows from the given sequence of words the sentence. Language Modelling is one of the most important tasks in Natural Language Processing.\n",
    "\n",
    "<img src=\"https://ibm.box.com/shared/static/1d1i5gub6wljby2vani2vzxp0xsph702.png\" width=\"1080\">\n",
    "<center><i>Example of a sentence being predicted</i></center>\n",
    "<br><br>\n",
    "In this example, one can see the predictions for the next word of a sentence, given the context \"This is an\". As you can see, this boils down to a sequential data analysis task -- you are given a word or a sequence of words (the input data), and, given the context (the state), you need to find out what is the next word (the prediction). This kind of analysis is very important for language-related tasks such as <b>Speech Recognition, Machine Translation, Image Captioning, Text Correction</b> and many other very relevant problems. \n",
    "\n",
    "<img src=\"https://ibm.box.com/shared/static/az39idf9ipfdpc5ugifpgxnydelhyf3i.png\" width=\"1080\">\n",
    "<center><i>The above example is a schema of an RNN in execution</i></center>\n",
    "<br><br>\n",
    "As the above image shows, Recurrent Network models fit this problem like a glove. Alongside LSTM and its capacity to maintain the model's state for over one thousand time steps, we have all the tools we need to undertake this problem. The goal for this notebook is to create a model that can reach <b>low levels of perplexity</b> on our desired dataset.\n",
    "\n",
    "For Language Modelling problems, <b>perplexity</b> is the way to gauge efficiency. Perplexity is simply a measure of how well a probabilistic model is able to predict its sample. A higher-level way to explain this would be saying that <b>low perplexity means a higher degree of trust in the predictions the model makes</b>. Therefore, the lower perplexity is, the better.\n"
   ]
  },
  {
   "cell_type": "markdown",
   "metadata": {},
   "source": [
    "<a id=\"treebank_dataset\"></a>\n",
    "\n",
    "<h2>The Penn Treebank dataset</h2>\n",
    "Historically, datasets big enough for Natural Language Processing are hard to come by. This is in part due to the necessity of the sentences to be broken down and tagged with a certain degree of correctness -- or else the models trained on it won't be able to be correct at all. This means that we need a <b>large amount of data, annotated by or at least corrected by humans</b>. This is, of course, not an easy task at all.\n",
    "\n",
    "The Penn Treebank, or PTB for short, is a dataset maintained by the University of Pennsylvania. It is <i>huge</i> -- there are over <b>four million and eight hundred thousand</b> annotated words in it, all corrected by humans. It is composed of many different sources, from abstracts of Department of Energy papers to texts from the Library of America. Since it is verifiably correct and of such a huge size, the Penn Treebank is commonly used as a benchmark dataset for Language Modelling.\n",
    "\n",
    "The dataset is divided in different kinds of annotations, such as Piece-of-Speech, Syntactic and Semantic skeletons. For this example, we will simply use a sample of clean, non-annotated words (with the exception of one tag --<code><unk></code>\n",
    ", which is used for rare words such as uncommon proper nouns) for our model. This means that we just want to predict what the next words would be, not what they mean in context or their classes on a given sentence.\n",
    "\n",
    "<center>Example of text from the dataset we are going to use, <b>ptb.train</b></center>\n",
    "<br><br>\n",
    "\n",
    "<div class=\"alert alert-block alert-info\" style=\"margin-top: 20px\">\n",
    "    <center>the percentage of lung cancer deaths among the workers at the west <code>&lt;unk&gt;</code> mass. paper factory appears to be the highest for any asbestos workers studied in western industrialized countries he said \n",
    " the plant which is owned by <code>&lt;unk&gt;</code> & <code>&lt;unk&gt;</code> co. was under contract with <code>&lt;unk&gt;</code> to make the cigarette filters \n",
    " the finding probably will support those who argue that the U.S. should regulate the class of asbestos including <code>&lt;unk&gt;</code> more <code>&lt;unk&gt;</code> than the common kind of asbestos <code>&lt;unk&gt;</code> found in most schools and other buildings dr. <code>&lt;unk&gt;</code> said</center>\n",
    "</div>\n"
   ]
  },
  {
   "cell_type": "markdown",
   "metadata": {
    "button": false,
    "deletable": true,
    "new_sheet": false,
    "run_control": {
     "read_only": false
    }
   },
   "source": [
    "<a id=\"word_embedding\"></a>\n",
    "\n",
    "<h2>Word Embeddings</h2><br/>\n",
    "\n",
    "For better processing, in this example, we will make use of <a href=\"https://www.tensorflow.org/tutorials/word2vec/\"><b>word embeddings</b></a>, which is <b>a way of representing sentence structures or words as n-dimensional vectors (where n is a reasonably high number, such as 200 or 500) of real numbers</b>. Basically, we will assign each word a randomly-initialized vector, and input those into the network to be processed. After a number of iterations, these vectors are expected to assume values that help the network to correctly predict what it needs to -- in our case, the probable next word in the sentence. This is shown to be a very effective task in Natural Language Processing, and is a commonplace practice.\n",
    "<br><br>\n",
    "<font size=\"4\"><strong>\n",
    "$$Vec(\"Example\") = [0.02, 0.00, 0.00, 0.92, 0.30, \\ldots]$$\n",
    "</strong></font>\n",
    "<br>\n",
    "Word Embedding tends to group up similarly used words <i>reasonably</i> close together in the vectorial space. For example, if we use T-SNE (a dimensional reduction visualization algorithm) to flatten the dimensions of our vectors into a 2-dimensional space and plot these words in a 2-dimensional space, we might see something like this:\n",
    "\n",
    "<img src=\"https://ibm.box.com/shared/static/bqhc5dg879gcoabzhxra1w8rkg3od1cu.png\" width=\"800\">\n",
    "<center><i>T-SNE Mockup with clusters marked for easier visualization</i></center>\n",
    "<br><br>\n",
    "As you can see, words that are frequently used together, in place of each other, or in the same places as them tend to be grouped together -- being closer together the higher they are correlated. For example, \"None\" is pretty semantically close to \"Zero\", while a phrase that uses \"Italy\", you could probably also fit \"Germany\" in it, with little damage to the sentence structure. The vectorial \"closeness\" for similar words like this is a great indicator of a well-built model.\n",
    "\n",
    "<hr>\n",
    " \n"
   ]
  },
  {
   "cell_type": "markdown",
   "metadata": {
    "button": false,
    "deletable": true,
    "new_sheet": false,
    "run_control": {
     "read_only": false
    }
   },
   "source": [
    "We need to import the necessary modules for our code. We need <b><code>numpy</code></b> and <b><code>tensorflow</code></b>, obviously. Additionally, we can import directly the <b><code>tensorflow.models.rnn</code></b> model, which includes the function for building RNNs, and <b><code>tensorflow.models.rnn.ptb.reader</code></b> which is the helper module for getting the input data from the dataset we just downloaded.\n",
    "\n",
    "If you want to learn more take a look at <https://github.com/tensorflow/models/blob/master/tutorials/rnn/ptb/reader.py>\n"
   ]
  },
  {
   "cell_type": "code",
   "execution_count": null,
   "metadata": {
    "tags": []
   },
   "outputs": [],
   "source": [
    "!pip install tensorflow==2.2.0rc0\n",
    "!pip install numpy\n"
   ]
  },
  {
   "cell_type": "code",
   "execution_count": 1,
   "metadata": {},
   "outputs": [],
   "source": [
    "import time\n",
    "import numpy as np\n",
    "import tensorflow as tf\n",
    "if not tf.__version__ == '2.2.0-rc0':\n",
    "    print(tf.__version__)\n",
    "    raise ValueError('please upgrade to TensorFlow 2.2.0-rc0, or restart your Kernel (Kernel->Restart & Clear Output)')"
   ]
  },
  {
   "cell_type": "markdown",
   "metadata": {},
   "source": [
    "IMPORTANT! => Please restart the kernel by clicking on \"Kernel\"->\"Restart and Clear Outout\" and wait until all output disapears. Then your changes are beeing picked up\n"
   ]
  },
  {
   "cell_type": "code",
   "execution_count": 2,
   "metadata": {
    "button": false,
    "deletable": true,
    "new_sheet": false,
    "run_control": {
     "read_only": false
    },
    "tags": []
   },
   "outputs": [
    {
     "name": "stdout",
     "output_type": "stream",
     "text": [
      "mkdir: cannot create directory ‘data’: File exists\n",
      "mkdir: cannot create directory ‘data/ptb’: File exists\n"
     ]
    }
   ],
   "source": [
    "!mkdir data\n",
    "!mkdir data/ptb\n",
    "!wget -q -O data/ptb/reader.py https://cf-courses-data.s3.us.cloud-object-storage.appdomain.cloud/IBMDeveloperSkillsNetwork-DL0120EN-SkillsNetwork/labs/Week3/data/ptb/reader.py\n",
    "!cp data/ptb/reader.py . \n",
    "\n"
   ]
  },
  {
   "cell_type": "code",
   "execution_count": 3,
   "metadata": {
    "tags": []
   },
   "outputs": [],
   "source": [
    "import reader"
   ]
  },
  {
   "cell_type": "markdown",
   "metadata": {
    "button": false,
    "deletable": true,
    "new_sheet": false,
    "run_control": {
     "read_only": false
    }
   },
   "source": [
    "<a id=\"building_lstm_model\"></a>\n",
    "\n",
    "<h2>Building the LSTM model for Language Modeling</h2>\n",
    "Now that we know exactly what we are doing, we can start building our model using TensorFlow. The very first thing we need to do is download and extract the <code>simple-examples</code> dataset, which can be done by executing the code cell below.\n"
   ]
  },
  {
   "cell_type": "code",
   "execution_count": 4,
   "metadata": {
    "button": false,
    "deletable": true,
    "new_sheet": false,
    "run_control": {
     "read_only": false
    },
    "tags": []
   },
   "outputs": [
    {
     "name": "stdout",
     "output_type": "stream",
     "text": [
      "--2020-11-29 03:46:46--  http://www.fit.vutbr.cz/~imikolov/rnnlm/simple-examples.tgz\n",
      "Resolving www.fit.vutbr.cz (www.fit.vutbr.cz)... 147.229.9.23, 2001:67c:1220:809::93e5:917\n",
      "Connecting to www.fit.vutbr.cz (www.fit.vutbr.cz)|147.229.9.23|:80... connected.\n",
      "HTTP request sent, awaiting response... 200 OK\n",
      "Length: 34869662 (33M) [application/x-gtar]\n",
      "Saving to: ‘simple-examples.tgz.1’\n",
      "\n",
      "simple-examples.tgz 100%[===================>]  33.25M  4.21MB/s    in 9.6s    \n",
      "\n",
      "2020-11-29 03:46:57 (3.47 MB/s) - ‘simple-examples.tgz.1’ saved [34869662/34869662]\n",
      "\n"
     ]
    }
   ],
   "source": [
    "!wget http://www.fit.vutbr.cz/~imikolov/rnnlm/simple-examples.tgz \n",
    "!tar xzf simple-examples.tgz -C data/"
   ]
  },
  {
   "cell_type": "markdown",
   "metadata": {
    "button": false,
    "deletable": true,
    "new_sheet": false,
    "run_control": {
     "read_only": false
    }
   },
   "source": [
    "Additionally, for the sake of making it easy to play around with the model's hyperparameters, we can declare them beforehand. Feel free to change these -- you will see a difference in performance each time you change those!  \n"
   ]
  },
  {
   "cell_type": "code",
   "execution_count": 5,
   "metadata": {
    "button": false,
    "deletable": true,
    "new_sheet": false,
    "run_control": {
     "read_only": false
    }
   },
   "outputs": [],
   "source": [
    "#Initial weight scale\n",
    "init_scale = 0.1\n",
    "#Initial learning rate\n",
    "learning_rate = 1.0\n",
    "#Maximum permissible norm for the gradient (For gradient clipping -- another measure against Exploding Gradients)\n",
    "max_grad_norm = 5\n",
    "#The number of layers in our model\n",
    "num_layers = 2\n",
    "#The total number of recurrence steps, also known as the number of layers when our RNN is \"unfolded\"\n",
    "num_steps = 20\n",
    "#The number of processing units (neurons) in the hidden layers\n",
    "hidden_size_l1 = 256\n",
    "hidden_size_l2 = 128\n",
    "#The maximum number of epochs trained with the initial learning rate\n",
    "max_epoch_decay_lr = 4\n",
    "#The total number of epochs in training\n",
    "max_epoch = 15\n",
    "#The probability for keeping data in the Dropout Layer (This is an optimization, but is outside our scope for this notebook!)\n",
    "#At 1, we ignore the Dropout Layer wrapping.\n",
    "keep_prob = 1\n",
    "#The decay for the learning rate\n",
    "decay = 0.5\n",
    "#The size for each batch of data\n",
    "batch_size = 30\n",
    "#The size of our vocabulary\n",
    "vocab_size = 10000\n",
    "embeding_vector_size= 200\n",
    "#Training flag to separate training from testing\n",
    "is_training = 1\n",
    "#Data directory for our dataset\n",
    "data_dir = \"data/simple-examples/data/\""
   ]
  },
  {
   "cell_type": "markdown",
   "metadata": {
    "button": false,
    "new_sheet": false,
    "run_control": {
     "read_only": false
    }
   },
   "source": [
    "Some clarifications for LSTM architecture based on the arguments:\n",
    "\n",
    "Network structure:\n",
    "\n",
    "<ul>\n",
    "    <li>In this network, the number of LSTM cells are 2. To give the model more expressive power, we can add multiple layers of LSTMs to process the data. The output of the first layer will become the input of the second and so on.\n",
    "    </li>\n",
    "    <li>The recurrence steps is 20, that is, when our RNN is \"Unfolded\", the recurrence step is 20.</li>   \n",
    "    <li>the structure is like:\n",
    "        <ul>\n",
    "            <li>200 input units -> [200x200] Weight -> 200 Hidden units (first layer) -> [200x200] Weight matrix  -> 200 Hidden units (second layer) ->  [200] weight Matrix -> 200 unit output</li>\n",
    "        </ul>\n",
    "    </li>\n",
    "</ul>\n",
    "<br>\n",
    "\n",
    "Input layer: \n",
    "\n",
    "<ul>\n",
    "    <li>The network has 200 input units.</li>\n",
    "    <li>Suppose each word is represented by an embedding vector of dimensionality e=200. The input layer of each cell will have 200 linear units. These e=200 linear units are connected to each of the h=200 LSTM units in the hidden layer (assuming there is only one hidden layer, though our case has 2 layers).\n",
    "    </li>\n",
    "    <li>The input shape is [batch_size, num_steps], that is [30x20]. It will turn into [30x20x200] after embedding, and then 20x[30x200]\n",
    "    </li>\n",
    "</ul>\n",
    "<br>\n",
    "\n",
    "Hidden layer:\n",
    "\n",
    "<ul>\n",
    "    <li>Each LSTM has 200 hidden units which is equivalent to the dimensionality of the embedding words and output.</li>\n",
    "</ul>\n",
    "<br>\n"
   ]
  },
  {
   "cell_type": "markdown",
   "metadata": {
    "button": false,
    "deletable": true,
    "new_sheet": false,
    "run_control": {
     "read_only": false
    }
   },
   "source": [
    "There is a lot to be done and a ton of information to process at the same time, so go over this code slowly. It may seem complex at first, but if you try to apply what you just learned about language modelling to the code you see, you should be able to understand it.\n",
    "\n",
    "This code is adapted from the <a href=\"https://github.com/tensorflow/models\">PTBModel</a> example bundled with the TensorFlow source code.\n",
    "\n",
    "<h3>Training data</h3>\n",
    "The story starts from data:\n",
    "<ul>\n",
    "    <li>Train data is a list of words, of size 929589, represented by numbers, e.g. [9971, 9972, 9974, 9975,...]</li>\n",
    "    <li>We read data as mini-batch of size b=30. Assume the size of each sentence is 20 words (num_steps = 20). Then it will take $$floor(\\frac{N}{b \\times h})+1=1548$$ iterations for the learner to go through all sentences once. Where N is the size of the list of words, b is batch size, and h is size of each sentence. So, the number of iterators is 1548\n",
    "    </li>\n",
    "    <li>Each batch data is read from train dataset of size 600, and shape of [30x20]</li>\n",
    "</ul>\n"
   ]
  },
  {
   "cell_type": "code",
   "execution_count": 6,
   "metadata": {
    "button": false,
    "deletable": true,
    "new_sheet": false,
    "run_control": {
     "read_only": false
    }
   },
   "outputs": [],
   "source": [
    "# Reads the data and separates it into training data, validation data and testing data\n",
    "raw_data = reader.ptb_raw_data(data_dir)\n",
    "train_data, valid_data, test_data, vocab, word_to_id = raw_data"
   ]
  },
  {
   "cell_type": "code",
   "execution_count": 7,
   "metadata": {},
   "outputs": [
    {
     "data": {
      "text/plain": [
       "929589"
      ]
     },
     "execution_count": 7,
     "metadata": {},
     "output_type": "execute_result"
    }
   ],
   "source": [
    "len(train_data)"
   ]
  },
  {
   "cell_type": "code",
   "execution_count": 8,
   "metadata": {
    "tags": []
   },
   "outputs": [
    {
     "name": "stdout",
     "output_type": "stream",
     "text": [
      "['aer', 'banknote', 'berlitz', 'calloway', 'centrust', 'cluett', 'fromstein', 'gitano', 'guterman', 'hydro-quebec', 'ipo', 'kia', 'memotec', 'mlx', 'nahb', 'punts', 'rake', 'regatta', 'rubens', 'sim', 'snack-food', 'ssangyong', 'swapo', 'wachter', '<eos>', 'pierre', '<unk>', 'N', 'years', 'old', 'will', 'join', 'the', 'board', 'as', 'a', 'nonexecutive', 'director', 'nov.', 'N', '<eos>', 'mr.', '<unk>', 'is', 'chairman', 'of', '<unk>', 'n.v.', 'the', 'dutch', 'publishing', 'group', '<eos>', 'rudolph', '<unk>', 'N', 'years', 'old', 'and', 'former', 'chairman', 'of', 'consolidated', 'gold', 'fields', 'plc', 'was', 'named', 'a', 'nonexecutive', 'director', 'of', 'this', 'british', 'industrial', 'conglomerate', '<eos>', 'a', 'form', 'of', 'asbestos', 'once', 'used', 'to', 'make', 'kent', 'cigarette', 'filters', 'has', 'caused', 'a', 'high', 'percentage', 'of', 'cancer', 'deaths', 'among', 'a', 'group', 'of']\n"
     ]
    }
   ],
   "source": [
    "def id_to_word(id_list):\n",
    "    line = []\n",
    "    for w in id_list:\n",
    "        for word, wid in word_to_id.items():\n",
    "            if wid == w:\n",
    "                line.append(word)\n",
    "    return line            \n",
    "                \n",
    "\n",
    "print(id_to_word(train_data[0:100]))"
   ]
  },
  {
   "cell_type": "markdown",
   "metadata": {
    "button": false,
    "deletable": true,
    "new_sheet": false,
    "run_control": {
     "read_only": false
    }
   },
   "source": [
    "Lets just read one mini-batch now and feed our network:\n"
   ]
  },
  {
   "cell_type": "code",
   "execution_count": 9,
   "metadata": {
    "button": false,
    "deletable": true,
    "new_sheet": false,
    "run_control": {
     "read_only": false
    }
   },
   "outputs": [],
   "source": [
    "itera = reader.ptb_iterator(train_data, batch_size, num_steps)\n",
    "first_touple = itera.__next__()\n",
    "_input_data = first_touple[0]\n",
    "_targets = first_touple[1]"
   ]
  },
  {
   "cell_type": "code",
   "execution_count": 10,
   "metadata": {
    "button": false,
    "deletable": true,
    "new_sheet": false,
    "run_control": {
     "read_only": false
    }
   },
   "outputs": [
    {
     "data": {
      "text/plain": [
       "(30, 20)"
      ]
     },
     "execution_count": 10,
     "metadata": {},
     "output_type": "execute_result"
    }
   ],
   "source": [
    "_input_data.shape"
   ]
  },
  {
   "cell_type": "code",
   "execution_count": 11,
   "metadata": {},
   "outputs": [
    {
     "data": {
      "text/plain": [
       "(30, 20)"
      ]
     },
     "execution_count": 11,
     "metadata": {},
     "output_type": "execute_result"
    }
   ],
   "source": [
    "_targets.shape"
   ]
  },
  {
   "cell_type": "markdown",
   "metadata": {
    "button": false,
    "deletable": true,
    "new_sheet": false,
    "run_control": {
     "read_only": false
    }
   },
   "source": [
    "Lets look at 3 sentences of our input x:\n"
   ]
  },
  {
   "cell_type": "code",
   "execution_count": 12,
   "metadata": {
    "button": false,
    "deletable": true,
    "new_sheet": false,
    "run_control": {
     "read_only": false
    }
   },
   "outputs": [
    {
     "data": {
      "text/plain": [
       "array([[9970, 9971, 9972, 9974, 9975, 9976, 9980, 9981, 9982, 9983, 9984,\n",
       "        9986, 9987, 9988, 9989, 9991, 9992, 9993, 9994, 9995],\n",
       "       [2654,    6,  334, 2886,    4,    1,  233,  711,  834,   11,  130,\n",
       "         123,    7,  514,    2,   63,   10,  514,    8,  605],\n",
       "       [   0, 1071,    4,    0,  185,   24,  368,   20,   31, 3109,  954,\n",
       "          12,    3,   21,    2, 2915,    2,   12,    3,   21]],\n",
       "      dtype=int32)"
      ]
     },
     "execution_count": 12,
     "metadata": {},
     "output_type": "execute_result"
    }
   ],
   "source": [
    "_input_data[0:3]"
   ]
  },
  {
   "cell_type": "code",
   "execution_count": 13,
   "metadata": {},
   "outputs": [
    {
     "name": "stdout",
     "output_type": "stream",
     "text": [
      "['aer', 'banknote', 'berlitz', 'calloway', 'centrust', 'cluett', 'fromstein', 'gitano', 'guterman', 'hydro-quebec', 'ipo', 'kia', 'memotec', 'mlx', 'nahb', 'punts', 'rake', 'regatta', 'rubens', 'sim']\n"
     ]
    }
   ],
   "source": [
    "print(id_to_word(_input_data[0,:]))"
   ]
  },
  {
   "cell_type": "markdown",
   "metadata": {
    "button": false,
    "deletable": true,
    "new_sheet": false,
    "run_control": {
     "read_only": false
    }
   },
   "source": [
    "<h3>Embeddings</h3>\n",
    "We have to convert the words in our dataset to vectors of numbers. The traditional approach is to use one-hot encoding method that is usually used for converting categorical values to numerical values. However, One-hot encoded vectors are high-dimensional, sparse and in a big dataset, computationally inefficient. So, we use word2vec approach. It is, in fact, a layer in our LSTM network, where the word IDs will be represented as a dense representation before feeding to the LSTM. \n",
    "\n",
    "The embedded vectors also get updated during the training process of the deep neural network.\n",
    "We create the embeddings for our input data. <b>embedding_vocab</b> is matrix of [10000x200] for all 10000 unique words.\n"
   ]
  },
  {
   "cell_type": "markdown",
   "metadata": {
    "button": false,
    "deletable": true,
    "new_sheet": false,
    "run_control": {
     "read_only": false
    }
   },
   "source": [
    "<b>embedding_lookup()</b> finds the embedded values for our batch of 30x20 words. It  goes to each row of <code>input_data</code>, and for each word in the row/sentence, finds the correspond vector in <code>embedding_dic<code>. <br>\n",
    "It creates a [30x20x200] tensor, so, the first element of <b>inputs</b> (the first sentence), is a matrix of 20x200, which each row of it, is vector representing a word in the sentence.\n"
   ]
  },
  {
   "cell_type": "code",
   "execution_count": 14,
   "metadata": {},
   "outputs": [],
   "source": [
    "embedding_layer = tf.keras.layers.Embedding(vocab_size, embeding_vector_size,batch_input_shape=(batch_size, num_steps),trainable=True,name=\"embedding_vocab\")  "
   ]
  },
  {
   "cell_type": "code",
   "execution_count": 15,
   "metadata": {},
   "outputs": [
    {
     "data": {
      "text/plain": [
       "<tf.Tensor: shape=(30, 20, 200), dtype=float32, numpy=\n",
       "array([[[ 0.0312123 ,  0.03557506, -0.03088082, ...,  0.02908267,\n",
       "         -0.03192244,  0.04948318],\n",
       "        [ 0.04532535, -0.04264742, -0.04846119, ...,  0.03687334,\n",
       "          0.00392985, -0.03895605],\n",
       "        [ 0.02547996, -0.00283909,  0.04654768, ...,  0.00327761,\n",
       "         -0.0137346 , -0.02548966],\n",
       "        ...,\n",
       "        [-0.00986096,  0.01721499, -0.03293607, ..., -0.00061907,\n",
       "          0.03049317, -0.04257082],\n",
       "        [-0.00952858,  0.01023089, -0.04007186, ..., -0.00799159,\n",
       "         -0.02685869, -0.03559138],\n",
       "        [ 0.00563543, -0.03163125, -0.01093016, ...,  0.04957451,\n",
       "         -0.0297281 ,  0.04456358]],\n",
       "\n",
       "       [[-0.04623143,  0.03771091,  0.0114296 , ...,  0.03472434,\n",
       "         -0.02924546, -0.02194013],\n",
       "        [-0.01899126,  0.01403506,  0.01754468, ..., -0.03305899,\n",
       "         -0.04519435, -0.02632834],\n",
       "        [ 0.03045628, -0.00300882,  0.00580678, ..., -0.02575625,\n",
       "         -0.0470576 , -0.02087164],\n",
       "        ...,\n",
       "        [-0.03762698,  0.01651004, -0.02167296, ..., -0.04264673,\n",
       "          0.04440612,  0.02670895],\n",
       "        [ 0.04792496, -0.0347346 , -0.04641465, ..., -0.02093338,\n",
       "         -0.00805729, -0.04412239],\n",
       "        [-0.04067311,  0.01141439, -0.04014533, ..., -0.03416719,\n",
       "         -0.03510095, -0.01304752]],\n",
       "\n",
       "       [[ 0.04301501, -0.04030168,  0.04464073, ...,  0.04315894,\n",
       "          0.00745821, -0.00765562],\n",
       "        [-0.02214943, -0.02386593,  0.01313675, ...,  0.00354521,\n",
       "          0.0337565 , -0.03369683],\n",
       "        [-0.02790365, -0.00044701, -0.04151784, ...,  0.0414846 ,\n",
       "         -0.00532037, -0.00644565],\n",
       "        ...,\n",
       "        [ 0.02046858, -0.00363781, -0.048085  , ...,  0.01598303,\n",
       "          0.04777826, -0.03884109],\n",
       "        [ 0.02085093,  0.01540513, -0.04579505, ..., -0.0131299 ,\n",
       "         -0.00611533, -0.01099594],\n",
       "        [ 0.03266474,  0.03561104, -0.00924646, ..., -0.04016126,\n",
       "          0.00546304, -0.03936598]],\n",
       "\n",
       "       ...,\n",
       "\n",
       "       [[ 0.02912339,  0.00477021, -0.01922911, ..., -0.03117133,\n",
       "         -0.00142704, -0.03219058],\n",
       "        [ 0.00306127, -0.00841464, -0.02293662, ..., -0.0179278 ,\n",
       "          0.03443019, -0.039684  ],\n",
       "        [ 0.00047672, -0.04040448, -0.0372353 , ..., -0.03370669,\n",
       "         -0.0091126 ,  0.00848105],\n",
       "        ...,\n",
       "        [ 0.02821792, -0.042414  , -0.04440314, ...,  0.04919812,\n",
       "         -0.01096792, -0.02741164],\n",
       "        [ 0.04959463, -0.04907457,  0.00737805, ..., -0.0156479 ,\n",
       "          0.03074402, -0.02115853],\n",
       "        [-0.00135878,  0.02635571,  0.00306954, ..., -0.0477618 ,\n",
       "          0.02681932, -0.03622452]],\n",
       "\n",
       "       [[-0.03158452,  0.02961132,  0.04778614, ...,  0.02615749,\n",
       "         -0.04477624, -0.00489733],\n",
       "        [-0.0395462 , -0.01545282,  0.04329452, ...,  0.01361778,\n",
       "         -0.01822052, -0.02383648],\n",
       "        [-0.02790365, -0.00044701, -0.04151784, ...,  0.0414846 ,\n",
       "         -0.00532037, -0.00644565],\n",
       "        ...,\n",
       "        [ 0.04554117, -0.0466398 , -0.00081218, ...,  0.01390995,\n",
       "         -0.01277738,  0.03796685],\n",
       "        [-0.01899126,  0.01403506,  0.01754468, ..., -0.03305899,\n",
       "         -0.04519435, -0.02632834],\n",
       "        [-0.01186612, -0.02337682,  0.01413107, ...,  0.02609433,\n",
       "         -0.03970955,  0.04032988]],\n",
       "\n",
       "       [[ 0.02267421,  0.01550606,  0.04148592, ..., -0.03520631,\n",
       "          0.04016172, -0.02487764],\n",
       "        [-0.03970926, -0.0151327 ,  0.01572526, ..., -0.02363097,\n",
       "         -0.01389696,  0.03554692],\n",
       "        [-0.00102464, -0.02842224,  0.03609841, ...,  0.03517779,\n",
       "          0.00566131, -0.02061589],\n",
       "        ...,\n",
       "        [ 0.03602251,  0.02895271,  0.01088163, ...,  0.00536276,\n",
       "         -0.00566619, -0.0427979 ],\n",
       "        [ 0.01091156,  0.00177162,  0.01890415, ..., -0.00288087,\n",
       "          0.0133862 ,  0.01312567],\n",
       "        [-0.04651021,  0.02377566, -0.04327559, ..., -0.04078828,\n",
       "         -0.00134871, -0.01033885]]], dtype=float32)>"
      ]
     },
     "execution_count": 15,
     "metadata": {},
     "output_type": "execute_result"
    }
   ],
   "source": [
    "# Define where to get the data for our embeddings from\n",
    "inputs = embedding_layer(_input_data)\n",
    "inputs"
   ]
  },
  {
   "cell_type": "markdown",
   "metadata": {},
   "source": [
    "<h3>Constructing Recurrent Neural Networks</h3>\n"
   ]
  },
  {
   "cell_type": "markdown",
   "metadata": {
    "button": false,
    "deletable": true,
    "new_sheet": false,
    "run_control": {
     "read_only": false
    }
   },
   "source": [
    "In this step, we create the stacked LSTM using <b>tf.keras.layers.StackedRNNCells</b>, which is a 2 layer LSTM network:\n"
   ]
  },
  {
   "cell_type": "code",
   "execution_count": 16,
   "metadata": {},
   "outputs": [],
   "source": [
    "lstm_cell_l1 = tf.keras.layers.LSTMCell(hidden_size_l1)\n",
    "lstm_cell_l2 = tf.keras.layers.LSTMCell(hidden_size_l2)"
   ]
  },
  {
   "cell_type": "code",
   "execution_count": 17,
   "metadata": {
    "button": false,
    "deletable": true,
    "new_sheet": false,
    "run_control": {
     "read_only": false
    }
   },
   "outputs": [],
   "source": [
    "stacked_lstm = tf.keras.layers.StackedRNNCells([lstm_cell_l1, lstm_cell_l2])"
   ]
  },
  {
   "cell_type": "markdown",
   "metadata": {},
   "source": [
    "<b>tf.keras.layers.RNN</b> creates a recurrent neural network using <b>stacked_lstm</b>. \n",
    "\n",
    "The input should be a Tensor of shape: [batch_size, max_time, embedding_vector_size], in our case it would be (30, 20, 200)\n"
   ]
  },
  {
   "cell_type": "code",
   "execution_count": 18,
   "metadata": {},
   "outputs": [],
   "source": [
    "layer  =  tf.keras.layers.RNN(stacked_lstm,[batch_size, num_steps],return_state=False,stateful=True,trainable=True)"
   ]
  },
  {
   "cell_type": "markdown",
   "metadata": {
    "button": false,
    "deletable": true,
    "new_sheet": false,
    "run_control": {
     "read_only": false
    }
   },
   "source": [
    "Also, we initialize the states of the nework:\n",
    "\n",
    "<h4>_initial_state</h4>\n",
    "\n",
    "For each LSTM, there are 2 state matrices, c_state and m_state.  c_state and m_state represent \"Memory State\" and \"Cell State\". Each hidden layer, has a vector of size 30, which keeps the states. so, for 200 hidden units in each LSTM, we have a matrix of size [30x200]\n"
   ]
  },
  {
   "cell_type": "code",
   "execution_count": 19,
   "metadata": {},
   "outputs": [],
   "source": [
    "init_state = tf.Variable(tf.zeros([batch_size,embeding_vector_size]),trainable=False)"
   ]
  },
  {
   "cell_type": "code",
   "execution_count": 20,
   "metadata": {},
   "outputs": [],
   "source": [
    "layer.inital_state = init_state"
   ]
  },
  {
   "cell_type": "code",
   "execution_count": 21,
   "metadata": {},
   "outputs": [
    {
     "data": {
      "text/plain": [
       "<tf.Variable 'Variable:0' shape=(30, 200) dtype=float32, numpy=\n",
       "array([[0., 0., 0., ..., 0., 0., 0.],\n",
       "       [0., 0., 0., ..., 0., 0., 0.],\n",
       "       [0., 0., 0., ..., 0., 0., 0.],\n",
       "       ...,\n",
       "       [0., 0., 0., ..., 0., 0., 0.],\n",
       "       [0., 0., 0., ..., 0., 0., 0.],\n",
       "       [0., 0., 0., ..., 0., 0., 0.]], dtype=float32)>"
      ]
     },
     "execution_count": 21,
     "metadata": {},
     "output_type": "execute_result"
    }
   ],
   "source": [
    "layer.inital_state"
   ]
  },
  {
   "cell_type": "markdown",
   "metadata": {},
   "source": [
    "so, lets look at the outputs. The output of the stackedLSTM comes from 128 hidden_layer, and in each time step(=20), one of them get activated. we use the linear activation to map the 128 hidden layer to a [30X20 matrix]\n"
   ]
  },
  {
   "cell_type": "code",
   "execution_count": 22,
   "metadata": {},
   "outputs": [],
   "source": [
    "outputs = layer(inputs)"
   ]
  },
  {
   "cell_type": "code",
   "execution_count": 23,
   "metadata": {},
   "outputs": [
    {
     "data": {
      "text/plain": [
       "<tf.Tensor: shape=(30, 20, 128), dtype=float32, numpy=\n",
       "array([[[-1.10201050e-04, -1.09978871e-04,  6.63025945e-04, ...,\n",
       "         -1.18914223e-03, -1.34615824e-04,  1.81303243e-03],\n",
       "        [-3.13163735e-04, -8.91720760e-04,  3.17541766e-03, ...,\n",
       "         -1.78161426e-03, -9.83810052e-04,  3.91287403e-03],\n",
       "        [-4.66085126e-04, -1.68762659e-03,  4.11975617e-03, ...,\n",
       "         -2.91752000e-03, -1.30366709e-03,  4.18297388e-03],\n",
       "        ...,\n",
       "        [-7.91593175e-03,  1.70396664e-03, -4.15817276e-03, ...,\n",
       "         -3.14556714e-03,  2.89989403e-04, -7.54730077e-04],\n",
       "        [-7.74140935e-03,  1.06813351e-03, -4.78698639e-03, ...,\n",
       "         -3.47245485e-03,  1.42192119e-03, -4.54319845e-04],\n",
       "        [-7.47768814e-03,  7.59690593e-04, -3.92318284e-03, ...,\n",
       "         -3.26682045e-03,  1.64576736e-03, -1.70409924e-03]],\n",
       "\n",
       "       [[-7.48341088e-04,  6.12373115e-04,  7.67554913e-04, ...,\n",
       "          1.06774573e-03, -6.74102164e-04, -3.76186857e-04],\n",
       "        [-1.89429114e-03,  6.63709769e-04,  8.12816201e-04, ...,\n",
       "          2.83310399e-03, -2.06291021e-04, -1.02542690e-05],\n",
       "        [-1.58107386e-03,  2.39225500e-03,  1.28629807e-04, ...,\n",
       "          4.88248095e-03,  5.27836208e-04,  9.75536823e-04],\n",
       "        ...,\n",
       "        [ 2.26067656e-04,  2.75552296e-03, -1.80335809e-03, ...,\n",
       "          6.20260881e-03,  1.12873521e-02, -1.72731525e-03],\n",
       "        [-1.58116181e-05,  3.00854631e-03, -2.48169131e-03, ...,\n",
       "          6.11642748e-03,  1.04979500e-02, -2.59909453e-03],\n",
       "        [-2.94171768e-04,  2.74377223e-03, -3.43654817e-03, ...,\n",
       "          7.29770306e-03,  9.52717382e-03, -3.35893058e-03]],\n",
       "\n",
       "       [[ 3.57392593e-04,  1.68407825e-03, -5.12095809e-04, ...,\n",
       "          2.51776713e-04, -3.20179068e-04, -4.93398577e-04],\n",
       "        [ 3.89940455e-04,  2.44958000e-03, -2.37946995e-04, ...,\n",
       "         -4.50968219e-04, -1.35345396e-03, -9.85468272e-04],\n",
       "        [ 1.83696300e-03,  3.52591695e-03, -2.76478706e-04, ...,\n",
       "          1.12173526e-04, -1.22029881e-03, -3.75128398e-03],\n",
       "        ...,\n",
       "        [ 2.17467663e-03,  6.64252415e-03,  1.13787607e-03, ...,\n",
       "          1.84621476e-03, -2.81456742e-03,  2.64543039e-03],\n",
       "        [ 1.52601942e-03,  5.47434436e-03,  1.59089119e-04, ...,\n",
       "          1.23969989e-03, -8.99241131e-04,  2.04148353e-03],\n",
       "        [ 2.72231409e-03,  4.55565099e-03,  7.95760658e-04, ...,\n",
       "         -3.31611984e-04, -1.55707006e-04,  1.47712196e-03]],\n",
       "\n",
       "       ...,\n",
       "\n",
       "       [[-1.47255382e-03,  1.28981448e-03, -1.38943654e-03, ...,\n",
       "          1.69130901e-04,  4.03700396e-04,  1.77439695e-04],\n",
       "        [-1.09748833e-03,  3.74781527e-03, -1.98331545e-03, ...,\n",
       "          3.34578363e-04,  8.31127836e-05,  3.48097557e-04],\n",
       "        [-1.06850336e-03,  4.76802932e-03, -2.30091112e-03, ...,\n",
       "          1.96742639e-03,  8.74500780e-04,  1.26997591e-03],\n",
       "        ...,\n",
       "        [ 2.33176653e-03, -4.17588075e-04, -3.06438585e-03, ...,\n",
       "         -9.95561830e-04,  5.78963524e-03, -5.25733782e-03],\n",
       "        [ 1.01115897e-04, -9.16579564e-04, -1.12920208e-03, ...,\n",
       "          1.19884685e-03,  3.78773268e-03, -3.90891219e-03],\n",
       "        [-8.75526690e-04, -1.98067585e-03,  4.15095506e-04, ...,\n",
       "          1.86703063e-03,  1.01010874e-03, -1.68836198e-03]],\n",
       "\n",
       "       [[ 1.90556268e-04,  5.48597891e-04,  1.52094080e-03, ...,\n",
       "          9.10329400e-04,  5.61893685e-04,  4.99195477e-04],\n",
       "        [ 1.48768921e-03,  1.80131046e-03,  2.17860541e-03, ...,\n",
       "          2.39465060e-03, -3.39063554e-04,  5.43948030e-04],\n",
       "        [ 3.76999122e-03,  3.04360106e-03,  2.41778651e-03, ...,\n",
       "          3.79912416e-03, -3.92610527e-04, -2.47207237e-03],\n",
       "        ...,\n",
       "        [-2.42952723e-03,  6.86434098e-04,  3.89729347e-03, ...,\n",
       "          3.84417851e-03, -8.30575451e-03, -4.94502427e-04],\n",
       "        [-3.47171049e-03,  9.80125624e-04,  4.46439022e-03, ...,\n",
       "          4.90185851e-03, -7.55627220e-03,  9.27674235e-04],\n",
       "        [-4.61685192e-03,  1.78021588e-03,  5.37270540e-03, ...,\n",
       "          6.78690802e-03, -6.00346923e-03,  2.67849793e-03]],\n",
       "\n",
       "       [[-7.82004790e-04,  8.87232833e-04, -1.84724078e-04, ...,\n",
       "          4.33299225e-04,  5.29456360e-04, -1.66725862e-04],\n",
       "        [-5.51979814e-04,  7.00040255e-04, -3.73132672e-04, ...,\n",
       "          1.44921374e-04,  2.78813625e-03, -9.84367798e-04],\n",
       "        [-7.53108412e-04,  6.02775952e-04, -1.06976682e-03, ...,\n",
       "          7.20225915e-04,  4.18562302e-03, -1.45906943e-03],\n",
       "        ...,\n",
       "        [-7.42998067e-03, -1.22279616e-03,  3.82777350e-03, ...,\n",
       "          7.06880214e-03, -3.72589473e-03,  9.67641175e-03],\n",
       "        [-9.42475442e-03,  2.09446051e-04,  2.29300885e-03, ...,\n",
       "          7.35651376e-03, -3.00943293e-03,  8.97606462e-03],\n",
       "        [-9.19240806e-03,  1.31255039e-03,  1.06391695e-03, ...,\n",
       "          7.28378585e-03, -1.60572224e-03,  6.97801681e-03]]],\n",
       "      dtype=float32)>"
      ]
     },
     "execution_count": 23,
     "metadata": {},
     "output_type": "execute_result"
    }
   ],
   "source": [
    "outputs"
   ]
  },
  {
   "cell_type": "markdown",
   "metadata": {
    "button": false,
    "deletable": true,
    "new_sheet": false,
    "run_control": {
     "read_only": false
    }
   },
   "source": [
    "<h2>Dense layer</h2>\n",
    "We now create densely-connected neural network layer that would reshape the outputs tensor from  [30 x 20 x 128] to [30 x 20 x 10000].\n"
   ]
  },
  {
   "cell_type": "code",
   "execution_count": 24,
   "metadata": {},
   "outputs": [],
   "source": [
    "dense = tf.keras.layers.Dense(vocab_size)"
   ]
  },
  {
   "cell_type": "code",
   "execution_count": 25,
   "metadata": {},
   "outputs": [],
   "source": [
    "logits_outputs  = dense(outputs)"
   ]
  },
  {
   "cell_type": "code",
   "execution_count": 26,
   "metadata": {},
   "outputs": [
    {
     "name": "stdout",
     "output_type": "stream",
     "text": [
      "shape of the output from dense layer:  (30, 20, 10000)\n"
     ]
    }
   ],
   "source": [
    "print(\"shape of the output from dense layer: \", logits_outputs.shape) #(batch_size, sequence_length, vocab_size)"
   ]
  },
  {
   "cell_type": "markdown",
   "metadata": {},
   "source": [
    "<h2>Activation layer</h2>\n",
    "\n",
    "A softmax activation layers is also then applied to derive the probability of the output being in any of the multiclass(10000 in this case) possibilities. \n"
   ]
  },
  {
   "cell_type": "code",
   "execution_count": 27,
   "metadata": {},
   "outputs": [],
   "source": [
    "activation = tf.keras.layers.Activation('softmax')"
   ]
  },
  {
   "cell_type": "code",
   "execution_count": 28,
   "metadata": {},
   "outputs": [],
   "source": [
    "output_words_prob = activation(logits_outputs)"
   ]
  },
  {
   "cell_type": "code",
   "execution_count": 29,
   "metadata": {},
   "outputs": [
    {
     "name": "stdout",
     "output_type": "stream",
     "text": [
      "shape of the output from the activation layer:  (30, 20, 10000)\n"
     ]
    }
   ],
   "source": [
    "print(\"shape of the output from the activation layer: \", output_words_prob.shape) #(batch_size, sequence_length, vocab_size)"
   ]
  },
  {
   "cell_type": "markdown",
   "metadata": {},
   "source": [
    "Lets look at the probability of observing words for t=0 to t=20:\n"
   ]
  },
  {
   "cell_type": "code",
   "execution_count": 30,
   "metadata": {},
   "outputs": [
    {
     "name": "stdout",
     "output_type": "stream",
     "text": [
      "The probability of observing words in t=0 to t=20 tf.Tensor(\n",
      "[[9.99951808e-05 1.00001947e-04 9.99986805e-05 ... 1.00008205e-04\n",
      "  9.99917902e-05 1.00007353e-04]\n",
      " [1.00010016e-04 1.00038422e-04 1.00008634e-04 ... 1.00034980e-04\n",
      "  9.99737531e-05 1.00030920e-04]\n",
      " [1.00022138e-04 1.00038349e-04 1.00035220e-04 ... 1.00059166e-04\n",
      "  9.99454860e-05 1.00037330e-04]\n",
      " ...\n",
      " [9.99763433e-05 1.00002093e-04 9.99468830e-05 ... 1.00052974e-04\n",
      "  9.99715994e-05 1.00050020e-04]\n",
      " [9.99688928e-05 9.99932308e-05 9.99566182e-05 ... 1.00058060e-04\n",
      "  9.99677868e-05 1.00034238e-04]\n",
      " [9.99781405e-05 1.00008445e-04 9.99793701e-05 ... 1.00041216e-04\n",
      "  9.99577605e-05 1.00031240e-04]], shape=(20, 10000), dtype=float32)\n"
     ]
    }
   ],
   "source": [
    "print(\"The probability of observing words in t=0 to t=20\", output_words_prob[0,0:num_steps])"
   ]
  },
  {
   "cell_type": "markdown",
   "metadata": {
    "button": false,
    "deletable": true,
    "new_sheet": false,
    "run_control": {
     "read_only": false
    }
   },
   "source": [
    "<h3>Prediction</h3>\n",
    "What is the word correspond to the probability output? Lets use the maximum probability:\n"
   ]
  },
  {
   "cell_type": "code",
   "execution_count": 31,
   "metadata": {},
   "outputs": [
    {
     "data": {
      "text/plain": [
       "array([1302, 4657, 5939, 5939, 5030, 9577, 9577, 6112, 1084, 2802, 3388,\n",
       "       3388, 3388, 8640, 8640, 4346, 2932, 2164, 3121, 3121])"
      ]
     },
     "execution_count": 31,
     "metadata": {},
     "output_type": "execute_result"
    }
   ],
   "source": [
    "np.argmax(output_words_prob[0,0:num_steps], axis=1)"
   ]
  },
  {
   "cell_type": "markdown",
   "metadata": {
    "button": false,
    "deletable": true,
    "new_sheet": false,
    "run_control": {
     "read_only": false
    }
   },
   "source": [
    "So, what is the ground truth for the first word of first sentence? You can get it from target tensor, if you want to find the embedding vector: \n"
   ]
  },
  {
   "cell_type": "code",
   "execution_count": 32,
   "metadata": {
    "button": false,
    "deletable": true,
    "new_sheet": false,
    "run_control": {
     "read_only": false
    }
   },
   "outputs": [
    {
     "data": {
      "text/plain": [
       "array([9971, 9972, 9974, 9975, 9976, 9980, 9981, 9982, 9983, 9984, 9986,\n",
       "       9987, 9988, 9989, 9991, 9992, 9993, 9994, 9995, 9996], dtype=int32)"
      ]
     },
     "execution_count": 32,
     "metadata": {},
     "output_type": "execute_result"
    }
   ],
   "source": [
    "_targets[0]"
   ]
  },
  {
   "cell_type": "markdown",
   "metadata": {
    "button": false,
    "new_sheet": false,
    "run_control": {
     "read_only": false
    }
   },
   "source": [
    "<h4>Objective function</h4>\n",
    "\n",
    "How similar the predicted words are to the target words?\n",
    "\n",
    "Now we have to define our objective function, to calculate the similarity of predicted values to ground truth, and then, penalize the model with the error. Our objective is to minimize loss function, that is, to minimize the average negative log probability of the target words:\n",
    "\n",
    "$$\\text{loss} = -\\frac{1}{N}\\sum_{i=1}^{N} \\ln p_{\\text{target}_i}$$\n",
    "\n",
    "This function is already implemented and available in TensorFlow through _tf.keras.losses.sparse_categorical_crossentropy_. It calculates the categorical cross-entropy loss for <b>logits</b> and the <b>target</b> sequence.  \n",
    "\n",
    "The arguments of this function are:  \n",
    "\n",
    "<ul>\n",
    "    <li>logits: List of 2D Tensors of shape [batch_size x num_decoder_symbols].</li>  \n",
    "    <li>targets: List of 1D batch-sized int32 Tensors of the same length as logits.</li>   \n",
    "</ul>\n"
   ]
  },
  {
   "cell_type": "code",
   "execution_count": 33,
   "metadata": {},
   "outputs": [],
   "source": [
    "def crossentropy(y_true, y_pred):\n",
    "    return tf.keras.losses.sparse_categorical_crossentropy(y_true, y_pred)"
   ]
  },
  {
   "cell_type": "code",
   "execution_count": 34,
   "metadata": {},
   "outputs": [],
   "source": [
    "loss  = crossentropy(_targets, output_words_prob)"
   ]
  },
  {
   "cell_type": "markdown",
   "metadata": {
    "button": false,
    "new_sheet": false,
    "run_control": {
     "read_only": false
    }
   },
   "source": [
    "Lets look at the first 10 values of loss:\n"
   ]
  },
  {
   "cell_type": "code",
   "execution_count": 35,
   "metadata": {},
   "outputs": [
    {
     "data": {
      "text/plain": [
       "<tf.Tensor: shape=(10,), dtype=float32, numpy=\n",
       "array([9.210373 , 9.210375 , 9.2104225, 9.210113 , 9.210952 , 9.210334 ,\n",
       "       9.210534 , 9.210702 , 9.210186 , 9.210328 ], dtype=float32)>"
      ]
     },
     "execution_count": 35,
     "metadata": {},
     "output_type": "execute_result"
    }
   ],
   "source": [
    "loss[0,:10]"
   ]
  },
  {
   "cell_type": "markdown",
   "metadata": {},
   "source": [
    "Now, we define cost as average of the losses:\n"
   ]
  },
  {
   "cell_type": "code",
   "execution_count": 36,
   "metadata": {},
   "outputs": [
    {
     "data": {
      "text/plain": [
       "<tf.Tensor: shape=(), dtype=float32, numpy=184.20679>"
      ]
     },
     "execution_count": 36,
     "metadata": {},
     "output_type": "execute_result"
    }
   ],
   "source": [
    "cost = tf.reduce_sum(loss / batch_size)\n",
    "cost"
   ]
  },
  {
   "cell_type": "markdown",
   "metadata": {
    "button": false,
    "deletable": true,
    "new_sheet": false,
    "run_control": {
     "read_only": false
    }
   },
   "source": [
    "<h3>Training</h3>\n",
    "\n",
    "To do training for our network, we have to take the following steps:\n",
    "\n",
    "<ol>\n",
    "    <li>Define the optimizer.</li>\n",
    "    <li>Assemble layers to build model.</li>\n",
    "    <li>Calculate the gradients based on the loss function.</li>\n",
    "    <li>Apply the optimizer to the variables/gradients tuple.</li>\n",
    "</ol>\n"
   ]
  },
  {
   "cell_type": "markdown",
   "metadata": {
    "button": false,
    "deletable": true,
    "new_sheet": false,
    "run_control": {
     "read_only": false
    }
   },
   "source": [
    "<h4>1. Define Optimizer</h4>\n"
   ]
  },
  {
   "cell_type": "code",
   "execution_count": 37,
   "metadata": {},
   "outputs": [],
   "source": [
    "# Create a variable for the learning rate\n",
    "lr = tf.Variable(0.0, trainable=False)\n",
    "optimizer = tf.keras.optimizers.SGD(lr=lr, clipnorm=max_grad_norm)"
   ]
  },
  {
   "cell_type": "markdown",
   "metadata": {},
   "source": [
    "<h4>2. Assemble layers to build model.</h4>\n"
   ]
  },
  {
   "cell_type": "code",
   "execution_count": 38,
   "metadata": {},
   "outputs": [
    {
     "name": "stdout",
     "output_type": "stream",
     "text": [
      "Model: \"sequential\"\n",
      "_________________________________________________________________\n",
      "Layer (type)                 Output Shape              Param #   \n",
      "=================================================================\n",
      "embedding_vocab (Embedding)  (30, 20, 200)             2000000   \n",
      "_________________________________________________________________\n",
      "rnn (RNN)                    (30, 20, 128)             671088    \n",
      "_________________________________________________________________\n",
      "dense (Dense)                (30, 20, 10000)           1290000   \n",
      "_________________________________________________________________\n",
      "activation (Activation)      (30, 20, 10000)           0         \n",
      "=================================================================\n",
      "Total params: 3,961,088\n",
      "Trainable params: 3,955,088\n",
      "Non-trainable params: 6,000\n",
      "_________________________________________________________________\n"
     ]
    }
   ],
   "source": [
    "model = tf.keras.Sequential()\n",
    "model.add(embedding_layer)\n",
    "model.add(layer)\n",
    "model.add(dense)\n",
    "model.add(activation)\n",
    "model.compile(loss=crossentropy, optimizer=optimizer)\n",
    "model.summary()"
   ]
  },
  {
   "cell_type": "markdown",
   "metadata": {
    "button": false,
    "new_sheet": false,
    "run_control": {
     "read_only": false
    }
   },
   "source": [
    "<h4>2. Trainable Variables</h4>\n"
   ]
  },
  {
   "cell_type": "markdown",
   "metadata": {
    "button": false,
    "new_sheet": false,
    "run_control": {
     "read_only": false
    }
   },
   "source": [
    "Defining a variable, if you passed <i>trainable=True</i>, the variable constructor automatically adds new variables to the graph collection <b>GraphKeys.TRAINABLE_VARIABLES</b>. Now, using <i>tf.trainable_variables()</i> you can get all variables created with <b>trainable=True</b>.\n"
   ]
  },
  {
   "cell_type": "code",
   "execution_count": 39,
   "metadata": {
    "button": false,
    "new_sheet": false,
    "run_control": {
     "read_only": false
    }
   },
   "outputs": [],
   "source": [
    "# Get all TensorFlow variables marked as \"trainable\" (i.e. all of them except _lr, which we just created)\n",
    "tvars = model.trainable_variables"
   ]
  },
  {
   "cell_type": "markdown",
   "metadata": {
    "button": false,
    "new_sheet": false,
    "run_control": {
     "read_only": false
    }
   },
   "source": [
    "Note: we can find the name and scope of all variables:\n"
   ]
  },
  {
   "cell_type": "code",
   "execution_count": 40,
   "metadata": {
    "button": false,
    "new_sheet": false,
    "run_control": {
     "read_only": false
    }
   },
   "outputs": [
    {
     "data": {
      "text/plain": [
       "['embedding_vocab/embeddings:0',\n",
       " 'rnn/stacked_rnn_cells/lstm_cell/kernel:0',\n",
       " 'rnn/stacked_rnn_cells/lstm_cell/recurrent_kernel:0',\n",
       " 'rnn/stacked_rnn_cells/lstm_cell/bias:0',\n",
       " 'rnn/stacked_rnn_cells/lstm_cell_1/kernel:0',\n",
       " 'rnn/stacked_rnn_cells/lstm_cell_1/recurrent_kernel:0',\n",
       " 'rnn/stacked_rnn_cells/lstm_cell_1/bias:0',\n",
       " 'dense/kernel:0',\n",
       " 'dense/bias:0']"
      ]
     },
     "execution_count": 40,
     "metadata": {},
     "output_type": "execute_result"
    }
   ],
   "source": [
    "[v.name for v in tvars] "
   ]
  },
  {
   "cell_type": "markdown",
   "metadata": {
    "button": false,
    "new_sheet": false,
    "run_control": {
     "read_only": false
    }
   },
   "source": [
    "<h4>3. Calculate the gradients based on the loss function</h4>\n"
   ]
  },
  {
   "cell_type": "markdown",
   "metadata": {
    "button": false,
    "deletable": true,
    "new_sheet": false,
    "run_control": {
     "read_only": false
    }
   },
   "source": [
    "**Gradient**: The gradient of a function is the slope of its derivative (line), or in other words, the rate of change of a function. It's a vector (a direction to move) that points in the direction of greatest increase of the function, and calculated by the <b>derivative</b> operation.\n"
   ]
  },
  {
   "cell_type": "markdown",
   "metadata": {},
   "source": [
    "First lets recall the gradient function using an toy example:\n",
    "$$ z = \\left(2x^2 + 3xy\\right)$$\n"
   ]
  },
  {
   "cell_type": "code",
   "execution_count": 41,
   "metadata": {},
   "outputs": [],
   "source": [
    "x = tf.constant(1.0)\n",
    "y =  tf.constant(2.0)\n",
    "with tf.GradientTape(persistent=True) as g:\n",
    "    g.watch(x)\n",
    "    g.watch(y)\n",
    "    func_test = 2 * x * x + 3 * x * y"
   ]
  },
  {
   "cell_type": "markdown",
   "metadata": {},
   "source": [
    "The <b>tf.gradients()</b> function allows you to compute the symbolic gradient of one tensor with respect to one or more other tensors—including variables. <b>tf.gradients(func, xs)</b> constructs symbolic partial derivatives of sum of <b>func</b> w.r.t. <i>x</i> in <b>xs</b>. \n",
    "\n",
    "Now, lets look at the derivitive w.r.t. <b>var_x</b>:\n",
    "$$ \\frac{\\partial \\:}{\\partial \\:x}\\left(2x^2 + 3xy\\right) = 4x + 3y $$\n"
   ]
  },
  {
   "cell_type": "code",
   "execution_count": 42,
   "metadata": {},
   "outputs": [
    {
     "name": "stdout",
     "output_type": "stream",
     "text": [
      "tf.Tensor(10.0, shape=(), dtype=float32)\n"
     ]
    }
   ],
   "source": [
    "var_grad = g.gradient(func_test, x) # Will compute to 10.0\n",
    "print(var_grad)"
   ]
  },
  {
   "cell_type": "markdown",
   "metadata": {},
   "source": [
    "the derivative w.r.t. <b>var_y</b>:\n",
    "$$ \\frac{\\partial \\:}{\\partial \\:y}\\left(2x^2 + 3xy\\right) = 3x $$\n"
   ]
  },
  {
   "cell_type": "code",
   "execution_count": 43,
   "metadata": {},
   "outputs": [
    {
     "name": "stdout",
     "output_type": "stream",
     "text": [
      "tf.Tensor(3.0, shape=(), dtype=float32)\n"
     ]
    }
   ],
   "source": [
    "var_grad = g.gradient(func_test, y) # Will compute to 3.0\n",
    "print(var_grad)"
   ]
  },
  {
   "cell_type": "markdown",
   "metadata": {},
   "source": [
    "Now, we can look at gradients w.r.t all variables:\n"
   ]
  },
  {
   "cell_type": "code",
   "execution_count": 44,
   "metadata": {},
   "outputs": [],
   "source": [
    "with tf.GradientTape() as tape:\n",
    "    # Forward pass.\n",
    "    output_words_prob = model(_input_data)\n",
    "    # Loss value for this batch.\n",
    "    loss  = crossentropy(_targets, output_words_prob)\n",
    "    cost = tf.reduce_sum(loss,axis=0) / batch_size"
   ]
  },
  {
   "cell_type": "code",
   "execution_count": 45,
   "metadata": {},
   "outputs": [],
   "source": [
    "# Get gradients of loss wrt the trainable variables.\n",
    "grad_t_list = tape.gradient(cost, tvars)"
   ]
  },
  {
   "cell_type": "code",
   "execution_count": 46,
   "metadata": {},
   "outputs": [
    {
     "name": "stdout",
     "output_type": "stream",
     "text": [
      "[<tensorflow.python.framework.indexed_slices.IndexedSlices object at 0x7f32a145f7f0>, <tf.Tensor: shape=(200, 1024), dtype=float32, numpy=\n",
      "array([[-3.4915695e-07, -1.8586546e-07,  8.8536308e-07, ...,\n",
      "         4.7567610e-08,  4.1442753e-08,  4.0301160e-07],\n",
      "       [-1.2992849e-07,  3.9957604e-07, -8.8906211e-07, ...,\n",
      "         7.2374087e-07,  6.0288994e-07,  3.1592026e-07],\n",
      "       [ 3.3113730e-07, -8.9509967e-08, -8.7208839e-08, ...,\n",
      "        -9.6669646e-07, -7.7528505e-08, -1.8126349e-07],\n",
      "       ...,\n",
      "       [ 3.2207362e-07, -2.0024319e-07,  3.6682999e-07, ...,\n",
      "         6.0680293e-08, -3.4023762e-07, -1.7451825e-07],\n",
      "       [ 5.8975650e-07, -1.0513509e-07, -3.7046647e-07, ...,\n",
      "        -3.2865086e-07, -2.5777831e-07,  1.1806776e-08],\n",
      "       [-3.1316205e-08,  3.8654242e-08,  5.3812869e-08, ...,\n",
      "        -5.3450276e-07, -2.5046208e-07, -2.8817595e-07]], dtype=float32)>, <tf.Tensor: shape=(256, 1024), dtype=float32, numpy=\n",
      "array([[-9.7871400e-09, -8.8010204e-08, -1.2629009e-07, ...,\n",
      "        -2.2885992e-08,  2.5825035e-08, -7.6816740e-09],\n",
      "       [ 1.3360307e-07,  3.4729865e-08,  2.7044624e-08, ...,\n",
      "         1.5363366e-07, -1.6098446e-07, -2.0484487e-08],\n",
      "       [-8.0934313e-08,  1.8880744e-08,  5.1014563e-08, ...,\n",
      "        -6.0737648e-08, -4.3895433e-08, -1.6428908e-07],\n",
      "       ...,\n",
      "       [-7.8339681e-08,  3.1463358e-08,  5.5160051e-08, ...,\n",
      "        -1.1005270e-06,  1.3965833e-08, -1.3356906e-07],\n",
      "       [-6.1330745e-08,  3.5237768e-09,  6.2963977e-08, ...,\n",
      "         4.1867487e-08, -6.6345933e-07, -9.8754185e-08],\n",
      "       [-4.4302872e-09,  6.2174479e-08, -1.1873662e-07, ...,\n",
      "        -4.2962827e-07, -8.0018502e-08, -1.2883561e-07]], dtype=float32)>, <tf.Tensor: shape=(1024,), dtype=float32, numpy=\n",
      "array([-1.4880452e-05, -1.4127965e-05,  2.4424393e-05, ...,\n",
      "       -1.2761213e-05,  2.1489013e-05, -7.8382609e-06], dtype=float32)>, <tf.Tensor: shape=(256, 512), dtype=float32, numpy=\n",
      "array([[ 1.7585685e-07, -4.6648694e-09,  4.9045685e-08, ...,\n",
      "        -7.0563431e-09, -2.0541691e-08,  1.1397183e-07],\n",
      "       [ 4.2585160e-08,  3.2233265e-07, -1.0342474e-07, ...,\n",
      "        -3.2112519e-07,  2.0645331e-07, -1.5059041e-07],\n",
      "       [-2.4003793e-07, -1.6947992e-07,  1.7080073e-07, ...,\n",
      "         4.8530239e-08, -9.9000104e-08, -7.6007595e-08],\n",
      "       ...,\n",
      "       [ 1.3309574e-07, -3.4456366e-07, -2.2225865e-07, ...,\n",
      "         1.0963422e-07,  1.8314098e-07,  1.2464949e-07],\n",
      "       [ 1.1228785e-08,  2.0846277e-07,  3.6028418e-08, ...,\n",
      "        -1.2325776e-07,  9.6842285e-08, -1.6721472e-07],\n",
      "       [ 1.6287758e-07, -5.3062969e-08, -2.5488123e-07, ...,\n",
      "        -2.0727683e-07,  2.7498888e-07, -3.0828156e-07]], dtype=float32)>, <tf.Tensor: shape=(128, 512), dtype=float32, numpy=\n",
      "array([[-2.5432945e-07, -2.0130611e-07, -1.8787372e-07, ...,\n",
      "         6.1213044e-08,  4.2519986e-08,  2.2921050e-08],\n",
      "       [ 7.2069547e-08, -5.5726895e-07,  6.2983304e-08, ...,\n",
      "         1.4750994e-07, -4.8618869e-08, -7.4068943e-08],\n",
      "       [-1.5390573e-07, -2.6454028e-08, -5.7359534e-07, ...,\n",
      "         5.7123373e-09, -8.5453706e-08, -1.3709044e-07],\n",
      "       ...,\n",
      "       [ 2.1272896e-07,  2.8840091e-08, -2.1167118e-08, ...,\n",
      "        -1.7027307e-07,  5.1198409e-08,  5.6211853e-08],\n",
      "       [-1.2515088e-07, -1.6010895e-07,  7.3966277e-08, ...,\n",
      "         2.1889146e-07, -3.5664758e-07,  1.9564655e-07],\n",
      "       [-5.6100102e-08,  3.7011887e-08,  2.1010868e-07, ...,\n",
      "        -1.6764551e-07, -4.1835495e-08, -1.1043690e-07]], dtype=float32)>, <tf.Tensor: shape=(512,), dtype=float32, numpy=\n",
      "array([ 2.65684594e-06, -6.69817819e-05,  3.96261021e-05, -1.45604554e-06,\n",
      "        9.55450378e-06,  3.70689595e-05, -2.12300038e-05,  7.27208753e-05,\n",
      "        1.63455752e-05, -7.02409125e-06, -2.90037533e-05,  3.79010162e-05,\n",
      "       -9.16035860e-05,  5.85074267e-05, -3.58702673e-05,  1.76089861e-06,\n",
      "       -2.81384782e-05,  9.13786498e-05, -5.51459161e-05, -2.90182797e-05,\n",
      "        1.39744134e-05, -2.40648405e-05,  1.32837440e-05, -5.70320026e-06,\n",
      "        1.51182558e-05, -8.33050435e-05,  4.35197435e-05,  5.46734100e-06,\n",
      "       -5.21022739e-05, -7.35622780e-06,  2.81651410e-05, -4.70947125e-05,\n",
      "        9.00746272e-07, -3.09050083e-05, -3.04135356e-05,  2.92598997e-06,\n",
      "        2.27598612e-05,  2.55695559e-05,  3.92612274e-05,  8.35610990e-06,\n",
      "        9.36763354e-06, -4.43791068e-05,  1.78217051e-05, -5.75517515e-06,\n",
      "       -2.93761241e-06,  3.77262313e-06, -4.22006087e-05,  3.30517287e-05,\n",
      "        5.85355701e-06, -5.24969146e-05, -6.86789645e-05,  2.78243770e-05,\n",
      "        4.71293151e-06, -2.37186305e-05, -9.46851560e-06, -6.06686990e-05,\n",
      "       -1.56487840e-06,  5.00140814e-05, -8.78016363e-06,  7.44608042e-06,\n",
      "        2.65869949e-05,  3.40996557e-05, -2.88585070e-05,  1.32346613e-05,\n",
      "       -3.72819850e-05, -1.15723324e-05, -2.73378537e-05,  3.85434032e-05,\n",
      "        1.03313359e-05,  1.29948667e-05, -1.90181709e-05,  2.02855172e-05,\n",
      "       -5.55270635e-05, -2.77825748e-05, -2.86489103e-05, -8.76807826e-06,\n",
      "       -2.91508513e-05,  1.76289559e-05,  1.23808550e-05,  9.47420995e-05,\n",
      "       -1.50539327e-05, -8.24501622e-05,  2.14389220e-05, -2.48284960e-05,\n",
      "        1.00554398e-05,  1.15505281e-05, -5.53670943e-05,  6.69105430e-06,\n",
      "        4.42642850e-05,  1.90036772e-05,  6.57848868e-05, -1.70786952e-05,\n",
      "        1.30032331e-05,  3.51863346e-05,  8.83722805e-06, -3.44397699e-06,\n",
      "        3.59799669e-05,  2.43135328e-05, -1.08562726e-05,  2.95942755e-06,\n",
      "        1.04328319e-06,  9.48481465e-05, -6.16726902e-05, -7.64904398e-05,\n",
      "       -4.16269431e-05, -2.09989448e-05,  1.41217079e-05, -2.95243735e-05,\n",
      "       -1.53641904e-05,  2.12195800e-06,  4.88187334e-06, -4.82998512e-05,\n",
      "        4.87770740e-05, -6.94290429e-05, -1.49123262e-05,  5.27997254e-05,\n",
      "        3.86199390e-05, -1.96805522e-05,  6.67489221e-05,  1.38142468e-06,\n",
      "       -2.62884405e-05, -5.97451071e-05, -1.64188696e-05,  4.05817627e-05,\n",
      "        3.70443158e-05,  1.35104792e-05, -9.43752639e-06,  1.70321764e-05,\n",
      "        1.20812656e-05, -1.15765004e-04,  3.75070194e-05, -1.38368005e-05,\n",
      "        4.20046217e-06,  5.18379529e-05, -2.82903511e-05,  8.78188584e-05,\n",
      "        3.76759926e-05,  6.38467100e-07, -3.83175720e-05,  1.43801244e-05,\n",
      "       -1.61095872e-04,  8.13167280e-05, -6.61544327e-05, -1.42583531e-05,\n",
      "       -2.21822629e-05,  8.52002195e-05, -7.35008944e-05, -6.14091987e-05,\n",
      "        9.07330286e-06, -2.14155170e-05,  1.47427600e-05, -3.59322948e-05,\n",
      "        1.05319959e-05, -1.05176419e-04,  4.77051908e-05, -3.64802800e-05,\n",
      "       -6.99050725e-05, -3.36412922e-05,  2.79020933e-05, -4.64211626e-05,\n",
      "        1.60656073e-05, -1.49001380e-05, -4.47162602e-05, -1.11968370e-06,\n",
      "        1.39783388e-05,  3.61182065e-05,  7.74513974e-05, -9.41813960e-06,\n",
      "        1.66161808e-05, -6.30299473e-05,  2.83018508e-05, -1.40077773e-05,\n",
      "       -1.29454129e-05,  9.41153667e-06, -4.41142620e-05,  7.88472607e-05,\n",
      "        1.27304702e-05, -1.07840475e-04, -6.86848653e-05,  3.56251039e-05,\n",
      "        1.10980109e-05, -4.20396318e-05, -1.05798172e-05, -1.09991495e-04,\n",
      "       -2.59257722e-05,  5.94851444e-05, -2.35395091e-05,  1.85666595e-05,\n",
      "        3.71828755e-05,  3.87375985e-05, -3.63230793e-05,  2.92254663e-06,\n",
      "       -4.00391218e-05, -1.50342794e-05, -3.33998105e-05,  7.98659221e-06,\n",
      "        1.30039443e-05,  2.76588980e-05, -4.01470497e-05,  2.16896133e-05,\n",
      "       -7.11183384e-05, -4.19618191e-05, -2.59156986e-05, -8.19492197e-06,\n",
      "       -1.34370384e-05,  1.73560638e-05,  1.71515785e-05,  9.05755078e-05,\n",
      "       -1.92525513e-05, -8.53002639e-05,  8.47817682e-06, -3.10850664e-05,\n",
      "       -5.85610724e-06,  2.53014041e-05, -6.57701967e-05,  1.09974644e-05,\n",
      "        6.36387485e-05,  3.31126739e-06,  7.60899638e-05, -4.24826503e-05,\n",
      "        4.14033639e-05,  4.50889856e-05,  5.64542370e-06,  2.71519821e-06,\n",
      "        7.94260341e-05,  3.86973625e-05, -3.53670293e-05,  1.13501155e-05,\n",
      "        1.85445151e-05,  1.33259484e-04, -1.09641107e-04, -1.12836060e-04,\n",
      "       -5.10668688e-05, -2.77885356e-05,  4.19342505e-05, -5.41752197e-05,\n",
      "        6.30680097e-06,  1.72983782e-05, -1.22982728e-05, -3.09741226e-05,\n",
      "        5.51805606e-05, -6.66168344e-05, -2.76299106e-05,  8.61346707e-05,\n",
      "        6.05687237e-05, -6.57138844e-06,  9.83654900e-05,  1.74830166e-06,\n",
      "       -2.36677370e-05, -7.77060995e-05,  1.23419013e-05,  5.19442292e-05,\n",
      "        5.22337577e-05,  4.71068324e-06, -1.11685331e-05,  2.21806004e-05,\n",
      "       -4.27063741e-02, -2.71059014e-02, -5.38381077e-02,  1.55028040e-02,\n",
      "        7.25842430e-04,  3.48327681e-02,  4.04989645e-02, -1.66145731e-02,\n",
      "       -1.35744661e-02, -1.79608315e-02,  4.94190492e-03, -3.42855509e-03,\n",
      "       -3.65191326e-02,  1.85957178e-02, -2.12838277e-02,  1.60375480e-02,\n",
      "        2.02952605e-02, -4.12220769e-02,  2.10144045e-03,  4.39243950e-03,\n",
      "        1.22095440e-02, -8.36520735e-03,  8.48414302e-02,  1.21491775e-03,\n",
      "        1.31940003e-02, -9.38216224e-03,  2.25124136e-02,  4.36373204e-02,\n",
      "       -4.56553791e-03, -1.72256567e-02,  1.96424387e-02, -4.50308099e-02,\n",
      "        3.39581296e-02,  8.02081078e-03,  3.01813148e-02, -2.24733111e-02,\n",
      "       -1.25963874e-02,  6.48574810e-03,  1.98852308e-02, -3.71834859e-02,\n",
      "        3.40077244e-02, -6.77327886e-02, -4.00780402e-02,  1.20654413e-02,\n",
      "        1.68573260e-02,  3.25462967e-02,  2.94951797e-02, -1.17382230e-02,\n",
      "       -2.20426992e-02,  2.15480216e-02, -8.06808565e-03, -1.35785313e-02,\n",
      "        6.34897035e-03,  1.19187478e-02, -1.33858938e-02,  3.20702121e-02,\n",
      "       -1.35026379e-02,  4.01986241e-02, -1.98843740e-02,  3.45838466e-03,\n",
      "       -2.16352977e-02,  1.33807752e-02, -1.24466438e-02,  2.59688180e-02,\n",
      "       -4.10081968e-02, -2.43500043e-02, -5.75780198e-02,  2.62593175e-03,\n",
      "        3.77659090e-02, -9.68477782e-03,  4.73365448e-02, -7.58085912e-03,\n",
      "        1.41761787e-02,  2.51832493e-02, -6.33492647e-03,  4.92178872e-02,\n",
      "       -3.85095715e-03,  4.16334067e-03,  2.43261503e-03, -1.33046964e-02,\n",
      "       -2.64906995e-02,  6.34791106e-02,  5.56779876e-02, -1.91460680e-02,\n",
      "       -7.30282906e-03, -1.09899379e-02,  1.93090644e-02,  1.09608006e-02,\n",
      "       -4.34690006e-02,  6.54776348e-03, -6.69788420e-02, -3.44511718e-02,\n",
      "       -3.48109007e-02, -8.81388970e-03,  6.38762768e-03,  4.84370952e-03,\n",
      "       -6.46659173e-04, -1.08162900e-02, -5.43357618e-03,  1.37576843e-02,\n",
      "       -1.54285338e-02, -8.27091634e-02, -3.58970761e-02,  3.00224386e-02,\n",
      "        9.28060897e-03,  1.99130699e-02, -2.31240131e-02,  7.88346212e-03,\n",
      "        3.90973091e-02,  1.19466744e-02, -1.78888366e-02,  1.05353137e-02,\n",
      "       -6.91654980e-02, -4.27119322e-02, -9.63813346e-03, -1.59387235e-02,\n",
      "        3.24192606e-02,  2.15384550e-03,  4.45113182e-02, -3.05692516e-02,\n",
      "        3.17218038e-03, -2.80870330e-02,  1.49719045e-02, -3.81774157e-02,\n",
      "       -6.11437187e-02,  3.17656435e-04, -5.26514277e-02, -4.71358094e-03,\n",
      "        1.36923409e-05, -6.09496819e-05,  3.97664771e-05, -6.11596079e-06,\n",
      "        1.64898847e-05,  4.22137709e-05, -3.02500594e-05,  8.22563015e-05,\n",
      "        1.27694202e-05, -9.08811489e-06, -3.17774684e-05,  4.50868720e-05,\n",
      "       -1.00514568e-04,  6.38869969e-05, -4.11371875e-05,  6.31380271e-06,\n",
      "       -3.30423354e-05,  9.43406922e-05, -5.61466077e-05, -2.93316207e-05,\n",
      "        1.01582500e-05, -2.34937797e-05,  1.25027227e-05, -1.05022664e-05,\n",
      "        1.18730586e-05, -9.96242306e-05,  5.32730410e-05,  1.24630014e-05,\n",
      "       -6.50424627e-05, -6.27352074e-06,  2.37604363e-05, -4.57168098e-05,\n",
      "        9.12909127e-06, -3.12834563e-05, -2.99824933e-05, -1.97439840e-06,\n",
      "        2.73338064e-05,  2.66762236e-05,  3.76735261e-05,  1.56827991e-05,\n",
      "        7.80407390e-06, -5.19404639e-05,  1.84321034e-05, -3.76462776e-06,\n",
      "       -8.86634189e-06,  1.30536464e-05, -4.88880833e-05,  4.58962895e-05,\n",
      "        3.70825455e-06, -5.99629857e-05, -6.40423605e-05,  2.68906078e-05,\n",
      "        1.04587307e-05, -2.45455121e-05, -1.31224897e-06, -7.89929472e-05,\n",
      "       -4.78330549e-06,  6.39235441e-05, -7.59154454e-06,  3.42382100e-06,\n",
      "        3.76787175e-05,  3.49650873e-05, -4.48322498e-05,  9.50323738e-06,\n",
      "       -3.63153413e-05, -1.31812540e-05, -2.88479750e-05,  4.57040478e-05,\n",
      "        1.59769552e-05,  2.05882843e-05, -1.36202852e-05,  1.66696882e-05,\n",
      "       -5.25421674e-05, -3.21189582e-05, -3.15465040e-05, -3.82235157e-06,\n",
      "       -3.10899813e-05,  1.41207711e-05,  2.33169194e-05,  8.73066165e-05,\n",
      "       -2.07312423e-05, -7.36258153e-05,  2.53499384e-05, -2.93494231e-05,\n",
      "        1.48488534e-05,  1.00757852e-05, -6.95180133e-05,  9.82353322e-06,\n",
      "        4.71435778e-05,  1.78924511e-05,  7.43821656e-05, -2.29035795e-05,\n",
      "        2.14399370e-05,  3.33748940e-05,  1.37271163e-05,  3.96872201e-06,\n",
      "        3.38383797e-05,  2.37603799e-05, -1.29868777e-05,  4.43387125e-06,\n",
      "        3.12256634e-06,  9.67432134e-05, -7.89105834e-05, -9.48616216e-05,\n",
      "       -3.94119998e-05, -2.49911500e-05,  1.11580966e-05, -3.10346004e-05,\n",
      "       -1.26899813e-05,  6.18719332e-06,  2.04435446e-06, -4.71692474e-05,\n",
      "        5.05578537e-05, -6.75218398e-05, -1.29083710e-05,  5.68484174e-05,\n",
      "        5.57440144e-05, -2.91021079e-05,  8.01123533e-05, -4.43450654e-06,\n",
      "       -2.16848530e-05, -6.18740887e-05, -3.90088462e-06,  4.76583991e-05,\n",
      "        4.54320434e-05,  1.69770283e-05, -1.82235981e-05,  1.85158970e-05],\n",
      "      dtype=float32)>, <tf.Tensor: shape=(128, 10000), dtype=float32, numpy=\n",
      "array([[ 1.02348439e-03,  1.55856903e-03,  9.88566200e-04, ...,\n",
      "        -1.81536586e-06, -1.81682810e-06, -1.81555606e-06],\n",
      "       [-3.11078411e-03, -4.86668292e-03, -3.47918319e-03, ...,\n",
      "         7.08447260e-06,  7.08872631e-06,  7.08856442e-06],\n",
      "       [ 1.32275769e-03,  1.94707129e-03,  2.30161240e-03, ...,\n",
      "        -2.90870162e-06, -2.91155106e-06, -2.91063839e-06],\n",
      "       ...,\n",
      "       [-3.10595473e-03, -3.69938510e-03, -2.35012569e-03, ...,\n",
      "         6.38431084e-06,  6.38972551e-06,  6.38768825e-06],\n",
      "       [ 1.16450276e-04, -4.07643442e-04, -7.54182343e-04, ...,\n",
      "         8.73266799e-07,  8.74156058e-07,  8.74693853e-07],\n",
      "       [ 2.07458448e-04,  1.73419947e-04,  2.74454214e-05, ...,\n",
      "        -8.50669267e-07, -8.52733706e-07, -8.52095013e-07]], dtype=float32)>, <tf.Tensor: shape=(10000,), dtype=float32, numpy=\n",
      "array([-0.79799855, -1.0313319 , -1.0313314 , ...,  0.00199948,\n",
      "        0.00199999,  0.00200037], dtype=float32)>]\n"
     ]
    }
   ],
   "source": [
    "print(grad_t_list)"
   ]
  },
  {
   "cell_type": "markdown",
   "metadata": {
    "button": false,
    "new_sheet": false,
    "run_control": {
     "read_only": false
    }
   },
   "source": [
    "now, we have a list of tensors, t-list. We can use it to find clipped tensors. <b>clip_by_global_norm</b> clips values of multiple tensors by the ratio of the sum of their norms.\n",
    "\n",
    "<b>clip_by_global_norm</b> get <i>t-list</i> as input and returns 2 things:\n",
    "\n",
    "<ul>\n",
    "    <li>a list of clipped tensors, so called <i>list_clipped</i></li> \n",
    "    <li>the global norm (global_norm) of all tensors in t_list</li> \n",
    "</ul>\n"
   ]
  },
  {
   "cell_type": "code",
   "execution_count": 47,
   "metadata": {},
   "outputs": [
    {
     "data": {
      "text/plain": [
       "[<tensorflow.python.framework.indexed_slices.IndexedSlices at 0x7f32a148d048>,\n",
       " <tf.Tensor: shape=(200, 1024), dtype=float32, numpy=\n",
       " array([[-3.4915695e-07, -1.8586546e-07,  8.8536308e-07, ...,\n",
       "          4.7567610e-08,  4.1442753e-08,  4.0301160e-07],\n",
       "        [-1.2992849e-07,  3.9957604e-07, -8.8906211e-07, ...,\n",
       "          7.2374087e-07,  6.0288994e-07,  3.1592026e-07],\n",
       "        [ 3.3113730e-07, -8.9509967e-08, -8.7208839e-08, ...,\n",
       "         -9.6669646e-07, -7.7528505e-08, -1.8126349e-07],\n",
       "        ...,\n",
       "        [ 3.2207362e-07, -2.0024319e-07,  3.6682999e-07, ...,\n",
       "          6.0680293e-08, -3.4023762e-07, -1.7451825e-07],\n",
       "        [ 5.8975650e-07, -1.0513509e-07, -3.7046647e-07, ...,\n",
       "         -3.2865086e-07, -2.5777831e-07,  1.1806776e-08],\n",
       "        [-3.1316205e-08,  3.8654242e-08,  5.3812869e-08, ...,\n",
       "         -5.3450276e-07, -2.5046208e-07, -2.8817595e-07]], dtype=float32)>,\n",
       " <tf.Tensor: shape=(256, 1024), dtype=float32, numpy=\n",
       " array([[-9.7871400e-09, -8.8010204e-08, -1.2629009e-07, ...,\n",
       "         -2.2885992e-08,  2.5825035e-08, -7.6816740e-09],\n",
       "        [ 1.3360307e-07,  3.4729865e-08,  2.7044624e-08, ...,\n",
       "          1.5363366e-07, -1.6098446e-07, -2.0484487e-08],\n",
       "        [-8.0934313e-08,  1.8880744e-08,  5.1014563e-08, ...,\n",
       "         -6.0737648e-08, -4.3895433e-08, -1.6428908e-07],\n",
       "        ...,\n",
       "        [-7.8339681e-08,  3.1463358e-08,  5.5160051e-08, ...,\n",
       "         -1.1005270e-06,  1.3965833e-08, -1.3356906e-07],\n",
       "        [-6.1330745e-08,  3.5237768e-09,  6.2963977e-08, ...,\n",
       "          4.1867487e-08, -6.6345933e-07, -9.8754185e-08],\n",
       "        [-4.4302872e-09,  6.2174479e-08, -1.1873662e-07, ...,\n",
       "         -4.2962827e-07, -8.0018502e-08, -1.2883561e-07]], dtype=float32)>,\n",
       " <tf.Tensor: shape=(1024,), dtype=float32, numpy=\n",
       " array([-1.4880452e-05, -1.4127965e-05,  2.4424393e-05, ...,\n",
       "        -1.2761213e-05,  2.1489013e-05, -7.8382609e-06], dtype=float32)>,\n",
       " <tf.Tensor: shape=(256, 512), dtype=float32, numpy=\n",
       " array([[ 1.7585685e-07, -4.6648694e-09,  4.9045685e-08, ...,\n",
       "         -7.0563431e-09, -2.0541691e-08,  1.1397183e-07],\n",
       "        [ 4.2585160e-08,  3.2233265e-07, -1.0342474e-07, ...,\n",
       "         -3.2112519e-07,  2.0645331e-07, -1.5059041e-07],\n",
       "        [-2.4003793e-07, -1.6947992e-07,  1.7080073e-07, ...,\n",
       "          4.8530239e-08, -9.9000104e-08, -7.6007595e-08],\n",
       "        ...,\n",
       "        [ 1.3309574e-07, -3.4456366e-07, -2.2225865e-07, ...,\n",
       "          1.0963422e-07,  1.8314098e-07,  1.2464949e-07],\n",
       "        [ 1.1228785e-08,  2.0846277e-07,  3.6028418e-08, ...,\n",
       "         -1.2325776e-07,  9.6842285e-08, -1.6721472e-07],\n",
       "        [ 1.6287758e-07, -5.3062969e-08, -2.5488123e-07, ...,\n",
       "         -2.0727683e-07,  2.7498888e-07, -3.0828156e-07]], dtype=float32)>,\n",
       " <tf.Tensor: shape=(128, 512), dtype=float32, numpy=\n",
       " array([[-2.5432945e-07, -2.0130611e-07, -1.8787372e-07, ...,\n",
       "          6.1213044e-08,  4.2519986e-08,  2.2921050e-08],\n",
       "        [ 7.2069547e-08, -5.5726895e-07,  6.2983304e-08, ...,\n",
       "          1.4750994e-07, -4.8618869e-08, -7.4068943e-08],\n",
       "        [-1.5390573e-07, -2.6454028e-08, -5.7359534e-07, ...,\n",
       "          5.7123373e-09, -8.5453706e-08, -1.3709044e-07],\n",
       "        ...,\n",
       "        [ 2.1272896e-07,  2.8840091e-08, -2.1167118e-08, ...,\n",
       "         -1.7027307e-07,  5.1198409e-08,  5.6211853e-08],\n",
       "        [-1.2515088e-07, -1.6010895e-07,  7.3966277e-08, ...,\n",
       "          2.1889146e-07, -3.5664758e-07,  1.9564655e-07],\n",
       "        [-5.6100102e-08,  3.7011887e-08,  2.1010868e-07, ...,\n",
       "         -1.6764551e-07, -4.1835495e-08, -1.1043690e-07]], dtype=float32)>,\n",
       " <tf.Tensor: shape=(512,), dtype=float32, numpy=\n",
       " array([ 2.65684594e-06, -6.69817819e-05,  3.96261021e-05, -1.45604554e-06,\n",
       "         9.55450378e-06,  3.70689595e-05, -2.12300038e-05,  7.27208753e-05,\n",
       "         1.63455752e-05, -7.02409125e-06, -2.90037533e-05,  3.79010162e-05,\n",
       "        -9.16035860e-05,  5.85074267e-05, -3.58702673e-05,  1.76089861e-06,\n",
       "        -2.81384782e-05,  9.13786498e-05, -5.51459161e-05, -2.90182797e-05,\n",
       "         1.39744134e-05, -2.40648405e-05,  1.32837440e-05, -5.70320026e-06,\n",
       "         1.51182558e-05, -8.33050435e-05,  4.35197435e-05,  5.46734100e-06,\n",
       "        -5.21022739e-05, -7.35622780e-06,  2.81651410e-05, -4.70947125e-05,\n",
       "         9.00746272e-07, -3.09050083e-05, -3.04135356e-05,  2.92598997e-06,\n",
       "         2.27598612e-05,  2.55695559e-05,  3.92612274e-05,  8.35610990e-06,\n",
       "         9.36763354e-06, -4.43791068e-05,  1.78217051e-05, -5.75517515e-06,\n",
       "        -2.93761241e-06,  3.77262313e-06, -4.22006087e-05,  3.30517287e-05,\n",
       "         5.85355701e-06, -5.24969146e-05, -6.86789645e-05,  2.78243770e-05,\n",
       "         4.71293151e-06, -2.37186305e-05, -9.46851560e-06, -6.06686990e-05,\n",
       "        -1.56487840e-06,  5.00140814e-05, -8.78016363e-06,  7.44608042e-06,\n",
       "         2.65869949e-05,  3.40996557e-05, -2.88585070e-05,  1.32346613e-05,\n",
       "        -3.72819850e-05, -1.15723324e-05, -2.73378537e-05,  3.85434032e-05,\n",
       "         1.03313359e-05,  1.29948667e-05, -1.90181709e-05,  2.02855172e-05,\n",
       "        -5.55270635e-05, -2.77825748e-05, -2.86489103e-05, -8.76807826e-06,\n",
       "        -2.91508513e-05,  1.76289559e-05,  1.23808550e-05,  9.47420995e-05,\n",
       "        -1.50539327e-05, -8.24501622e-05,  2.14389220e-05, -2.48284960e-05,\n",
       "         1.00554398e-05,  1.15505281e-05, -5.53670943e-05,  6.69105430e-06,\n",
       "         4.42642850e-05,  1.90036772e-05,  6.57848868e-05, -1.70786952e-05,\n",
       "         1.30032331e-05,  3.51863346e-05,  8.83722805e-06, -3.44397699e-06,\n",
       "         3.59799669e-05,  2.43135328e-05, -1.08562726e-05,  2.95942755e-06,\n",
       "         1.04328319e-06,  9.48481465e-05, -6.16726902e-05, -7.64904398e-05,\n",
       "        -4.16269431e-05, -2.09989448e-05,  1.41217079e-05, -2.95243735e-05,\n",
       "        -1.53641904e-05,  2.12195800e-06,  4.88187334e-06, -4.82998512e-05,\n",
       "         4.87770740e-05, -6.94290429e-05, -1.49123262e-05,  5.27997254e-05,\n",
       "         3.86199390e-05, -1.96805522e-05,  6.67489221e-05,  1.38142468e-06,\n",
       "        -2.62884405e-05, -5.97451071e-05, -1.64188696e-05,  4.05817627e-05,\n",
       "         3.70443158e-05,  1.35104792e-05, -9.43752639e-06,  1.70321764e-05,\n",
       "         1.20812656e-05, -1.15765004e-04,  3.75070194e-05, -1.38368005e-05,\n",
       "         4.20046217e-06,  5.18379529e-05, -2.82903511e-05,  8.78188584e-05,\n",
       "         3.76759926e-05,  6.38467100e-07, -3.83175720e-05,  1.43801244e-05,\n",
       "        -1.61095872e-04,  8.13167280e-05, -6.61544327e-05, -1.42583531e-05,\n",
       "        -2.21822629e-05,  8.52002195e-05, -7.35008944e-05, -6.14091987e-05,\n",
       "         9.07330286e-06, -2.14155170e-05,  1.47427600e-05, -3.59322948e-05,\n",
       "         1.05319959e-05, -1.05176419e-04,  4.77051908e-05, -3.64802800e-05,\n",
       "        -6.99050725e-05, -3.36412922e-05,  2.79020933e-05, -4.64211626e-05,\n",
       "         1.60656073e-05, -1.49001380e-05, -4.47162602e-05, -1.11968370e-06,\n",
       "         1.39783388e-05,  3.61182065e-05,  7.74513974e-05, -9.41813960e-06,\n",
       "         1.66161808e-05, -6.30299473e-05,  2.83018508e-05, -1.40077773e-05,\n",
       "        -1.29454129e-05,  9.41153667e-06, -4.41142620e-05,  7.88472607e-05,\n",
       "         1.27304702e-05, -1.07840475e-04, -6.86848653e-05,  3.56251039e-05,\n",
       "         1.10980109e-05, -4.20396318e-05, -1.05798172e-05, -1.09991495e-04,\n",
       "        -2.59257722e-05,  5.94851444e-05, -2.35395091e-05,  1.85666595e-05,\n",
       "         3.71828755e-05,  3.87375985e-05, -3.63230793e-05,  2.92254663e-06,\n",
       "        -4.00391218e-05, -1.50342794e-05, -3.33998105e-05,  7.98659221e-06,\n",
       "         1.30039443e-05,  2.76588980e-05, -4.01470497e-05,  2.16896133e-05,\n",
       "        -7.11183384e-05, -4.19618191e-05, -2.59156986e-05, -8.19492197e-06,\n",
       "        -1.34370384e-05,  1.73560638e-05,  1.71515785e-05,  9.05755078e-05,\n",
       "        -1.92525513e-05, -8.53002639e-05,  8.47817682e-06, -3.10850664e-05,\n",
       "        -5.85610724e-06,  2.53014041e-05, -6.57701967e-05,  1.09974644e-05,\n",
       "         6.36387485e-05,  3.31126739e-06,  7.60899638e-05, -4.24826503e-05,\n",
       "         4.14033639e-05,  4.50889856e-05,  5.64542370e-06,  2.71519821e-06,\n",
       "         7.94260341e-05,  3.86973625e-05, -3.53670293e-05,  1.13501155e-05,\n",
       "         1.85445151e-05,  1.33259484e-04, -1.09641107e-04, -1.12836060e-04,\n",
       "        -5.10668688e-05, -2.77885356e-05,  4.19342505e-05, -5.41752197e-05,\n",
       "         6.30680097e-06,  1.72983782e-05, -1.22982728e-05, -3.09741226e-05,\n",
       "         5.51805606e-05, -6.66168344e-05, -2.76299106e-05,  8.61346707e-05,\n",
       "         6.05687237e-05, -6.57138844e-06,  9.83654900e-05,  1.74830166e-06,\n",
       "        -2.36677370e-05, -7.77060995e-05,  1.23419013e-05,  5.19442292e-05,\n",
       "         5.22337577e-05,  4.71068324e-06, -1.11685331e-05,  2.21806004e-05,\n",
       "        -4.27063741e-02, -2.71059014e-02, -5.38381077e-02,  1.55028040e-02,\n",
       "         7.25842430e-04,  3.48327681e-02,  4.04989645e-02, -1.66145731e-02,\n",
       "        -1.35744661e-02, -1.79608315e-02,  4.94190492e-03, -3.42855509e-03,\n",
       "        -3.65191326e-02,  1.85957178e-02, -2.12838277e-02,  1.60375480e-02,\n",
       "         2.02952605e-02, -4.12220769e-02,  2.10144045e-03,  4.39243950e-03,\n",
       "         1.22095440e-02, -8.36520735e-03,  8.48414302e-02,  1.21491775e-03,\n",
       "         1.31940003e-02, -9.38216224e-03,  2.25124136e-02,  4.36373204e-02,\n",
       "        -4.56553791e-03, -1.72256567e-02,  1.96424387e-02, -4.50308099e-02,\n",
       "         3.39581296e-02,  8.02081078e-03,  3.01813148e-02, -2.24733111e-02,\n",
       "        -1.25963874e-02,  6.48574810e-03,  1.98852308e-02, -3.71834859e-02,\n",
       "         3.40077244e-02, -6.77327886e-02, -4.00780402e-02,  1.20654413e-02,\n",
       "         1.68573260e-02,  3.25462967e-02,  2.94951797e-02, -1.17382230e-02,\n",
       "        -2.20426992e-02,  2.15480216e-02, -8.06808565e-03, -1.35785313e-02,\n",
       "         6.34897035e-03,  1.19187478e-02, -1.33858938e-02,  3.20702121e-02,\n",
       "        -1.35026379e-02,  4.01986241e-02, -1.98843740e-02,  3.45838466e-03,\n",
       "        -2.16352977e-02,  1.33807752e-02, -1.24466438e-02,  2.59688180e-02,\n",
       "        -4.10081968e-02, -2.43500043e-02, -5.75780198e-02,  2.62593175e-03,\n",
       "         3.77659090e-02, -9.68477782e-03,  4.73365448e-02, -7.58085912e-03,\n",
       "         1.41761787e-02,  2.51832493e-02, -6.33492647e-03,  4.92178872e-02,\n",
       "        -3.85095715e-03,  4.16334067e-03,  2.43261503e-03, -1.33046964e-02,\n",
       "        -2.64906995e-02,  6.34791106e-02,  5.56779876e-02, -1.91460680e-02,\n",
       "        -7.30282906e-03, -1.09899379e-02,  1.93090644e-02,  1.09608006e-02,\n",
       "        -4.34690006e-02,  6.54776348e-03, -6.69788420e-02, -3.44511718e-02,\n",
       "        -3.48109007e-02, -8.81388970e-03,  6.38762768e-03,  4.84370952e-03,\n",
       "        -6.46659173e-04, -1.08162900e-02, -5.43357618e-03,  1.37576843e-02,\n",
       "        -1.54285338e-02, -8.27091634e-02, -3.58970761e-02,  3.00224386e-02,\n",
       "         9.28060897e-03,  1.99130699e-02, -2.31240131e-02,  7.88346212e-03,\n",
       "         3.90973091e-02,  1.19466744e-02, -1.78888366e-02,  1.05353137e-02,\n",
       "        -6.91654980e-02, -4.27119322e-02, -9.63813346e-03, -1.59387235e-02,\n",
       "         3.24192606e-02,  2.15384550e-03,  4.45113182e-02, -3.05692516e-02,\n",
       "         3.17218038e-03, -2.80870330e-02,  1.49719045e-02, -3.81774157e-02,\n",
       "        -6.11437187e-02,  3.17656435e-04, -5.26514277e-02, -4.71358094e-03,\n",
       "         1.36923409e-05, -6.09496819e-05,  3.97664771e-05, -6.11596079e-06,\n",
       "         1.64898847e-05,  4.22137709e-05, -3.02500594e-05,  8.22563015e-05,\n",
       "         1.27694202e-05, -9.08811489e-06, -3.17774684e-05,  4.50868720e-05,\n",
       "        -1.00514568e-04,  6.38869969e-05, -4.11371875e-05,  6.31380271e-06,\n",
       "        -3.30423354e-05,  9.43406922e-05, -5.61466077e-05, -2.93316207e-05,\n",
       "         1.01582500e-05, -2.34937797e-05,  1.25027227e-05, -1.05022664e-05,\n",
       "         1.18730586e-05, -9.96242306e-05,  5.32730410e-05,  1.24630014e-05,\n",
       "        -6.50424627e-05, -6.27352074e-06,  2.37604363e-05, -4.57168098e-05,\n",
       "         9.12909127e-06, -3.12834563e-05, -2.99824933e-05, -1.97439840e-06,\n",
       "         2.73338064e-05,  2.66762236e-05,  3.76735261e-05,  1.56827991e-05,\n",
       "         7.80407390e-06, -5.19404639e-05,  1.84321034e-05, -3.76462776e-06,\n",
       "        -8.86634189e-06,  1.30536464e-05, -4.88880833e-05,  4.58962895e-05,\n",
       "         3.70825455e-06, -5.99629857e-05, -6.40423605e-05,  2.68906078e-05,\n",
       "         1.04587307e-05, -2.45455121e-05, -1.31224897e-06, -7.89929472e-05,\n",
       "        -4.78330549e-06,  6.39235441e-05, -7.59154454e-06,  3.42382100e-06,\n",
       "         3.76787175e-05,  3.49650873e-05, -4.48322498e-05,  9.50323738e-06,\n",
       "        -3.63153413e-05, -1.31812540e-05, -2.88479750e-05,  4.57040478e-05,\n",
       "         1.59769552e-05,  2.05882843e-05, -1.36202852e-05,  1.66696882e-05,\n",
       "        -5.25421674e-05, -3.21189582e-05, -3.15465040e-05, -3.82235157e-06,\n",
       "        -3.10899813e-05,  1.41207711e-05,  2.33169194e-05,  8.73066165e-05,\n",
       "        -2.07312423e-05, -7.36258153e-05,  2.53499384e-05, -2.93494231e-05,\n",
       "         1.48488534e-05,  1.00757852e-05, -6.95180133e-05,  9.82353322e-06,\n",
       "         4.71435778e-05,  1.78924511e-05,  7.43821656e-05, -2.29035795e-05,\n",
       "         2.14399370e-05,  3.33748940e-05,  1.37271163e-05,  3.96872201e-06,\n",
       "         3.38383797e-05,  2.37603799e-05, -1.29868777e-05,  4.43387125e-06,\n",
       "         3.12256634e-06,  9.67432134e-05, -7.89105834e-05, -9.48616216e-05,\n",
       "        -3.94119998e-05, -2.49911500e-05,  1.11580966e-05, -3.10346004e-05,\n",
       "        -1.26899813e-05,  6.18719332e-06,  2.04435446e-06, -4.71692474e-05,\n",
       "         5.05578537e-05, -6.75218398e-05, -1.29083710e-05,  5.68484174e-05,\n",
       "         5.57440144e-05, -2.91021079e-05,  8.01123533e-05, -4.43450654e-06,\n",
       "        -2.16848530e-05, -6.18740887e-05, -3.90088462e-06,  4.76583991e-05,\n",
       "         4.54320434e-05,  1.69770283e-05, -1.82235981e-05,  1.85158970e-05],\n",
       "       dtype=float32)>,\n",
       " <tf.Tensor: shape=(128, 10000), dtype=float32, numpy=\n",
       " array([[ 1.02348439e-03,  1.55856903e-03,  9.88566200e-04, ...,\n",
       "         -1.81536586e-06, -1.81682810e-06, -1.81555606e-06],\n",
       "        [-3.11078411e-03, -4.86668292e-03, -3.47918319e-03, ...,\n",
       "          7.08447260e-06,  7.08872631e-06,  7.08856442e-06],\n",
       "        [ 1.32275769e-03,  1.94707129e-03,  2.30161240e-03, ...,\n",
       "         -2.90870162e-06, -2.91155106e-06, -2.91063839e-06],\n",
       "        ...,\n",
       "        [-3.10595473e-03, -3.69938510e-03, -2.35012569e-03, ...,\n",
       "          6.38431084e-06,  6.38972551e-06,  6.38768825e-06],\n",
       "        [ 1.16450276e-04, -4.07643442e-04, -7.54182343e-04, ...,\n",
       "          8.73266799e-07,  8.74156058e-07,  8.74693853e-07],\n",
       "        [ 2.07458448e-04,  1.73419947e-04,  2.74454214e-05, ...,\n",
       "         -8.50669267e-07, -8.52733706e-07, -8.52095013e-07]], dtype=float32)>,\n",
       " <tf.Tensor: shape=(10000,), dtype=float32, numpy=\n",
       " array([-0.79799855, -1.0313319 , -1.0313314 , ...,  0.00199948,\n",
       "         0.00199999,  0.00200037], dtype=float32)>]"
      ]
     },
     "execution_count": 47,
     "metadata": {},
     "output_type": "execute_result"
    }
   ],
   "source": [
    "# Define the gradient clipping threshold\n",
    "grads, _ = tf.clip_by_global_norm(grad_t_list, max_grad_norm)\n",
    "grads"
   ]
  },
  {
   "cell_type": "markdown",
   "metadata": {},
   "source": [
    "<h4> 4.Apply the optimizer to the variables/gradients tuple. </h4>\n"
   ]
  },
  {
   "cell_type": "code",
   "execution_count": 48,
   "metadata": {},
   "outputs": [],
   "source": [
    "# Create the training TensorFlow Operation through our optimizer\n",
    "train_op = optimizer.apply_gradients(zip(grads, tvars))"
   ]
  },
  {
   "cell_type": "markdown",
   "metadata": {},
   "source": [
    "<a id=\"ltsm\"></a>\n",
    "\n",
    "<h2>LSTM</h2>\n"
   ]
  },
  {
   "cell_type": "markdown",
   "metadata": {
    "button": false,
    "deletable": true,
    "new_sheet": false,
    "run_control": {
     "read_only": false
    }
   },
   "source": [
    "We learned how the model is build step by step. Noe, let's then create a Class that represents our model. This class needs a few things:\n",
    "\n",
    "<ul>\n",
    "    <li>We have to create the model in accordance with our defined hyperparameters</li>\n",
    "    <li>We have to create the LSTM cell structure and connect them with our RNN structure</li>\n",
    "    <li>We have to create the word embeddings and point them to the input data</li>\n",
    "    <li>We have to create the input structure for our RNN</li>\n",
    "    <li>We need to create a logistic structure to return the probability of our words</li>\n",
    "    <li>We need to create the loss and cost functions for our optimizer to work, and then create the optimizer</li>\n",
    "    <li>And finally, we need to create a training operation that can be run to actually train our model</li>\n",
    "</ul>\n"
   ]
  },
  {
   "cell_type": "code",
   "execution_count": 49,
   "metadata": {
    "button": false,
    "deletable": true,
    "new_sheet": false,
    "run_control": {
     "read_only": false
    },
    "tags": []
   },
   "outputs": [],
   "source": [
    "class PTBModel(object):\n",
    "\n",
    "\n",
    "    def __init__(self):\n",
    "        ######################################\n",
    "        # Setting parameters for ease of use #\n",
    "        ######################################\n",
    "        self.batch_size = batch_size\n",
    "        self.num_steps = num_steps\n",
    "        self.hidden_size_l1 = hidden_size_l1\n",
    "        self.hidden_size_l2 = hidden_size_l2\n",
    "        self.vocab_size = vocab_size\n",
    "        self.embeding_vector_size = embeding_vector_size\n",
    "        # Create a variable for the learning rate\n",
    "        self._lr = 1.0\n",
    "        \n",
    "        ###############################################################################\n",
    "        # Initializing the model using keras Sequential API  #\n",
    "        ###############################################################################\n",
    "        \n",
    "        self._model = tf.keras.models.Sequential()\n",
    "        \n",
    "        ####################################################################\n",
    "        # Creating the word embeddings layer and adding it to the sequence #\n",
    "        ####################################################################\n",
    "        with tf.device(\"/cpu:0\"):\n",
    "            # Create the embeddings for our input data. Size is hidden size.\n",
    "            self._embedding_layer = tf.keras.layers.Embedding(self.vocab_size, self.embeding_vector_size,batch_input_shape=(self.batch_size, self.num_steps),trainable=True,name=\"embedding_vocab\")  #[10000x200]\n",
    "            self._model.add(self._embedding_layer)\n",
    "            \n",
    "\n",
    "        ##########################################################################\n",
    "        # Creating the LSTM cell structure and connect it with the RNN structure #\n",
    "        ##########################################################################\n",
    "        # Create the LSTM Cells. \n",
    "        # This creates only the structure for the LSTM and has to be associated with a RNN unit still.\n",
    "        # The argument  of LSTMCell is size of hidden layer, that is, the number of hidden units of the LSTM (inside A). \n",
    "        # LSTM cell processes one word at a time and computes probabilities of the possible continuations of the sentence.\n",
    "        lstm_cell_l1 = tf.keras.layers.LSTMCell(hidden_size_l1)\n",
    "        lstm_cell_l2 = tf.keras.layers.LSTMCell(hidden_size_l2)\n",
    "        \n",
    "\n",
    "        \n",
    "        # By taking in the LSTM cells as parameters, the StackedRNNCells function junctions the LSTM units to the RNN units.\n",
    "        # RNN cell composed sequentially of stacked simple cells.\n",
    "        stacked_lstm = tf.keras.layers.StackedRNNCells([lstm_cell_l1, lstm_cell_l2])\n",
    "\n",
    "\n",
    "        \n",
    "\n",
    "        ############################################\n",
    "        # Creating the input structure for our RNN #\n",
    "        ############################################\n",
    "        # Input structure is 20x[30x200]\n",
    "        # Considering each word is represended by a 200 dimentional vector, and we have 30 batchs, we create 30 word-vectors of size [30xx2000]\n",
    "        # The input structure is fed from the embeddings, which are filled in by the input data\n",
    "        # Feeding a batch of b sentences to a RNN:\n",
    "        # In step 1,  first word of each of the b sentences (in a batch) is input in parallel.  \n",
    "        # In step 2,  second word of each of the b sentences is input in parallel. \n",
    "        # The parallelism is only for efficiency.  \n",
    "        # Each sentence in a batch is handled in parallel, but the network sees one word of a sentence at a time and does the computations accordingly. \n",
    "        # All the computations involving the words of all sentences in a batch at a given time step are done in parallel. \n",
    "\n",
    "        ########################################################################################################\n",
    "        # Instantiating our RNN model and setting stateful to True to feed forward the state to the next layer #\n",
    "        ########################################################################################################\n",
    "        \n",
    "        self._RNNlayer  =  tf.keras.layers.RNN(stacked_lstm,[batch_size, num_steps],return_state=False,stateful=True,trainable=True)\n",
    "        \n",
    "        # Define the initial state, i.e., the model state for the very first data point\n",
    "        # It initialize the state of the LSTM memory. The memory state of the network is initialized with a vector of zeros and gets updated after reading each word.\n",
    "        self._initial_state = tf.Variable(tf.zeros([batch_size,embeding_vector_size]),trainable=False)\n",
    "        self._RNNlayer.inital_state = self._initial_state\n",
    "    \n",
    "        ############################################\n",
    "        # Adding RNN layer to keras sequential API #\n",
    "        ############################################        \n",
    "        self._model.add(self._RNNlayer)\n",
    "        \n",
    "        #self._model.add(tf.keras.layers.LSTM(hidden_size_l1,return_sequences=True,stateful=True))\n",
    "        #self._model.add(tf.keras.layers.LSTM(hidden_size_l2,return_sequences=True))\n",
    "        \n",
    "        \n",
    "        ####################################################################################################\n",
    "        # Instantiating a Dense layer that connects the output to the vocab_size  and adding layer to model#\n",
    "        ####################################################################################################\n",
    "        self._dense = tf.keras.layers.Dense(self.vocab_size)\n",
    "        self._model.add(self._dense)\n",
    " \n",
    "        \n",
    "        ####################################################################################################\n",
    "        # Adding softmax activation layer and deriving probability to each class and adding layer to model #\n",
    "        ####################################################################################################\n",
    "        self._activation = tf.keras.layers.Activation('softmax')\n",
    "        self._model.add(self._activation)\n",
    "\n",
    "        ##########################################################\n",
    "        # Instantiating the stochastic gradient decent optimizer #\n",
    "        ########################################################## \n",
    "        self._optimizer = tf.keras.optimizers.SGD(lr=self._lr, clipnorm=max_grad_norm)\n",
    "        \n",
    "        \n",
    "        ##############################################################################\n",
    "        # Compiling and summarizing the model stacked using the keras sequential API #\n",
    "        ##############################################################################\n",
    "        self._model.compile(loss=self.crossentropy, optimizer=self._optimizer)\n",
    "        self._model.summary()\n",
    "\n",
    "\n",
    "    def crossentropy(self,y_true, y_pred):\n",
    "        return tf.keras.losses.sparse_categorical_crossentropy(y_true, y_pred)\n",
    "\n",
    "    def train_batch(self,_input_data,_targets):\n",
    "        #################################################\n",
    "        # Creating the Training Operation for our Model #\n",
    "        #################################################\n",
    "        # Create a variable for the learning rate\n",
    "        self._lr = tf.Variable(0.0, trainable=False)\n",
    "        # Get all TensorFlow variables marked as \"trainable\" (i.e. all of them except _lr, which we just created)\n",
    "        tvars = self._model.trainable_variables\n",
    "        # Define the gradient clipping threshold\n",
    "        with tf.GradientTape() as tape:\n",
    "            # Forward pass.\n",
    "            output_words_prob = self._model(_input_data)\n",
    "            # Loss value for this batch.\n",
    "            loss  = self.crossentropy(_targets, output_words_prob)\n",
    "            # average across batch and reduce sum\n",
    "            cost = tf.reduce_sum(loss/ self.batch_size)\n",
    "        # Get gradients of loss wrt the trainable variables.\n",
    "        grad_t_list = tape.gradient(cost, tvars)\n",
    "        # Define the gradient clipping threshold\n",
    "        grads, _ = tf.clip_by_global_norm(grad_t_list, max_grad_norm)\n",
    "        # Create the training TensorFlow Operation through our optimizer\n",
    "        train_op = self._optimizer.apply_gradients(zip(grads, tvars))\n",
    "        return cost\n",
    "        \n",
    "    def test_batch(self,_input_data,_targets):\n",
    "        #################################################\n",
    "        # Creating the Testing Operation for our Model #\n",
    "        #################################################\n",
    "        output_words_prob = self._model(_input_data)\n",
    "        loss  = self.crossentropy(_targets, output_words_prob)\n",
    "        # average across batch and reduce sum\n",
    "        cost = tf.reduce_sum(loss/ self.batch_size)\n",
    "\n",
    "        return cost\n",
    "    @classmethod\n",
    "    def instance(cls) : \n",
    "        return PTBModel()"
   ]
  },
  {
   "cell_type": "markdown",
   "metadata": {
    "button": false,
    "deletable": true,
    "new_sheet": false,
    "run_control": {
     "read_only": false
    }
   },
   "source": [
    "With that, the actual structure of our Recurrent Neural Network with Long Short-Term Memory is finished. What remains for us to do is to actually create the methods to run through time -- that is, the <code>run_epoch</code> method to be run at each epoch and a <code>main</code> script which ties all of this together.\n",
    "\n",
    "What our <code>run_epoch</code> method should do is take our input data and feed it to the relevant operations. This will return at the very least the current result for the cost function.\n"
   ]
  },
  {
   "cell_type": "code",
   "execution_count": 50,
   "metadata": {
    "button": false,
    "deletable": true,
    "new_sheet": false,
    "run_control": {
     "read_only": false
    }
   },
   "outputs": [],
   "source": [
    "\n",
    "########################################################################################################################\n",
    "# run_one_epoch takes as parameters  the model instance, the data to be fed, training or testing mode and verbose info #\n",
    "########################################################################################################################\n",
    "def run_one_epoch(m, data,is_training=True,verbose=False):\n",
    "\n",
    "    #Define the epoch size based on the length of the data, batch size and the number of steps\n",
    "    epoch_size = ((len(data) // m.batch_size) - 1) // m.num_steps\n",
    "    start_time = time.time()\n",
    "    costs = 0.\n",
    "    iters = 0\n",
    "    \n",
    "    m._model.reset_states()\n",
    "    \n",
    "    #For each step and data point\n",
    "    for step, (x, y) in enumerate(reader.ptb_iterator(data, m.batch_size, m.num_steps)):\n",
    "        \n",
    "        #Evaluate and return cost, state by running cost, final_state and the function passed as parameter\n",
    "        #y = tf.keras.utils.to_categorical(y, num_classes=vocab_size)\n",
    "        if is_training : \n",
    "            loss=  m.train_batch(x, y)\n",
    "        else :\n",
    "            loss = m.test_batch(x, y)\n",
    "                                   \n",
    "\n",
    "        #Add returned cost to costs (which keeps track of the total costs for this epoch)\n",
    "        costs += loss\n",
    "        \n",
    "        #Add number of steps to iteration counter\n",
    "        iters += m.num_steps\n",
    "\n",
    "        if verbose and step % (epoch_size // 10) == 10:\n",
    "            print(\"Itr %d of %d, perplexity: %.3f speed: %.0f wps\" % (step , epoch_size, np.exp(costs / iters), iters * m.batch_size / (time.time() - start_time)))\n",
    "        \n",
    "\n",
    "\n",
    "    # Returns the Perplexity rating for us to keep track of how the model is evolving\n",
    "    return np.exp(costs / iters)\n"
   ]
  },
  {
   "cell_type": "markdown",
   "metadata": {
    "button": false,
    "deletable": true,
    "new_sheet": false,
    "run_control": {
     "read_only": false
    }
   },
   "source": [
    "Now, we create the <code>main</code> method to tie everything together. The code here reads the data from the directory, using the <code>reader</code> helper module, and then trains and evaluates the model on both a testing and a validating subset of data.\n"
   ]
  },
  {
   "cell_type": "code",
   "execution_count": 51,
   "metadata": {
    "button": false,
    "deletable": true,
    "new_sheet": false,
    "run_control": {
     "read_only": false
    },
    "tags": []
   },
   "outputs": [],
   "source": [
    "# Reads the data and separates it into training data, validation data and testing data\n",
    "raw_data = reader.ptb_raw_data(data_dir)\n",
    "train_data, valid_data, test_data, _, _ = raw_data"
   ]
  },
  {
   "cell_type": "code",
   "execution_count": 52,
   "metadata": {
    "tags": []
   },
   "outputs": [
    {
     "name": "stdout",
     "output_type": "stream",
     "text": [
      "Model: \"sequential_1\"\n",
      "_________________________________________________________________\n",
      "Layer (type)                 Output Shape              Param #   \n",
      "=================================================================\n",
      "embedding_vocab (Embedding)  (30, 20, 200)             2000000   \n",
      "_________________________________________________________________\n",
      "rnn_1 (RNN)                  (30, 20, 128)             671088    \n",
      "_________________________________________________________________\n",
      "dense_1 (Dense)              (30, 20, 10000)           1290000   \n",
      "_________________________________________________________________\n",
      "activation_1 (Activation)    (30, 20, 10000)           0         \n",
      "=================================================================\n",
      "Total params: 3,961,088\n",
      "Trainable params: 3,955,088\n",
      "Non-trainable params: 6,000\n",
      "_________________________________________________________________\n",
      "Epoch 1 : Learning rate: 1.000\n",
      "Itr 10 of 1549, perplexity: 5015.922 speed: 236 wps\n",
      "Itr 164 of 1549, perplexity: 1096.445 speed: 236 wps\n",
      "Itr 318 of 1549, perplexity: 839.697 speed: 236 wps\n",
      "Itr 472 of 1549, perplexity: 701.099 speed: 234 wps\n",
      "Itr 626 of 1549, perplexity: 602.520 speed: 232 wps\n",
      "Itr 780 of 1549, perplexity: 537.850 speed: 231 wps\n",
      "Itr 934 of 1549, perplexity: 486.013 speed: 230 wps\n",
      "Itr 1088 of 1549, perplexity: 446.695 speed: 230 wps\n",
      "Itr 1242 of 1549, perplexity: 416.248 speed: 229 wps\n",
      "Itr 1396 of 1549, perplexity: 387.744 speed: 229 wps\n",
      "Epoch 1 : Train Perplexity: 365.188\n",
      "Epoch 1 : Valid Perplexity: 216.333\n",
      "Epoch 2 : Learning rate: 1.000\n",
      "Itr 10 of 1549, perplexity: 242.697 speed: 235 wps\n",
      "Itr 164 of 1549, perplexity: 214.453 speed: 228 wps\n",
      "Itr 318 of 1549, perplexity: 205.803 speed: 228 wps\n",
      "Itr 472 of 1549, perplexity: 197.520 speed: 229 wps\n",
      "Itr 626 of 1549, perplexity: 188.439 speed: 228 wps\n",
      "Itr 780 of 1549, perplexity: 184.676 speed: 229 wps\n",
      "Itr 934 of 1549, perplexity: 180.702 speed: 229 wps\n",
      "Itr 1088 of 1549, perplexity: 177.247 speed: 230 wps\n",
      "Itr 1242 of 1549, perplexity: 174.798 speed: 230 wps\n",
      "Itr 1396 of 1549, perplexity: 170.661 speed: 230 wps\n",
      "Epoch 2 : Train Perplexity: 167.740\n",
      "Epoch 2 : Valid Perplexity: 164.325\n",
      "Epoch 3 : Learning rate: 1.000\n",
      "Itr 10 of 1549, perplexity: 165.771 speed: 232 wps\n",
      "Itr 164 of 1549, perplexity: 150.127 speed: 232 wps\n",
      "Itr 318 of 1549, perplexity: 146.769 speed: 234 wps\n",
      "Itr 472 of 1549, perplexity: 142.364 speed: 233 wps\n",
      "Itr 626 of 1549, perplexity: 137.082 speed: 231 wps\n",
      "Itr 780 of 1549, perplexity: 135.834 speed: 231 wps\n",
      "Itr 934 of 1549, perplexity: 134.037 speed: 230 wps\n",
      "Itr 1088 of 1549, perplexity: 132.490 speed: 230 wps\n",
      "Itr 1242 of 1549, perplexity: 131.604 speed: 231 wps\n",
      "Itr 1396 of 1549, perplexity: 129.228 speed: 231 wps\n",
      "Epoch 3 : Train Perplexity: 127.950\n",
      "Epoch 3 : Valid Perplexity: 146.487\n",
      "Epoch 4 : Learning rate: 1.000\n",
      "Itr 10 of 1549, perplexity: 132.803 speed: 234 wps\n",
      "Itr 164 of 1549, perplexity: 122.520 speed: 228 wps\n",
      "Itr 318 of 1549, perplexity: 120.764 speed: 224 wps\n",
      "Itr 472 of 1549, perplexity: 117.392 speed: 222 wps\n",
      "Itr 626 of 1549, perplexity: 113.557 speed: 220 wps\n",
      "Itr 780 of 1549, perplexity: 113.102 speed: 220 wps\n",
      "Itr 934 of 1549, perplexity: 112.078 speed: 220 wps\n",
      "Itr 1088 of 1549, perplexity: 111.138 speed: 219 wps\n",
      "Itr 1242 of 1549, perplexity: 110.723 speed: 219 wps\n",
      "Itr 1396 of 1549, perplexity: 109.023 speed: 219 wps\n",
      "Epoch 4 : Train Perplexity: 108.253\n",
      "Epoch 4 : Valid Perplexity: 139.493\n",
      "Epoch 5 : Learning rate: 1.000\n",
      "Itr 10 of 1549, perplexity: 114.509 speed: 216 wps\n",
      "Itr 164 of 1549, perplexity: 107.037 speed: 218 wps\n",
      "Itr 318 of 1549, perplexity: 105.696 speed: 217 wps\n",
      "Itr 472 of 1549, perplexity: 102.743 speed: 217 wps\n",
      "Itr 626 of 1549, perplexity: 99.541 speed: 217 wps\n",
      "Itr 780 of 1549, perplexity: 99.389 speed: 218 wps\n",
      "Itr 934 of 1549, perplexity: 98.741 speed: 218 wps\n",
      "Itr 1088 of 1549, perplexity: 98.073 speed: 218 wps\n",
      "Itr 1242 of 1549, perplexity: 97.885 speed: 218 wps\n",
      "Itr 1396 of 1549, perplexity: 96.538 speed: 218 wps\n",
      "Epoch 5 : Train Perplexity: 96.021\n",
      "Epoch 5 : Valid Perplexity: 134.756\n",
      "Epoch 6 : Learning rate: 0.500\n",
      "Itr 10 of 1549, perplexity: 103.127 speed: 214 wps\n",
      "Itr 164 of 1549, perplexity: 93.445 speed: 223 wps\n",
      "Itr 318 of 1549, perplexity: 90.780 speed: 222 wps\n",
      "Itr 472 of 1549, perplexity: 87.454 speed: 221 wps\n",
      "Itr 626 of 1549, perplexity: 83.875 speed: 220 wps\n",
      "Itr 780 of 1549, perplexity: 83.112 speed: 221 wps\n",
      "Itr 934 of 1549, perplexity: 81.962 speed: 221 wps\n",
      "Itr 1088 of 1549, perplexity: 80.821 speed: 220 wps\n",
      "Itr 1242 of 1549, perplexity: 80.035 speed: 220 wps\n",
      "Itr 1396 of 1549, perplexity: 78.327 speed: 220 wps\n",
      "Epoch 6 : Train Perplexity: 77.355\n",
      "Epoch 6 : Valid Perplexity: 124.845\n",
      "Epoch 7 : Learning rate: 0.250\n",
      "Itr 10 of 1549, perplexity: 86.680 speed: 218 wps\n"
     ]
    },
    {
     "ename": "KeyboardInterrupt",
     "evalue": "",
     "output_type": "error",
     "traceback": [
      "\u001b[0;31m---------------------------------------------------------------------------\u001b[0m",
      "\u001b[0;31mKeyboardInterrupt\u001b[0m                         Traceback (most recent call last)",
      "\u001b[0;32m<timed exec>\u001b[0m in \u001b[0;36m<module>\u001b[0;34m\u001b[0m\n",
      "\u001b[0;32m<ipython-input-50-d851a9024023>\u001b[0m in \u001b[0;36mrun_one_epoch\u001b[0;34m(m, data, is_training, verbose)\u001b[0m\n\u001b[1;32m     18\u001b[0m         \u001b[0;31m#y = tf.keras.utils.to_categorical(y, num_classes=vocab_size)\u001b[0m\u001b[0;34m\u001b[0m\u001b[0;34m\u001b[0m\u001b[0;34m\u001b[0m\u001b[0m\n\u001b[1;32m     19\u001b[0m         \u001b[0;32mif\u001b[0m \u001b[0mis_training\u001b[0m \u001b[0;34m:\u001b[0m\u001b[0;34m\u001b[0m\u001b[0;34m\u001b[0m\u001b[0m\n\u001b[0;32m---> 20\u001b[0;31m             \u001b[0mloss\u001b[0m\u001b[0;34m=\u001b[0m  \u001b[0mm\u001b[0m\u001b[0;34m.\u001b[0m\u001b[0mtrain_batch\u001b[0m\u001b[0;34m(\u001b[0m\u001b[0mx\u001b[0m\u001b[0;34m,\u001b[0m \u001b[0my\u001b[0m\u001b[0;34m)\u001b[0m\u001b[0;34m\u001b[0m\u001b[0;34m\u001b[0m\u001b[0m\n\u001b[0m\u001b[1;32m     21\u001b[0m         \u001b[0;32melse\u001b[0m \u001b[0;34m:\u001b[0m\u001b[0;34m\u001b[0m\u001b[0;34m\u001b[0m\u001b[0m\n\u001b[1;32m     22\u001b[0m             \u001b[0mloss\u001b[0m \u001b[0;34m=\u001b[0m \u001b[0mm\u001b[0m\u001b[0;34m.\u001b[0m\u001b[0mtest_batch\u001b[0m\u001b[0;34m(\u001b[0m\u001b[0mx\u001b[0m\u001b[0;34m,\u001b[0m \u001b[0my\u001b[0m\u001b[0;34m)\u001b[0m\u001b[0;34m\u001b[0m\u001b[0;34m\u001b[0m\u001b[0m\n",
      "\u001b[0;32m<ipython-input-49-ce16a0a5575f>\u001b[0m in \u001b[0;36mtrain_batch\u001b[0;34m(self, _input_data, _targets)\u001b[0m\n\u001b[1;32m    132\u001b[0m         \u001b[0mgrads\u001b[0m\u001b[0;34m,\u001b[0m \u001b[0m_\u001b[0m \u001b[0;34m=\u001b[0m \u001b[0mtf\u001b[0m\u001b[0;34m.\u001b[0m\u001b[0mclip_by_global_norm\u001b[0m\u001b[0;34m(\u001b[0m\u001b[0mgrad_t_list\u001b[0m\u001b[0;34m,\u001b[0m \u001b[0mmax_grad_norm\u001b[0m\u001b[0;34m)\u001b[0m\u001b[0;34m\u001b[0m\u001b[0;34m\u001b[0m\u001b[0m\n\u001b[1;32m    133\u001b[0m         \u001b[0;31m# Create the training TensorFlow Operation through our optimizer\u001b[0m\u001b[0;34m\u001b[0m\u001b[0;34m\u001b[0m\u001b[0;34m\u001b[0m\u001b[0m\n\u001b[0;32m--> 134\u001b[0;31m         \u001b[0mtrain_op\u001b[0m \u001b[0;34m=\u001b[0m \u001b[0mself\u001b[0m\u001b[0;34m.\u001b[0m\u001b[0m_optimizer\u001b[0m\u001b[0;34m.\u001b[0m\u001b[0mapply_gradients\u001b[0m\u001b[0;34m(\u001b[0m\u001b[0mzip\u001b[0m\u001b[0;34m(\u001b[0m\u001b[0mgrads\u001b[0m\u001b[0;34m,\u001b[0m \u001b[0mtvars\u001b[0m\u001b[0;34m)\u001b[0m\u001b[0;34m)\u001b[0m\u001b[0;34m\u001b[0m\u001b[0;34m\u001b[0m\u001b[0m\n\u001b[0m\u001b[1;32m    135\u001b[0m         \u001b[0;32mreturn\u001b[0m \u001b[0mcost\u001b[0m\u001b[0;34m\u001b[0m\u001b[0;34m\u001b[0m\u001b[0m\n\u001b[1;32m    136\u001b[0m \u001b[0;34m\u001b[0m\u001b[0m\n",
      "\u001b[0;32m~/conda/envs/python/lib/python3.6/site-packages/tensorflow/python/keras/optimizer_v2/optimizer_v2.py\u001b[0m in \u001b[0;36mapply_gradients\u001b[0;34m(self, grads_and_vars, name, all_reduce_sum_gradients)\u001b[0m\n\u001b[1;32m    499\u001b[0m           \u001b[0margs\u001b[0m\u001b[0;34m=\u001b[0m\u001b[0;34m(\u001b[0m\u001b[0mgrads_and_vars\u001b[0m\u001b[0;34m,\u001b[0m\u001b[0;34m)\u001b[0m\u001b[0;34m,\u001b[0m\u001b[0;34m\u001b[0m\u001b[0;34m\u001b[0m\u001b[0m\n\u001b[1;32m    500\u001b[0m           kwargs={\n\u001b[0;32m--> 501\u001b[0;31m               \u001b[0;34m\"name\"\u001b[0m\u001b[0;34m:\u001b[0m \u001b[0mname\u001b[0m\u001b[0;34m,\u001b[0m\u001b[0;34m\u001b[0m\u001b[0;34m\u001b[0m\u001b[0m\n\u001b[0m\u001b[1;32m    502\u001b[0m           })\n\u001b[1;32m    503\u001b[0m \u001b[0;34m\u001b[0m\u001b[0m\n",
      "\u001b[0;32m~/conda/envs/python/lib/python3.6/site-packages/tensorflow/python/distribute/distribute_lib.py\u001b[0m in \u001b[0;36mmerge_call\u001b[0;34m(self, merge_fn, args, kwargs)\u001b[0m\n\u001b[1;32m   2384\u001b[0m     merge_fn = autograph.tf_convert(\n\u001b[1;32m   2385\u001b[0m         merge_fn, autograph_ctx.control_status_ctx(), convert_by_default=False)\n\u001b[0;32m-> 2386\u001b[0;31m     \u001b[0;32mreturn\u001b[0m \u001b[0mself\u001b[0m\u001b[0;34m.\u001b[0m\u001b[0m_merge_call\u001b[0m\u001b[0;34m(\u001b[0m\u001b[0mmerge_fn\u001b[0m\u001b[0;34m,\u001b[0m \u001b[0margs\u001b[0m\u001b[0;34m,\u001b[0m \u001b[0mkwargs\u001b[0m\u001b[0;34m)\u001b[0m\u001b[0;34m\u001b[0m\u001b[0;34m\u001b[0m\u001b[0m\n\u001b[0m\u001b[1;32m   2387\u001b[0m \u001b[0;34m\u001b[0m\u001b[0m\n\u001b[1;32m   2388\u001b[0m   \u001b[0;32mdef\u001b[0m \u001b[0m_merge_call\u001b[0m\u001b[0;34m(\u001b[0m\u001b[0mself\u001b[0m\u001b[0;34m,\u001b[0m \u001b[0mmerge_fn\u001b[0m\u001b[0;34m,\u001b[0m \u001b[0margs\u001b[0m\u001b[0;34m,\u001b[0m \u001b[0mkwargs\u001b[0m\u001b[0;34m)\u001b[0m\u001b[0;34m:\u001b[0m\u001b[0;34m\u001b[0m\u001b[0;34m\u001b[0m\u001b[0m\n",
      "\u001b[0;32m~/conda/envs/python/lib/python3.6/site-packages/tensorflow/python/distribute/distribute_lib.py\u001b[0m in \u001b[0;36m_merge_call\u001b[0;34m(self, merge_fn, args, kwargs)\u001b[0m\n\u001b[1;32m   2391\u001b[0m         distribution_strategy_context._CrossReplicaThreadMode(self._strategy))  # pylint: disable=protected-access\n\u001b[1;32m   2392\u001b[0m     \u001b[0;32mtry\u001b[0m\u001b[0;34m:\u001b[0m\u001b[0;34m\u001b[0m\u001b[0;34m\u001b[0m\u001b[0m\n\u001b[0;32m-> 2393\u001b[0;31m       \u001b[0;32mreturn\u001b[0m \u001b[0mmerge_fn\u001b[0m\u001b[0;34m(\u001b[0m\u001b[0mself\u001b[0m\u001b[0;34m.\u001b[0m\u001b[0m_strategy\u001b[0m\u001b[0;34m,\u001b[0m \u001b[0;34m*\u001b[0m\u001b[0margs\u001b[0m\u001b[0;34m,\u001b[0m \u001b[0;34m**\u001b[0m\u001b[0mkwargs\u001b[0m\u001b[0;34m)\u001b[0m\u001b[0;34m\u001b[0m\u001b[0;34m\u001b[0m\u001b[0m\n\u001b[0m\u001b[1;32m   2394\u001b[0m     \u001b[0;32mfinally\u001b[0m\u001b[0;34m:\u001b[0m\u001b[0;34m\u001b[0m\u001b[0;34m\u001b[0m\u001b[0m\n\u001b[1;32m   2395\u001b[0m       \u001b[0m_pop_per_thread_mode\u001b[0m\u001b[0;34m(\u001b[0m\u001b[0;34m)\u001b[0m\u001b[0;34m\u001b[0m\u001b[0;34m\u001b[0m\u001b[0m\n",
      "\u001b[0;32m~/conda/envs/python/lib/python3.6/site-packages/tensorflow/python/autograph/impl/api.py\u001b[0m in \u001b[0;36mwrapper\u001b[0;34m(*args, **kwargs)\u001b[0m\n\u001b[1;32m    280\u001b[0m   \u001b[0;32mdef\u001b[0m \u001b[0mwrapper\u001b[0m\u001b[0;34m(\u001b[0m\u001b[0;34m*\u001b[0m\u001b[0margs\u001b[0m\u001b[0;34m,\u001b[0m \u001b[0;34m**\u001b[0m\u001b[0mkwargs\u001b[0m\u001b[0;34m)\u001b[0m\u001b[0;34m:\u001b[0m\u001b[0;34m\u001b[0m\u001b[0;34m\u001b[0m\u001b[0m\n\u001b[1;32m    281\u001b[0m     \u001b[0;32mwith\u001b[0m \u001b[0mag_ctx\u001b[0m\u001b[0;34m.\u001b[0m\u001b[0mControlStatusCtx\u001b[0m\u001b[0;34m(\u001b[0m\u001b[0mstatus\u001b[0m\u001b[0;34m=\u001b[0m\u001b[0mag_ctx\u001b[0m\u001b[0;34m.\u001b[0m\u001b[0mStatus\u001b[0m\u001b[0;34m.\u001b[0m\u001b[0mUNSPECIFIED\u001b[0m\u001b[0;34m)\u001b[0m\u001b[0;34m:\u001b[0m\u001b[0;34m\u001b[0m\u001b[0;34m\u001b[0m\u001b[0m\n\u001b[0;32m--> 282\u001b[0;31m       \u001b[0;32mreturn\u001b[0m \u001b[0mfunc\u001b[0m\u001b[0;34m(\u001b[0m\u001b[0;34m*\u001b[0m\u001b[0margs\u001b[0m\u001b[0;34m,\u001b[0m \u001b[0;34m**\u001b[0m\u001b[0mkwargs\u001b[0m\u001b[0;34m)\u001b[0m\u001b[0;34m\u001b[0m\u001b[0;34m\u001b[0m\u001b[0m\n\u001b[0m\u001b[1;32m    283\u001b[0m \u001b[0;34m\u001b[0m\u001b[0m\n\u001b[1;32m    284\u001b[0m   \u001b[0;32mif\u001b[0m \u001b[0minspect\u001b[0m\u001b[0;34m.\u001b[0m\u001b[0misfunction\u001b[0m\u001b[0;34m(\u001b[0m\u001b[0mfunc\u001b[0m\u001b[0;34m)\u001b[0m \u001b[0;32mor\u001b[0m \u001b[0minspect\u001b[0m\u001b[0;34m.\u001b[0m\u001b[0mismethod\u001b[0m\u001b[0;34m(\u001b[0m\u001b[0mfunc\u001b[0m\u001b[0;34m)\u001b[0m\u001b[0;34m:\u001b[0m\u001b[0;34m\u001b[0m\u001b[0;34m\u001b[0m\u001b[0m\n",
      "\u001b[0;32m~/conda/envs/python/lib/python3.6/site-packages/tensorflow/python/keras/optimizer_v2/optimizer_v2.py\u001b[0m in \u001b[0;36m_distributed_apply\u001b[0;34m(self, distribution, grads_and_vars, name, apply_state)\u001b[0m\n\u001b[1;32m    569\u001b[0m                               \"update_\" + var.op.name, skip_on_eager=True):\n\u001b[1;32m    570\u001b[0m             update_ops.extend(distribution.extended.update(\n\u001b[0;32m--> 571\u001b[0;31m                 var, apply_grad_to_update_var, args=(grad,), group=False))\n\u001b[0m\u001b[1;32m    572\u001b[0m \u001b[0;34m\u001b[0m\u001b[0m\n\u001b[1;32m    573\u001b[0m       any_symbolic = any(isinstance(i, ops.Operation) or\n",
      "\u001b[0;32m~/conda/envs/python/lib/python3.6/site-packages/tensorflow/python/distribute/distribute_lib.py\u001b[0m in \u001b[0;36mupdate\u001b[0;34m(self, var, fn, args, kwargs, group)\u001b[0m\n\u001b[1;32m   1974\u001b[0m         fn, autograph_ctx.control_status_ctx(), convert_by_default=False)\n\u001b[1;32m   1975\u001b[0m     \u001b[0;32mwith\u001b[0m \u001b[0mself\u001b[0m\u001b[0;34m.\u001b[0m\u001b[0m_container_strategy\u001b[0m\u001b[0;34m(\u001b[0m\u001b[0;34m)\u001b[0m\u001b[0;34m.\u001b[0m\u001b[0mscope\u001b[0m\u001b[0;34m(\u001b[0m\u001b[0;34m)\u001b[0m\u001b[0;34m:\u001b[0m\u001b[0;34m\u001b[0m\u001b[0;34m\u001b[0m\u001b[0m\n\u001b[0;32m-> 1976\u001b[0;31m       \u001b[0;32mreturn\u001b[0m \u001b[0mself\u001b[0m\u001b[0;34m.\u001b[0m\u001b[0m_update\u001b[0m\u001b[0;34m(\u001b[0m\u001b[0mvar\u001b[0m\u001b[0;34m,\u001b[0m \u001b[0mfn\u001b[0m\u001b[0;34m,\u001b[0m \u001b[0margs\u001b[0m\u001b[0;34m,\u001b[0m \u001b[0mkwargs\u001b[0m\u001b[0;34m,\u001b[0m \u001b[0mgroup\u001b[0m\u001b[0;34m)\u001b[0m\u001b[0;34m\u001b[0m\u001b[0;34m\u001b[0m\u001b[0m\n\u001b[0m\u001b[1;32m   1977\u001b[0m \u001b[0;34m\u001b[0m\u001b[0m\n\u001b[1;32m   1978\u001b[0m   \u001b[0;32mdef\u001b[0m \u001b[0m_update\u001b[0m\u001b[0;34m(\u001b[0m\u001b[0mself\u001b[0m\u001b[0;34m,\u001b[0m \u001b[0mvar\u001b[0m\u001b[0;34m,\u001b[0m \u001b[0mfn\u001b[0m\u001b[0;34m,\u001b[0m \u001b[0margs\u001b[0m\u001b[0;34m,\u001b[0m \u001b[0mkwargs\u001b[0m\u001b[0;34m,\u001b[0m \u001b[0mgroup\u001b[0m\u001b[0;34m)\u001b[0m\u001b[0;34m:\u001b[0m\u001b[0;34m\u001b[0m\u001b[0;34m\u001b[0m\u001b[0m\n",
      "\u001b[0;32m~/conda/envs/python/lib/python3.6/site-packages/tensorflow/python/distribute/distribute_lib.py\u001b[0m in \u001b[0;36m_update\u001b[0;34m(self, var, fn, args, kwargs, group)\u001b[0m\n\u001b[1;32m   2623\u001b[0m     \u001b[0;31m# The implementations of _update() and _update_non_slot() are identical\u001b[0m\u001b[0;34m\u001b[0m\u001b[0;34m\u001b[0m\u001b[0;34m\u001b[0m\u001b[0m\n\u001b[1;32m   2624\u001b[0m     \u001b[0;31m# except _update() passes `var` as the first argument to `fn()`.\u001b[0m\u001b[0;34m\u001b[0m\u001b[0;34m\u001b[0m\u001b[0;34m\u001b[0m\u001b[0m\n\u001b[0;32m-> 2625\u001b[0;31m     \u001b[0;32mreturn\u001b[0m \u001b[0mself\u001b[0m\u001b[0;34m.\u001b[0m\u001b[0m_update_non_slot\u001b[0m\u001b[0;34m(\u001b[0m\u001b[0mvar\u001b[0m\u001b[0;34m,\u001b[0m \u001b[0mfn\u001b[0m\u001b[0;34m,\u001b[0m \u001b[0;34m(\u001b[0m\u001b[0mvar\u001b[0m\u001b[0;34m,\u001b[0m\u001b[0;34m)\u001b[0m \u001b[0;34m+\u001b[0m \u001b[0mtuple\u001b[0m\u001b[0;34m(\u001b[0m\u001b[0margs\u001b[0m\u001b[0;34m)\u001b[0m\u001b[0;34m,\u001b[0m \u001b[0mkwargs\u001b[0m\u001b[0;34m,\u001b[0m \u001b[0mgroup\u001b[0m\u001b[0;34m)\u001b[0m\u001b[0;34m\u001b[0m\u001b[0;34m\u001b[0m\u001b[0m\n\u001b[0m\u001b[1;32m   2626\u001b[0m \u001b[0;34m\u001b[0m\u001b[0m\n\u001b[1;32m   2627\u001b[0m   \u001b[0;32mdef\u001b[0m \u001b[0m_update_non_slot\u001b[0m\u001b[0;34m(\u001b[0m\u001b[0mself\u001b[0m\u001b[0;34m,\u001b[0m \u001b[0mcolocate_with\u001b[0m\u001b[0;34m,\u001b[0m \u001b[0mfn\u001b[0m\u001b[0;34m,\u001b[0m \u001b[0margs\u001b[0m\u001b[0;34m,\u001b[0m \u001b[0mkwargs\u001b[0m\u001b[0;34m,\u001b[0m \u001b[0mshould_group\u001b[0m\u001b[0;34m)\u001b[0m\u001b[0;34m:\u001b[0m\u001b[0;34m\u001b[0m\u001b[0;34m\u001b[0m\u001b[0m\n",
      "\u001b[0;32m~/conda/envs/python/lib/python3.6/site-packages/tensorflow/python/distribute/distribute_lib.py\u001b[0m in \u001b[0;36m_update_non_slot\u001b[0;34m(self, colocate_with, fn, args, kwargs, should_group)\u001b[0m\n\u001b[1;32m   2629\u001b[0m     \u001b[0;31m# once that value is used for something.\u001b[0m\u001b[0;34m\u001b[0m\u001b[0;34m\u001b[0m\u001b[0;34m\u001b[0m\u001b[0m\n\u001b[1;32m   2630\u001b[0m     \u001b[0;32mwith\u001b[0m \u001b[0mUpdateContext\u001b[0m\u001b[0;34m(\u001b[0m\u001b[0mcolocate_with\u001b[0m\u001b[0;34m)\u001b[0m\u001b[0;34m:\u001b[0m\u001b[0;34m\u001b[0m\u001b[0;34m\u001b[0m\u001b[0m\n\u001b[0;32m-> 2631\u001b[0;31m       \u001b[0mresult\u001b[0m \u001b[0;34m=\u001b[0m \u001b[0mfn\u001b[0m\u001b[0;34m(\u001b[0m\u001b[0;34m*\u001b[0m\u001b[0margs\u001b[0m\u001b[0;34m,\u001b[0m \u001b[0;34m**\u001b[0m\u001b[0mkwargs\u001b[0m\u001b[0;34m)\u001b[0m\u001b[0;34m\u001b[0m\u001b[0;34m\u001b[0m\u001b[0m\n\u001b[0m\u001b[1;32m   2632\u001b[0m       \u001b[0;32mif\u001b[0m \u001b[0mshould_group\u001b[0m\u001b[0;34m:\u001b[0m\u001b[0;34m\u001b[0m\u001b[0;34m\u001b[0m\u001b[0m\n\u001b[1;32m   2633\u001b[0m         \u001b[0;32mreturn\u001b[0m \u001b[0mresult\u001b[0m\u001b[0;34m\u001b[0m\u001b[0;34m\u001b[0m\u001b[0m\n",
      "\u001b[0;32m~/conda/envs/python/lib/python3.6/site-packages/tensorflow/python/autograph/impl/api.py\u001b[0m in \u001b[0;36mwrapper\u001b[0;34m(*args, **kwargs)\u001b[0m\n\u001b[1;32m    280\u001b[0m   \u001b[0;32mdef\u001b[0m \u001b[0mwrapper\u001b[0m\u001b[0;34m(\u001b[0m\u001b[0;34m*\u001b[0m\u001b[0margs\u001b[0m\u001b[0;34m,\u001b[0m \u001b[0;34m**\u001b[0m\u001b[0mkwargs\u001b[0m\u001b[0;34m)\u001b[0m\u001b[0;34m:\u001b[0m\u001b[0;34m\u001b[0m\u001b[0;34m\u001b[0m\u001b[0m\n\u001b[1;32m    281\u001b[0m     \u001b[0;32mwith\u001b[0m \u001b[0mag_ctx\u001b[0m\u001b[0;34m.\u001b[0m\u001b[0mControlStatusCtx\u001b[0m\u001b[0;34m(\u001b[0m\u001b[0mstatus\u001b[0m\u001b[0;34m=\u001b[0m\u001b[0mag_ctx\u001b[0m\u001b[0;34m.\u001b[0m\u001b[0mStatus\u001b[0m\u001b[0;34m.\u001b[0m\u001b[0mUNSPECIFIED\u001b[0m\u001b[0;34m)\u001b[0m\u001b[0;34m:\u001b[0m\u001b[0;34m\u001b[0m\u001b[0;34m\u001b[0m\u001b[0m\n\u001b[0;32m--> 282\u001b[0;31m       \u001b[0;32mreturn\u001b[0m \u001b[0mfunc\u001b[0m\u001b[0;34m(\u001b[0m\u001b[0;34m*\u001b[0m\u001b[0margs\u001b[0m\u001b[0;34m,\u001b[0m \u001b[0;34m**\u001b[0m\u001b[0mkwargs\u001b[0m\u001b[0;34m)\u001b[0m\u001b[0;34m\u001b[0m\u001b[0;34m\u001b[0m\u001b[0m\n\u001b[0m\u001b[1;32m    283\u001b[0m \u001b[0;34m\u001b[0m\u001b[0m\n\u001b[1;32m    284\u001b[0m   \u001b[0;32mif\u001b[0m \u001b[0minspect\u001b[0m\u001b[0;34m.\u001b[0m\u001b[0misfunction\u001b[0m\u001b[0;34m(\u001b[0m\u001b[0mfunc\u001b[0m\u001b[0;34m)\u001b[0m \u001b[0;32mor\u001b[0m \u001b[0minspect\u001b[0m\u001b[0;34m.\u001b[0m\u001b[0mismethod\u001b[0m\u001b[0;34m(\u001b[0m\u001b[0mfunc\u001b[0m\u001b[0;34m)\u001b[0m\u001b[0;34m:\u001b[0m\u001b[0;34m\u001b[0m\u001b[0;34m\u001b[0m\u001b[0m\n",
      "\u001b[0;32m~/conda/envs/python/lib/python3.6/site-packages/tensorflow/python/keras/optimizer_v2/optimizer_v2.py\u001b[0m in \u001b[0;36mapply_grad_to_update_var\u001b[0;34m(var, grad)\u001b[0m\n\u001b[1;32m    540\u001b[0m           \u001b[0mapply_kwargs\u001b[0m\u001b[0;34m[\u001b[0m\u001b[0;34m\"apply_state\"\u001b[0m\u001b[0;34m]\u001b[0m \u001b[0;34m=\u001b[0m \u001b[0mapply_state\u001b[0m\u001b[0;34m\u001b[0m\u001b[0;34m\u001b[0m\u001b[0m\n\u001b[1;32m    541\u001b[0m         return self._resource_apply_sparse_duplicate_indices(\n\u001b[0;32m--> 542\u001b[0;31m             grad.values, var, grad.indices, **apply_kwargs)\n\u001b[0m\u001b[1;32m    543\u001b[0m \u001b[0;34m\u001b[0m\u001b[0m\n\u001b[1;32m    544\u001b[0m       \u001b[0;32mif\u001b[0m \u001b[0;34m\"apply_state\"\u001b[0m \u001b[0;32min\u001b[0m \u001b[0mself\u001b[0m\u001b[0;34m.\u001b[0m\u001b[0m_dense_apply_args\u001b[0m\u001b[0;34m:\u001b[0m\u001b[0;34m\u001b[0m\u001b[0;34m\u001b[0m\u001b[0m\n",
      "\u001b[0;32m~/conda/envs/python/lib/python3.6/site-packages/tensorflow/python/keras/optimizer_v2/gradient_descent.py\u001b[0m in \u001b[0;36m_resource_apply_sparse_duplicate_indices\u001b[0;34m(self, grad, var, indices, **kwargs)\u001b[0m\n\u001b[1;32m    153\u001b[0m \u001b[0;34m\u001b[0m\u001b[0m\n\u001b[1;32m    154\u001b[0m       return resource_variable_ops.resource_scatter_add(\n\u001b[0;32m--> 155\u001b[0;31m           var.handle, indices, -grad * coefficients[\"lr_t\"])\n\u001b[0m\u001b[1;32m    156\u001b[0m \u001b[0;34m\u001b[0m\u001b[0m\n\u001b[1;32m    157\u001b[0m   \u001b[0;32mdef\u001b[0m \u001b[0m_resource_apply_sparse\u001b[0m\u001b[0;34m(\u001b[0m\u001b[0mself\u001b[0m\u001b[0;34m,\u001b[0m \u001b[0mgrad\u001b[0m\u001b[0;34m,\u001b[0m \u001b[0mvar\u001b[0m\u001b[0;34m,\u001b[0m \u001b[0mindices\u001b[0m\u001b[0;34m,\u001b[0m \u001b[0mapply_state\u001b[0m\u001b[0;34m=\u001b[0m\u001b[0;32mNone\u001b[0m\u001b[0;34m)\u001b[0m\u001b[0;34m:\u001b[0m\u001b[0;34m\u001b[0m\u001b[0;34m\u001b[0m\u001b[0m\n",
      "\u001b[0;32m~/conda/envs/python/lib/python3.6/site-packages/tensorflow/python/ops/gen_math_ops.py\u001b[0m in \u001b[0;36mneg\u001b[0;34m(x, name)\u001b[0m\n\u001b[1;32m   6250\u001b[0m       _result = pywrap_tfe.TFE_Py_FastPathExecute(\n\u001b[1;32m   6251\u001b[0m         \u001b[0m_ctx\u001b[0m\u001b[0;34m.\u001b[0m\u001b[0m_context_handle\u001b[0m\u001b[0;34m,\u001b[0m \u001b[0mtld\u001b[0m\u001b[0;34m.\u001b[0m\u001b[0mdevice_name\u001b[0m\u001b[0;34m,\u001b[0m \u001b[0;34m\"Neg\"\u001b[0m\u001b[0;34m,\u001b[0m \u001b[0mname\u001b[0m\u001b[0;34m,\u001b[0m \u001b[0mtld\u001b[0m\u001b[0;34m.\u001b[0m\u001b[0mop_callbacks\u001b[0m\u001b[0;34m,\u001b[0m\u001b[0;34m\u001b[0m\u001b[0;34m\u001b[0m\u001b[0m\n\u001b[0;32m-> 6252\u001b[0;31m         x)\n\u001b[0m\u001b[1;32m   6253\u001b[0m       \u001b[0;32mreturn\u001b[0m \u001b[0m_result\u001b[0m\u001b[0;34m\u001b[0m\u001b[0;34m\u001b[0m\u001b[0m\n\u001b[1;32m   6254\u001b[0m     \u001b[0;32mexcept\u001b[0m \u001b[0m_core\u001b[0m\u001b[0;34m.\u001b[0m\u001b[0m_FallbackException\u001b[0m\u001b[0;34m:\u001b[0m\u001b[0;34m\u001b[0m\u001b[0;34m\u001b[0m\u001b[0m\n",
      "\u001b[0;31mKeyboardInterrupt\u001b[0m: "
     ]
    }
   ],
   "source": [
    "%%time\n",
    "# Instantiates the PTBModel class\n",
    "m=PTBModel.instance()   \n",
    "K = tf.keras.backend \n",
    "for i in range(max_epoch):\n",
    "    # Define the decay for this epoch\n",
    "    lr_decay = decay ** max(i - max_epoch_decay_lr, 0.0)\n",
    "    dcr = learning_rate * lr_decay\n",
    "    m._lr = dcr\n",
    "    K.set_value(m._model.optimizer.learning_rate,m._lr)\n",
    "    print(\"Epoch %d : Learning rate: %.3f\" % (i + 1, m._model.optimizer.learning_rate))\n",
    "    # Run the loop for this epoch in the training mode\n",
    "    train_perplexity = run_one_epoch(m, train_data,is_training=True,verbose=True)\n",
    "    print(\"Epoch %d : Train Perplexity: %.3f\" % (i + 1, train_perplexity))\n",
    "        \n",
    "    # Run the loop for this epoch in the validation mode\n",
    "    valid_perplexity = run_one_epoch(m, valid_data,is_training=False,verbose=False)\n",
    "    print(\"Epoch %d : Valid Perplexity: %.3f\" % (i + 1, valid_perplexity))\n",
    "    \n",
    "# Run the loop in the testing mode to see how effective was our training\n",
    "test_perplexity = run_one_epoch(m, test_data,is_training=False,verbose=False)\n",
    "print(\"Test Perplexity: %.3f\" % test_perplexity)\n",
    "\n"
   ]
  },
  {
   "cell_type": "markdown",
   "metadata": {
    "button": false,
    "deletable": true,
    "new_sheet": false,
    "run_control": {
     "read_only": false
    }
   },
   "source": [
    "As you can see, the model's perplexity rating drops very quickly after a few iterations. As was elaborated before, <b>lower Perplexity means that the model is more certain about its prediction</b>. As such, we can be sure that this model is performing well!\n"
   ]
  },
  {
   "cell_type": "markdown",
   "metadata": {
    "button": false,
    "deletable": true,
    "new_sheet": false,
    "run_control": {
     "read_only": false
    }
   },
   "source": [
    "* * *\n"
   ]
  },
  {
   "cell_type": "markdown",
   "metadata": {
    "button": false,
    "deletable": true,
    "new_sheet": false,
    "run_control": {
     "read_only": false
    }
   },
   "source": [
    "This is the end of the <b>Applying Recurrent Neural Networks to Text Processing</b> notebook. Hopefully you now have a better understanding of Recurrent Neural Networks and how to implement one utilizing TensorFlow. Thank you for reading this notebook, and good luck on your studies.\n"
   ]
  },
  {
   "cell_type": "markdown",
   "metadata": {
    "button": false,
    "deletable": true,
    "new_sheet": false,
    "run_control": {
     "read_only": false
    }
   },
   "source": [
    "## Want to learn more?\n",
    "\n",
    "Running deep learning programs usually needs a high performance platform. **PowerAI** speeds up deep learning and AI. Built on IBM’s Power Systems, **PowerAI** is a scalable software platform that accelerates deep learning and AI with blazing performance for individual users or enterprises. The **PowerAI** platform supports popular machine learning libraries and dependencies including TensorFlow, Caffe, Torch, and Theano. You can use [PowerAI on IMB Cloud](https://cocl.us/ML0120EN_PAI).\n",
    "\n",
    "Also, you can use **Watson Studio** to run these notebooks faster with bigger datasets.**Watson Studio** is IBM’s leading cloud solution for data scientists, built by data scientists. With Jupyter notebooks, RStudio, Apache Spark and popular libraries pre-packaged in the cloud, **Watson Studio** enables data scientists to collaborate on their projects without having to install anything. Join the fast-growing community of **Watson Studio** users today with a free account at [Watson Studio](https://cocl.us/ML0120EN_DSX).This is the end of this lesson. Thank you for reading this notebook, and good luck on your studies.\n"
   ]
  },
  {
   "cell_type": "markdown",
   "metadata": {
    "button": false,
    "deletable": true,
    "new_sheet": false,
    "run_control": {
     "read_only": false
    }
   },
   "source": [
    "### Thanks for completing this lesson!\n",
    "\n",
    "Notebook created by <a href=\"https://br.linkedin.com/in/walter-gomes-de-amorim-junior-624726121\">Walter Gomes de Amorim Junior</a>, <a href = \"https://linkedin.com/in/saeedaghabozorgi\"> Saeed Aghabozorgi </a></h4>\n",
    "\n",
    "Updated to TF 2.X by  <a href=\"https://www.linkedin.com/in/samaya-madhavan\"> Samaya Madhavan </a>\n"
   ]
  },
  {
   "cell_type": "markdown",
   "metadata": {
    "button": false,
    "deletable": true,
    "new_sheet": false,
    "run_control": {
     "read_only": false
    }
   },
   "source": [
    "<hr>\n",
    "\n",
    "Copyright © 2018 [Cognitive Class](https://cocl.us/DX0108EN_CC). This notebook and its source code are released under the terms of the [MIT License](https://bigdatauniversity.com/mit-license?cm_mmc=Email_Newsletter-_-Developer_Ed%2BTech-_-WW_WW-_-SkillsNetwork-Courses-IBMDeveloperSkillsNetwork-DL0120EN-SkillsNetwork-20629446&cm_mmca1=000026UJ&cm_mmca2=10006555&cm_mmca3=M12345678&cvosrc=email.Newsletter.M12345678&cvo_campaign=000026UJ&cm_mmc=Email_Newsletter-_-Developer_Ed%2BTech-_-WW_WW-_-SkillsNetwork-Courses-IBMDeveloperSkillsNetwork-DL0120EN-SkillsNetwork-20629446&cm_mmca1=000026UJ&cm_mmca2=10006555&cm_mmca3=M12345678&cvosrc=email.Newsletter.M12345678&cvo_campaign=000026UJ).\n"
   ]
  }
 ],
 "metadata": {
  "anaconda-cloud": {},
  "kernelspec": {
   "display_name": "Python",
   "language": "python",
   "name": "conda-env-python-py"
  },
  "language_info": {
   "codemirror_mode": {
    "name": "ipython",
    "version": 3
   },
   "file_extension": ".py",
   "mimetype": "text/x-python",
   "name": "python",
   "nbconvert_exporter": "python",
   "pygments_lexer": "ipython3",
   "version": "3.6.11"
  },
  "widgets": {
   "state": {},
   "version": "1.1.2"
  }
 },
 "nbformat": 4,
 "nbformat_minor": 4
}
