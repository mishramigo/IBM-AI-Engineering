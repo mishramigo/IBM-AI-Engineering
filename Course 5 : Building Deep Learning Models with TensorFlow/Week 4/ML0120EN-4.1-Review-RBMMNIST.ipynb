{
 "cells": [
  {
   "cell_type": "markdown",
   "metadata": {},
   "source": [
    "<a href=\"https://www.skills.network/\"><img src=\"https://cf-courses-data.s3.us.cloud-object-storage.appdomain.cloud/IBM-DL0120ENedX/labs/Template%20for%20Instructional%20Hands-on%20Labs/images/IDSNlogo.png\" width=\"400px\" align=\"center\"></a>\n",
    "\n",
    "<h1 align=\"center\"><font size=\"5\">RESTRICTED BOLTZMANN MACHINES</font></h1>\n"
   ]
  },
  {
   "cell_type": "markdown",
   "metadata": {},
   "source": [
    "<h3>Introduction</h3>\n",
    "<b>Restricted Boltzmann Machine (RBM):</b>  RBMs are shallow neural nets that learn to reconstruct data by themselves in an unsupervised fashion.  \n",
    "\n",
    "<h4>Why are RBMs important?</h4>\n",
    "An RBM are a basic form of autoencoder.  It can automatically extract <b>meaningful</b> features from a given input.\n",
    "\n",
    "<h4>How does it work?</h4>\n",
    "RBM is a 2 layer neural network. Simply, RBM takes the inputs and translates those into a set of binary values that represents them in the hidden layer. Then, these numbers can be translated back to reconstruct the inputs. Through several forward and backward passes, the RBM will be trained, and a trained RBM can reveal which features are the most important ones when detecting patterns.   \n",
    "\n",
    "<h4>What are the applications of an RBM?</h4>\n",
    "RBM is useful for <a href='http://www.cs.utoronto.ca/~hinton/absps/netflixICML.pdf'>  Collaborative Filtering</a>, dimensionality reduction, classification, regression, feature learning, topic modeling and even <b>Deep Belief Networks</b>.\n",
    "\n",
    "<h4>Is RBM a generative or Discriminative model?</h4>\n",
    "RBM is a generative model. Let me explain it by first, see what is different between discriminative and generative models: \n",
    "\n",
    "<b>Discriminative:</b> Consider a classification problem where we want to learn to distinguish between Sedan cars (y = 1) and SUV cars (y = 0), based on some features of cars. Given a training set, an algorithm like logistic regression tries to find a straight line, or <i>decision boundary</i>, that separates the suv and sedan.  \n",
    "\n",
    "<b>Generative:</b> looking at cars, we can build a model of what Sedan cars look like. Then, looking at SUVs, we can build a separate model of what SUV cars look like. Finally, to classify a new car, we can match the new car against the Sedan model, and match it against the SUV model, to see whether the new car looks more like the SUV or Sedan. \n",
    "\n",
    "Generative Models specify a probability distribution over a dataset of input vectors. We can carry out both supervised and unsupervised tasks with generative models:\n",
    "\n",
    "<ul>\n",
    "    <li>In an unsupervised task, we try to form a model for $P(x)$, where $P$ is the probability given $x$ as an input vector.</li>\n",
    "    <li>In the supervised task, we first form a model for $P(x|y)$, where $P$ is the probability of $x$ given $y$(the label for $x$). For example, if $y = 0$ indicates that a car is an SUV, and $y = 1$ indicates that a car is a sedan, then $p(x|y = 0)$ models the distribution of SUV features, and $p(x|y = 1)$ models the distribution of sedan features. If we manage to find $P(x|y)$ and $P(y)$, then we can use <b>Bayes rule</b> to estimate $P(y|x)$, because:   \n",
    "        $$p(y|x) = \\frac{p(x|y)p(y)}{p(x)}$$</li>\n",
    "</ul>\n",
    "Now the question is, can we build a generative model, and then use it to create synthetic data by directly sampling from the modeled probability distributions? Lets see. \n"
   ]
  },
  {
   "cell_type": "markdown",
   "metadata": {},
   "source": [
    "<h2>Table of Contents</h2>\n",
    "<ol>\n",
    "    <li><a href=\"#ref1\">Initialization</a></li>\n",
    "    <li><a href=\"#ref2\">RBM layers</a></li>\n",
    "    <li><a href=\"#ref3\">What RBM can do after training?</a></li>\n",
    "    <li><a href=\"#ref4\">How to train the model?</a></li>\n",
    "    <li><a href=\"#ref5\">Learned features</a></li>\n",
    "</ol>\n",
    "<p></p>\n",
    "</div>\n",
    "<br>\n",
    "\n",
    "<hr>\n"
   ]
  },
  {
   "cell_type": "markdown",
   "metadata": {},
   "source": [
    "<a id=\"ref1\"></a>\n",
    "\n",
    "<h3>Initialization</h3>\n",
    "\n",
    "First, we have to load the utility file which contains different utility functions that are not connected\n",
    "in any way to the networks presented in the tutorials, but rather help in\n",
    "processing the outputs into a more understandable way.\n"
   ]
  },
  {
   "cell_type": "code",
   "execution_count": null,
   "metadata": {},
   "outputs": [],
   "source": [
    "import urllib.request\n",
    "with urllib.request.urlopen(\"https://cf-courses-data.s3.us.cloud-object-storage.appdomain.cloud/IBMDeveloperSkillsNetwork-DL0120EN-SkillsNetwork/labs/Week4/data/utils.py\") as url:\n",
    "    response = url.read()\n",
    "target = open('utils.py', 'w')\n",
    "target.write(response.decode('utf-8'))\n",
    "target.close()"
   ]
  },
  {
   "cell_type": "markdown",
   "metadata": {},
   "source": [
    "<h2>Installing TensorFlow </h2>\n",
    "\n",
    "We will installing TensorFlow version 2.2.0 and its required prerequistes.  Also installing pillow...\n"
   ]
  },
  {
   "cell_type": "code",
   "execution_count": null,
   "metadata": {},
   "outputs": [],
   "source": [
    "!pip install grpcio==1.24.3\n",
    "!pip install tensorflow==2.2.0\n",
    "!pip install pillow"
   ]
  },
  {
   "cell_type": "markdown",
   "metadata": {},
   "source": [
    "<b>Notice:</b> This notebook has been created with TensorFlow version 2.2, and might not work with other versions. Therefore we check:\n"
   ]
  },
  {
   "cell_type": "code",
   "execution_count": 1,
   "metadata": {},
   "outputs": [],
   "source": [
    "import tensorflow as tf\n",
    "from IPython.display import Markdown, display\n",
    "\n",
    "def printmd(string):\n",
    "    display(Markdown('# <span style=\"color:red\">'+string+'</span>'))\n",
    "\n",
    "\n",
    "if not tf.__version__ == '2.2.0':\n",
    "    printmd('<<<<<!!!!! ERROR !!!! please upgrade to TensorFlow 2.2.0, or restart your Kernel (Kernel->Restart & Clear Output)>>>>>')"
   ]
  },
  {
   "cell_type": "markdown",
   "metadata": {},
   "source": [
    "Now, we load in all the packages that we use to create the net including the TensorFlow package:\n"
   ]
  },
  {
   "cell_type": "code",
   "execution_count": 2,
   "metadata": {},
   "outputs": [],
   "source": [
    "import tensorflow as tf\n",
    "import numpy as np\n",
    "\n",
    "from PIL import Image\n",
    "from utils import tile_raster_images\n",
    "import matplotlib.pyplot as plt\n",
    "%matplotlib inline"
   ]
  },
  {
   "cell_type": "markdown",
   "metadata": {},
   "source": [
    "<hr>\n"
   ]
  },
  {
   "cell_type": "markdown",
   "metadata": {},
   "source": [
    "<a id=\"ref2\"></a>\n",
    "\n",
    "<h3>RBM layers</h3>\n",
    "\n",
    "An RBM has two layers. The first layer of the RBM is called the <b>visible</b> (or input layer). Imagine that our toy example, has only vectors with 7 values, so the visible layer must have $V=7$ input nodes. \n",
    "The second layer is the <b>hidden</b> layer, which has $H$ neurons in our case. Each hidden node takes on values of either 0 or 1 (i.e., $h_i = 1$ or $h_i$ = 0), with a probability that is a logistic function of the inputs it receives from the other $V$ visible units, called for example, $p(h_i = 1)$. For our toy sample, we'll use 2 nodes in the hidden layer, so $H = 2$.\n",
    "\n",
    "<center><img src=\"https://ibm.box.com/shared/static/eu26opvcefgls6vnwuo29uwp0nudmokh.png\" alt=\"RBM Model\" style=\"width: 400px;\"></center>\n"
   ]
  },
  {
   "cell_type": "markdown",
   "metadata": {},
   "source": [
    "Each node in the first layer also has a <b>bias</b>. We will denote the bias as $v_{bias}$, and this single value is shared among the $V$ visible units.\n",
    "\n",
    "The <b>bias</b> of the second is defined similarly as $h_{bias}$, and this single value among the $H$ hidden units.\n"
   ]
  },
  {
   "cell_type": "code",
   "execution_count": 3,
   "metadata": {},
   "outputs": [],
   "source": [
    "v_bias = tf.Variable(tf.zeros([7]), tf.float32)\n",
    "h_bias = tf.Variable(tf.zeros([2]), tf.float32)"
   ]
  },
  {
   "cell_type": "markdown",
   "metadata": {},
   "source": [
    "We have to define weights among the input layer and hidden layer nodes. In the weight matrix, the number of rows are equal to the input nodes, and the number of columns are equal to the output nodes. We define a tensor $\\mathbf{W}$ of shape = (7,2), where the number of visible neurons = 7, and the number of hidden neurons = 2. \n"
   ]
  },
  {
   "cell_type": "code",
   "execution_count": 4,
   "metadata": {},
   "outputs": [],
   "source": [
    "W = tf.constant(np.random.normal(loc=0.0, scale=1.0, size=(7, 2)).astype(np.float32))"
   ]
  },
  {
   "cell_type": "markdown",
   "metadata": {},
   "source": [
    "<hr>\n"
   ]
  },
  {
   "cell_type": "markdown",
   "metadata": {},
   "source": [
    "<a id=\"ref3\"></a>\n",
    "\n",
    "<h3>What RBM can do after training?</h3>\n",
    "Think of RBM as a model that has been trained based on images of a dataset of many SUV and sedan cars. Also, imagine that the RBM network has only two hidden nodes, where one node encodes the weight and, and the other encodes the size.  \n",
    "In a sense, the different configurations represent different cars, where one is an SUV and the other is Sedan.  In a training process, through many forward and backward passes, the RBM adjust its weights to send a stronger signal to either the SUV node (0, 1) or the sedan node (1, 0) in the hidden layer, given the pixels of images. Now, given an SUV in hidden layer, which distribution of pixels should we expect? RBM can give you 2 things. First, it encodes your images in hidden layer. Second, it gives you the probability of observing a case, given some hidden values.\n",
    "\n",
    "<h3>The Inference Process</h3>\n",
    "\n",
    "RBM has two phases:\n",
    "\n",
    "<ul>\n",
    "    <li>Forward Pass</li>  \n",
    "    <li>Backward Pass or Reconstruction</li>\n",
    "</ul>\n",
    "\n",
    "<b>Phase 1) Forward pass:</b>  \n",
    "\n",
    "Input one training sample (one image) $\\mathbf{x}$ through all visible nodes, and pass it to all hidden nodes. Processing happens in each node in the hidden layer. This computation begins by making stochastic decisions about whether to transmit that input or not (i.e. to determine the state of each hidden layer).  First, the probability vector is computed using the input feature vector $\\mathbf{x}$, the weight matrix $\\mathbf{W}$, and the bias term $h_{bias}$, as \n",
    "\n",
    "$p({h_j}|\\mathbf x)= \\sigma(\\sum_{i=1}^V W_{ij} x_i + h_{bias} )$, \n",
    "\n",
    "where $\\sigma(z) = (1+e^{-z})^{-1}$ is the logistic function.\n",
    "\n",
    "So, what does $p({h_j})$ represent? It is the <b>probability distribution</b> of the hidden units. That is, RBM uses inputs $x_i$ to make predictions about hidden node activations. For example, imagine that the hidden node activation values are [0.51 0.84] for the first training item. It tells you that the conditional probability for each hidden neuron for Phase 1 is: \n",
    "\n",
    "$$p(h_{1} = 1|\\mathbf{v}) = 0.51$$\n",
    "$$p(h_{2} = 1|\\mathbf{v}) = 0.84$$\n",
    "\n",
    "As a result, for each row in the training set, vector of probabilities is generated.  In TensorFlow, this is referred to as a `tensor` with a shape of (1,2). \n",
    "\n",
    "We then turn unit $j$ with probability $p(h_{j}|\\mathbf{v})$, and turn it off with probability $1 - p(h_{j}|\\mathbf{v})$ by generating a uniform random number vector $\\mathbf{\\xi}$, and comparing it to the activation probability as \n",
    "\n",
    "<center>If $\\xi_j>p(h_{j}|\\mathbf{v})$, then $h_j=1$, else $h_j=0$.</center>\n",
    "\n",
    "Therefore, the conditional probability of a configuration of $\\mathbf{h}$ given $\\mathbf{v}$ (for a training sample) is:\n",
    "\n",
    "$$p(\\mathbf{h} \\mid \\mathbf{v}) = \\prod_{j=1}^H p(h_j \\mid \\mathbf{v})$$\n",
    "\n",
    "where $H$ is the number of hidden units.\n"
   ]
  },
  {
   "cell_type": "markdown",
   "metadata": {},
   "source": [
    "Before we go further, let's look at a toy example for one case out of all input. Assume that we have a trained RBM, and a very simple input vector, such as [1.0, 0.0, 0.0, 1.0, 0.0, 0.0, 0.0].  \n",
    "Let's see what the output of forward pass would look like:\n"
   ]
  },
  {
   "cell_type": "code",
   "execution_count": 5,
   "metadata": {},
   "outputs": [
    {
     "name": "stdout",
     "output_type": "stream",
     "text": [
      "Input:  tf.Tensor([[1. 0. 0. 1. 0. 0. 0.]], shape=(1, 7), dtype=float32)\n",
      "hb:  tf.Tensor([0.1 0.1], shape=(2,), dtype=float32)\n",
      "w:  tf.Tensor(\n",
      "[[-0.03695988  1.9479877 ]\n",
      " [-0.56765926  0.6549006 ]\n",
      " [-0.42589924 -0.70843637]\n",
      " [ 1.0501331   1.4792678 ]\n",
      " [ 0.49707118  0.22193453]\n",
      " [-1.6512847  -0.9153726 ]\n",
      " [-0.44064957  1.5075117 ]], shape=(7, 2), dtype=float32)\n",
      "p(h|v):  tf.Tensor([[0.75272024 0.9714534 ]], shape=(1, 2), dtype=float32)\n",
      "h0 states: tf.Tensor([[1. 1.]], shape=(1, 2), dtype=float32)\n"
     ]
    }
   ],
   "source": [
    "X = tf.constant([[1.0, 0.0, 0.0, 1.0, 0.0, 0.0, 0.0]], tf.float32)\n",
    "\n",
    "v_state = X\n",
    "print (\"Input: \", v_state)\n",
    "\n",
    "h_bias = tf.constant([0.1, 0.1])\n",
    "print (\"hb: \", h_bias)\n",
    "print (\"w: \", W)\n",
    "\n",
    "# Calculate the probabilities of turning the hidden units on:\n",
    "h_prob = tf.nn.sigmoid(tf.matmul(v_state, W) + h_bias)  #probabilities of the hidden units\n",
    "print (\"p(h|v): \", h_prob)\n",
    "\n",
    "# Draw samples from the distribution:\n",
    "h_state = tf.nn.relu(tf.sign(h_prob - tf.random.uniform(tf.shape(h_prob)))) #states\n",
    "print (\"h0 states:\", h_state)"
   ]
  },
  {
   "cell_type": "markdown",
   "metadata": {},
   "source": [
    "<b>Phase 2) Backward Pass (Reconstruction):</b>\n",
    "The RBM reconstructs data by making several forward and backward passes between the visible and hidden layers.\n",
    "\n",
    "So, in the second phase (i.e. reconstruction phase), the samples from the hidden layer (i.e. $\\mathbf h$) becomes the input in the backward pass. The same weight matrix and visible layer biases are used to passed to the sigmoid function. The reproduced output is a reconstruction which is an approximation of the original input.\n"
   ]
  },
  {
   "cell_type": "code",
   "execution_count": 6,
   "metadata": {},
   "outputs": [
    {
     "name": "stdout",
     "output_type": "stream",
     "text": [
      "b:  tf.Tensor([0.1 0.2 0.1 0.1 0.1 0.2 0.1], shape=(7,), dtype=float32)\n",
      "p(vi∣h):  tf.Tensor(\n",
      "[[0.8819501  0.5713206  0.26224443 0.93273    0.6940252  0.08575084\n",
      "  0.76257735]], shape=(1, 7), dtype=float32)\n",
      "v probability states:  tf.Tensor([[1. 1. 0. 1. 1. 1. 1.]], shape=(1, 7), dtype=float32)\n"
     ]
    }
   ],
   "source": [
    "vb = tf.constant([0.1, 0.2, 0.1, 0.1, 0.1, 0.2, 0.1])\n",
    "print (\"b: \", vb)\n",
    "v_prob = tf.nn.sigmoid(tf.matmul(h_state, tf.transpose(W)) + vb)\n",
    "print (\"p(vi∣h): \", v_prob)\n",
    "v_state = tf.nn.relu(tf.sign(v_prob - tf.random.uniform(tf.shape(v_prob))))\n",
    "print (\"v probability states: \", v_state)"
   ]
  },
  {
   "cell_type": "markdown",
   "metadata": {},
   "source": [
    "RBM learns a probability distribution over the input, and then, after being trained, the RBM can generate new samples from the learned probability distribution. As you know, <b>probability distribution</b>, is a mathematical function that provides the probabilities of occurrence of different possible outcomes in an experiment.\n",
    "\n",
    "The (conditional) probability distribution over the visible units v is given by\n",
    "\n",
    "$p(\\mathbf{v} \\mid \\mathbf{h}) = \\prod_{i=1}^V p(v_i \\mid \\mathbf{h}),$\n",
    "\n",
    "where,\n",
    "\n",
    "$p(v_i \\mid \\mathbf{h}) = \\sigma\\left(\\sum_{j=1}^H W_{ji} h_j + v_{bias} \\right)$\n",
    "\n",
    "so, given current state of hidden units and weights, what is the probability of generating [1. 0. 0. 1. 0. 0. 0.] in reconstruction phase, based on the above <b>probability distribution</b> function?\n"
   ]
  },
  {
   "cell_type": "code",
   "execution_count": 7,
   "metadata": {},
   "outputs": [
    {
     "name": "stdout",
     "output_type": "stream",
     "text": [
      "input X: [[1. 0. 0. 1. 0. 0. 0.]]\n",
      "probablity vector: [0.8819501  0.5713206  0.26224443 0.93273    0.6940252  0.08575084\n",
      " 0.76257735]\n",
      "probability of generating X:  0.01727895\n"
     ]
    }
   ],
   "source": [
    "inp = X\n",
    "print(\"input X:\" , inp.numpy())\n",
    "\n",
    "print(\"probablity vector:\" , v_prob[0].numpy())\n",
    "v_probability = 1\n",
    "\n",
    "for elm, p in zip(inp[0],v_prob[0]) :\n",
    "    if elm ==1:\n",
    "        v_probability *= p\n",
    "    else:\n",
    "        v_probability *= (1-p)\n",
    "\n",
    "print(\"probability of generating X: \" , v_probability.numpy())"
   ]
  },
  {
   "cell_type": "markdown",
   "metadata": {},
   "source": [
    "How similar are vectors $\\mathbf{x}$ and $\\mathbf{v}$? Of course, the reconstructed values most likely will not look anything like the input vector, because our network has not been trained yet. Our objective is to train the model in such a way that the input vector and reconstructed vector to be same. Therefore, based on how different the input values look to the ones that we just reconstructed, the weights are adjusted. \n"
   ]
  },
  {
   "cell_type": "markdown",
   "metadata": {},
   "source": [
    "<hr>\n"
   ]
  },
  {
   "cell_type": "markdown",
   "metadata": {},
   "source": [
    "<h2>MNIST</h2>\n"
   ]
  },
  {
   "cell_type": "markdown",
   "metadata": {},
   "source": [
    "We will be using the MNIST dataset to practice the usage of RBMs. The following cell loads the MNIST dataset.\n"
   ]
  },
  {
   "cell_type": "code",
   "execution_count": 8,
   "metadata": {},
   "outputs": [
    {
     "name": "stdout",
     "output_type": "stream",
     "text": [
      "Downloading data from https://storage.googleapis.com/tensorflow/tf-keras-datasets/mnist.npz\n",
      "11493376/11490434 [==============================] - 0s 0us/step\n"
     ]
    }
   ],
   "source": [
    "#loading training and test data\n",
    "mnist = tf.keras.datasets.mnist\n",
    "(trX, trY), (teX, teY) = mnist.load_data()\n",
    "\n",
    "# showing an example of the Flatten class and operation\n",
    "from tensorflow.keras.layers import Flatten\n",
    "flatten = Flatten(dtype='float32')\n",
    "trX = flatten(trX/255.0)\n",
    "trY = flatten(trY/255.0)"
   ]
  },
  {
   "cell_type": "markdown",
   "metadata": {},
   "source": [
    "Lets look at the dimension of the images.\n"
   ]
  },
  {
   "cell_type": "markdown",
   "metadata": {},
   "source": [
    "MNIST images have 784 pixels, so the visible layer must have 784 input nodes.  For our case, we'll use 50 nodes in the hidden layer, so i = 50.\n"
   ]
  },
  {
   "cell_type": "code",
   "execution_count": 9,
   "metadata": {},
   "outputs": [],
   "source": [
    "vb = tf.Variable(tf.zeros([784]), tf.float32)\n",
    "hb = tf.Variable(tf.zeros([50]), tf.float32)"
   ]
  },
  {
   "cell_type": "markdown",
   "metadata": {},
   "source": [
    "Let $\\mathbf W$ be the Tensor of 784x50 (784 - number of visible neurons, 50 - number of hidden neurons) that represents weights between the neurons. \n"
   ]
  },
  {
   "cell_type": "code",
   "execution_count": 10,
   "metadata": {},
   "outputs": [],
   "source": [
    "W = tf.Variable(tf.zeros([784,50]), tf.float32)"
   ]
  },
  {
   "cell_type": "markdown",
   "metadata": {},
   "source": [
    "Lets define the visible layer:\n"
   ]
  },
  {
   "cell_type": "code",
   "execution_count": 11,
   "metadata": {},
   "outputs": [
    {
     "data": {
      "text/plain": [
       "<tf.Tensor: shape=(1, 50), dtype=float32, numpy=\n",
       "array([[0., 0., 0., 0., 0., 0., 0., 0., 0., 0., 0., 0., 0., 0., 0., 0.,\n",
       "        0., 0., 0., 0., 0., 0., 0., 0., 0., 0., 0., 0., 0., 0., 0., 0.,\n",
       "        0., 0., 0., 0., 0., 0., 0., 0., 0., 0., 0., 0., 0., 0., 0., 0.,\n",
       "        0., 0.]], dtype=float32)>"
      ]
     },
     "execution_count": 11,
     "metadata": {},
     "output_type": "execute_result"
    }
   ],
   "source": [
    "v0_state = tf.Variable(tf.zeros([784]), tf.float32)\n",
    "\n",
    "#testing to see if the matrix product works\n",
    "tf.matmul( [v0_state], W)"
   ]
  },
  {
   "cell_type": "markdown",
   "metadata": {},
   "source": [
    "Now, we can define hidden layer:\n"
   ]
  },
  {
   "cell_type": "code",
   "execution_count": 12,
   "metadata": {},
   "outputs": [
    {
     "name": "stdout",
     "output_type": "stream",
     "text": [
      "h0_state shape:  tf.Tensor([ 1 50], shape=(2,), dtype=int32)\n",
      "first 15 hidden states:  tf.Tensor([0. 1. 0. 0. 1. 0. 0. 0. 0. 0. 1. 1. 0. 0. 0.], shape=(15,), dtype=float32)\n"
     ]
    }
   ],
   "source": [
    "#computing the hidden nodes probability vector and checking shape\n",
    "h0_prob = tf.nn.sigmoid(tf.matmul([v0_state], W) + hb)  #probabilities of the hidden units\n",
    "print(\"h0_state shape: \" , tf.shape(h0_prob))\n",
    "\n",
    "#defining a function to return only the generated hidden states \n",
    "def hidden_layer(v0_state, W, hb):\n",
    "    h0_prob = tf.nn.sigmoid(tf.matmul([v0_state], W) + hb)  #probabilities of the hidden units\n",
    "    h0_state = tf.nn.relu(tf.sign(h0_prob - tf.random.uniform(tf.shape(h0_prob)))) #sample_h_given_X\n",
    "    return h0_state\n",
    "\n",
    "\n",
    "h0_state = hidden_layer(v0_state, W, hb)\n",
    "print(\"first 15 hidden states: \", h0_state[0][0:15])"
   ]
  },
  {
   "cell_type": "markdown",
   "metadata": {},
   "source": [
    "Now, we define reconstruction part:\n"
   ]
  },
  {
   "cell_type": "code",
   "execution_count": 13,
   "metadata": {},
   "outputs": [
    {
     "name": "stdout",
     "output_type": "stream",
     "text": [
      "hidden state shape:  (1, 50)\n",
      "v0 state shape:   (784,)\n",
      "v1 state shape:   (784,)\n"
     ]
    }
   ],
   "source": [
    "def reconstructed_output(h0_state, W, vb):\n",
    "    v1_prob = tf.nn.sigmoid(tf.matmul(h0_state, tf.transpose(W)) + vb) \n",
    "    v1_state = tf.nn.relu(tf.sign(v1_prob - tf.random.uniform(tf.shape(v1_prob)))) #sample_v_given_h\n",
    "    return v1_state[0]\n",
    "\n",
    "v1_state = reconstructed_output(h0_state, W, vb)\n",
    "print(\"hidden state shape: \", h0_state.shape)\n",
    "print(\"v0 state shape:  \", v0_state.shape)\n",
    "print(\"v1 state shape:  \", v1_state.shape)"
   ]
  },
  {
   "cell_type": "markdown",
   "metadata": {},
   "source": [
    "<h3>What is the objective function?</h3>\n",
    "\n",
    "<b>Goal</b>: Maximize the likelihood of our data being drawn from that distribution\n",
    "\n",
    "<b>Calculate error:</b>  \n",
    "In each epoch, we compute the \"error\" as a sum of the squared difference between step 1 and step n,\n",
    "e.g the error shows the difference between the data and its reconstruction.\n",
    "\n",
    "<b>Note:</b> tf.reduce_mean computes the mean of elements across dimensions of a tensor.\n"
   ]
  },
  {
   "cell_type": "code",
   "execution_count": 14,
   "metadata": {},
   "outputs": [
    {
     "name": "stdout",
     "output_type": "stream",
     "text": [
      "error 0.49617347\n"
     ]
    }
   ],
   "source": [
    "def error(v0_state, v1_state):\n",
    "    return tf.reduce_mean(tf.square(v0_state - v1_state))\n",
    "\n",
    "err = tf.reduce_mean(tf.square(v0_state - v1_state))\n",
    "print(\"error\" , err.numpy())"
   ]
  },
  {
   "cell_type": "markdown",
   "metadata": {},
   "source": [
    "<a id=\"ref4\"></a>\n",
    "\n",
    "<h3>Training the Model</h3>\n",
    "<b>Warning...</b> The following part is math-heavy, but you can skip it if you just want to run the cells in the next section.\n",
    "\n",
    "As mentioned, we want to give a high probability to the input data we train on. So, in order to train an RBM, we have to maximize the product of probabilities assigned to all rows $\\mathbf{v}$ (images) in the training set $\\mathbf{V}$ (a matrix, where each row of it is treated as a visible vector $\\mathbf{v}$)\n",
    "\n",
    "$$\\arg\\max_W\\prod_{\\mathbf{v}\\in\\mathbf{V}_T}p(\\mathbf{v}),$$\n",
    "\n",
    "which is equivalent to maximizing the expectation of the log probability, given as\n",
    "\n",
    "$$\\arg\\max_W\\left[ \\mathbb{E} \\left(\\prod_{\\mathbf v\\in \\mathbf V}\\text{log} \\left(p(\\mathbf v)\\right) \\right) \\right].$$\n",
    "\n",
    "So, we have to update the weights $W_{ij}$  to increase $p(\\mathbf{v})$ for all $\\mathbf{v}$ in our training data during training. So we have to calculate the derivative:\n",
    "\n",
    "$$\\frac{\\partial \\log p(\\mathbf v)}{\\partial W_{ij}}$$\n",
    "\n",
    "This cannot be easily done by typical <b>gradient descent (SGD)</b>, so we can use another approach, which has 2 steps:\n",
    "\n",
    "<ol>\n",
    "    <li>Gibbs Sampling</li>\n",
    "    <li>Contrastive Divergence</li>\n",
    "</ol>    \n",
    "    \n",
    "<h3>Gibbs Sampling</h3>   \n",
    "\n",
    "<h4>Gibbs Sampling Step 1</h4> \n",
    "Given an input vector $\\mathbf{v}$, we are using $p(\\mathbf{h}|\\mathbf{v})$ to predict the hidden values $\\mathbf{h}$. \n",
    "  $$p({h_j}|\\mathbf v)= \\sigma\\left(\\sum_{i=1}^V W_{ij} v_i + h_{bias} \\right)$$\n",
    "The samples are generated from this distribution by generating the uniform random variate vector $\\mathbf{\\xi} \\sim U[0,1]$ of length $H$ and comparing to the computed probabilities as\n",
    "\n",
    "<center>If $\\xi_j>p(h_{j}|\\mathbf{v})$, then $h_j=1$, else $h_j=0$.</center>\n",
    "\n",
    "<h4>Gibbs Sampling Step 2</h4> \n",
    "Then, knowing the hidden values, we use $p(\\mathbf v| \\mathbf h)$ for reconstructing of new input values v. \n",
    "\n",
    "   $$p({v_i}|\\mathbf h)= \\sigma\\left(\\sum_{j=1}^H W^{T}_{ij} h_j + v_{bias} \\right)$$\n",
    "\n",
    "The samples are generated from this distribution by generating a uniform random variate vector $\\mathbf{\\xi} \\sim U[0,1]$ of length $V$ and comparing to the computed probabilities as\n",
    "\n",
    "<center>If $\\xi_i>p(v_{i}|\\mathbf{h})$, then $v_i=1$, else $v_i=0$.</center>\n",
    "\n",
    "Let vectors $\\mathbf v_k$ and $\\mathbf h_k$ be for the $k$th iteration.  In general, the $kth$ state is generrated as: \n",
    "\n",
    "<b>Iteration</b> $k$: \n",
    "\n",
    "$$\\mathbf v_{k-1} \\Rightarrow p(\\mathbf h_{k-1}|\\mathbf v_{k-1})\\Rightarrow \\mathbf h_{k-1}\\Rightarrow p(\\mathbf v_{k}|\\mathbf h_{k-1})\\Rightarrow \\mathbf v_k$$       \n",
    "\n",
    "<h3>Contrastive Divergence (CD-k)</h3>\n",
    "The update of the weight matrix is done during the Contrastive Divergence step. \n",
    "\n",
    "Vectors v0 and vk are used to calculate the activation probabilities for hidden values h0 and hk. The difference between the outer products of those probabilities with input vectors v0 and vk results in the update matrix:\n",
    "\n",
    "$\\Delta \\mathbf W_k =\\mathbf v_k \\otimes \\mathbf h_k - \\mathbf v_{k-1} \\otimes \\mathbf h_{k-1}$ \n",
    "\n",
    "Contrastive Divergence is actually matrix of values that is computed and used to adjust values of the $\\mathbf W$ matrix. Changing $\\mathbf W$ incrementally leads to training of the  $\\mathbf W$ values. Then, on each step (epoch), $\\mathbf W$ is updated using the following:\n",
    "\n",
    "$\\mathbf W_k = \\mathbf W_{k-1} + \\alpha * \\Delta \\mathbf W_k$ \n",
    "\n",
    "Reconstruction steps:\n",
    "\n",
    "<ul>\n",
    "    <li> Get one data point from data set, like <i>x</i>, and pass it through the following steps:</li>\n",
    "    \n",
    "<b>Iteration</b> $k=1$: \n",
    "    \n",
    "Sampling (starting with input image)\n",
    "    $$\\mathbf x = \\mathbf v_0 \\Rightarrow p(\\mathbf h_0|\\mathbf v_0)\\Rightarrow \\mathbf h_0 \\Rightarrow p(\\mathbf v_1|\\mathbf h_0)\\Rightarrow \\mathbf v_1$$   \n",
    "    followed by the CD-k step\n",
    "$$\\Delta \\mathbf W_1 =\\mathbf v_1 \\otimes \\mathbf h_1 - \\mathbf v_{0} \\otimes \\mathbf h_{0}$$     \n",
    "$$\\mathbf W_1 = \\mathbf W_{0} + \\alpha * \\Delta \\mathbf W_1$$ \n",
    " \n",
    "<li> $\\mathbf v_1$ is the reconstruction of $\\mathbf x$ sent to the next iteration).</li>\n",
    "\n",
    "<b>Iteration</b> $k=2$: \n",
    "\n",
    "Sampling (starting with $\\mathbf v_1$)\n",
    "\n",
    "$$\\mathbf v_1 \\Rightarrow p(\\mathbf h_1|\\mathbf v_1)\\Rightarrow \\mathbf h_1\\Rightarrow p(\\mathbf v_2|\\mathbf h_1)\\Rightarrow \\mathbf v_2$$   \n",
    "\n",
    "followed by the CD-k step\n",
    "$$\\Delta \\mathbf W_2 =\\mathbf v_2 \\otimes \\mathbf h_2 - \\mathbf v_{1} \\otimes \\mathbf h_{1}$$  \n",
    "$$\\mathbf W_2 = \\mathbf W_{1} + \\alpha * \\Delta \\mathbf W_2$$ \n",
    "\n",
    "<li> $\\mathbf v_2$ is the reconstruction of $\\mathbf v_1$ sent to the next iteration).</li>    \n",
    "      \n",
    "<b>Iteration</b> $k=K$:\n",
    "    \n",
    "Sampling (starting with $\\mathbf v_{K-1}$)\n",
    "\n",
    "$$\\mathbf v_{K-1} \\Rightarrow p(\\mathbf h_{K-1}|\\mathbf v_{K-1})\\Rightarrow \\mathbf h_{K-1}\\Rightarrow p(\\mathbf v_K|\\mathbf h_{K-1})\\Rightarrow \\mathbf v_K$$   \n",
    "\n",
    "followed by the CD-k step\n",
    "$$\\Delta \\mathbf W_K =\\mathbf v_K \\otimes \\mathbf h_K - \\mathbf v_{K-1} \\otimes \\mathbf h_{K-1}$$  \n",
    "$$\\mathbf W_K = \\mathbf W_{K-1} + \\alpha * \\Delta \\mathbf W_K$$ \n",
    "\n",
    "<b>What is $\\alpha$?</b>  \n",
    "Here, alpha is some small step size, and is also known as the \"learning rate\".\n"
   ]
  },
  {
   "cell_type": "markdown",
   "metadata": {},
   "source": [
    "$K$ is adjustable, and good performance can be achieved with $K=1$, so that we just take one set of sampling steps per image.\n"
   ]
  },
  {
   "cell_type": "code",
   "execution_count": 15,
   "metadata": {},
   "outputs": [],
   "source": [
    "h1_prob = tf.nn.sigmoid(tf.matmul([v1_state], W) + hb)\n",
    "h1_state = tf.nn.relu(tf.sign(h1_prob - tf.random.uniform(tf.shape(h1_prob)))) #sample_h_given_X"
   ]
  },
  {
   "cell_type": "markdown",
   "metadata": {},
   "source": [
    "Lets look at the error of the first run:\n"
   ]
  },
  {
   "cell_type": "code",
   "execution_count": 16,
   "metadata": {},
   "outputs": [
    {
     "name": "stdout",
     "output_type": "stream",
     "text": [
      "error:  tf.Tensor(0.49617347, shape=(), dtype=float32)\n"
     ]
    }
   ],
   "source": [
    "print(\"error: \", error(v0_state, v1_state))"
   ]
  },
  {
   "cell_type": "code",
   "execution_count": 17,
   "metadata": {},
   "outputs": [
    {
     "name": "stdout",
     "output_type": "stream",
     "text": [
      "Epoch: 0 batch #: 1  of 300 sample #: 199 reconstruction error: 0.145631\n",
      "Epoch: 0 batch #: 2  of 300 sample #: 199 reconstruction error: 0.223167\n",
      "Epoch: 0 batch #: 3  of 300 sample #: 199 reconstruction error: 0.124476\n",
      "Epoch: 0 batch #: 4  of 300 sample #: 199 reconstruction error: 0.136731\n",
      "Epoch: 0 batch #: 5  of 300 sample #: 199 reconstruction error: 0.112628\n",
      "Epoch: 0 batch #: 6  of 300 sample #: 199 reconstruction error: 0.180041\n",
      "Epoch: 0 batch #: 7  of 300 sample #: 199 reconstruction error: 0.090685\n",
      "Epoch: 0 batch #: 8  of 300 sample #: 199 reconstruction error: 0.127732\n",
      "Epoch: 0 batch #: 9  of 300 sample #: 199 reconstruction error: 0.089373\n",
      "Epoch: 0 batch #: 10  of 300 sample #: 199 reconstruction error: 0.175731\n",
      "Epoch: 0 batch #: 11  of 300 sample #: 199 reconstruction error: 0.087169\n",
      "Epoch: 0 batch #: 12  of 300 sample #: 199 reconstruction error: 0.143573\n",
      "Epoch: 0 batch #: 13  of 300 sample #: 199 reconstruction error: 0.060592\n",
      "Epoch: 0 batch #: 14  of 300 sample #: 199 reconstruction error: 0.113832\n",
      "Epoch: 0 batch #: 15  of 300 sample #: 199 reconstruction error: 0.109124\n",
      "Epoch: 0 batch #: 16  of 300 sample #: 199 reconstruction error: 0.110173\n",
      "Epoch: 0 batch #: 17  of 300 sample #: 199 reconstruction error: 0.087938\n",
      "Epoch: 0 batch #: 18  of 300 sample #: 199 reconstruction error: 0.110056\n",
      "Epoch: 0 batch #: 19  of 300 sample #: 199 reconstruction error: 0.157342\n",
      "Epoch: 0 batch #: 20  of 300 sample #: 199 reconstruction error: 0.117457\n",
      "Epoch: 0 batch #: 21  of 300 sample #: 199 reconstruction error: 0.090164\n",
      "Epoch: 0 batch #: 22  of 300 sample #: 199 reconstruction error: 0.073957\n",
      "Epoch: 0 batch #: 23  of 300 sample #: 199 reconstruction error: 0.106183\n",
      "Epoch: 0 batch #: 24  of 300 sample #: 199 reconstruction error: 0.117871\n",
      "Epoch: 0 batch #: 25  of 300 sample #: 199 reconstruction error: 0.102666\n",
      "Epoch: 0 batch #: 26  of 300 sample #: 199 reconstruction error: 0.104154\n",
      "Epoch: 0 batch #: 27  of 300 sample #: 199 reconstruction error: 0.125575\n",
      "Epoch: 0 batch #: 28  of 300 sample #: 199 reconstruction error: 0.085811\n",
      "Epoch: 0 batch #: 29  of 300 sample #: 199 reconstruction error: 0.109089\n",
      "Epoch: 0 batch #: 30  of 300 sample #: 199 reconstruction error: 0.084822\n",
      "Epoch: 0 batch #: 31  of 300 sample #: 199 reconstruction error: 0.096345\n",
      "Epoch: 0 batch #: 32  of 300 sample #: 199 reconstruction error: 0.103783\n",
      "Epoch: 0 batch #: 33  of 300 sample #: 199 reconstruction error: 0.070337\n",
      "Epoch: 0 batch #: 34  of 300 sample #: 199 reconstruction error: 0.078652\n",
      "Epoch: 0 batch #: 35  of 300 sample #: 199 reconstruction error: 0.075746\n",
      "Epoch: 0 batch #: 36  of 300 sample #: 199 reconstruction error: 0.092377\n",
      "Epoch: 0 batch #: 37  of 300 sample #: 199 reconstruction error: 0.062348\n",
      "Epoch: 0 batch #: 38  of 300 sample #: 199 reconstruction error: 0.064541\n",
      "Epoch: 0 batch #: 39  of 300 sample #: 199 reconstruction error: 0.095968\n",
      "Epoch: 0 batch #: 40  of 300 sample #: 199 reconstruction error: 0.125890\n",
      "Epoch: 0 batch #: 41  of 300 sample #: 199 reconstruction error: 0.078613\n",
      "Epoch: 0 batch #: 42  of 300 sample #: 199 reconstruction error: 0.061518\n",
      "Epoch: 0 batch #: 43  of 300 sample #: 199 reconstruction error: 0.137533\n",
      "Epoch: 0 batch #: 44  of 300 sample #: 199 reconstruction error: 0.069889\n",
      "Epoch: 0 batch #: 45  of 300 sample #: 199 reconstruction error: 0.064824\n",
      "Epoch: 0 batch #: 46  of 300 sample #: 199 reconstruction error: 0.032256\n",
      "Epoch: 0 batch #: 47  of 300 sample #: 199 reconstruction error: 0.039090\n",
      "Epoch: 0 batch #: 48  of 300 sample #: 199 reconstruction error: 0.046474\n",
      "Epoch: 0 batch #: 49  of 300 sample #: 199 reconstruction error: 0.111098\n",
      "Epoch: 0 batch #: 50  of 300 sample #: 199 reconstruction error: 0.052494\n",
      "Epoch: 0 batch #: 51  of 300 sample #: 199 reconstruction error: 0.056823\n",
      "Epoch: 0 batch #: 52  of 300 sample #: 199 reconstruction error: 0.036111\n",
      "Epoch: 0 batch #: 53  of 300 sample #: 199 reconstruction error: 0.104256\n",
      "Epoch: 0 batch #: 54  of 300 sample #: 199 reconstruction error: 0.066105\n",
      "Epoch: 0 batch #: 55  of 300 sample #: 199 reconstruction error: 0.119178\n",
      "Epoch: 0 batch #: 56  of 300 sample #: 199 reconstruction error: 0.049588\n",
      "Epoch: 0 batch #: 57  of 300 sample #: 199 reconstruction error: 0.057423\n",
      "Epoch: 0 batch #: 58  of 300 sample #: 199 reconstruction error: 0.071896\n",
      "Epoch: 0 batch #: 59  of 300 sample #: 199 reconstruction error: 0.067926\n",
      "Epoch: 0 batch #: 60  of 300 sample #: 199 reconstruction error: 0.104199\n",
      "Epoch: 0 batch #: 61  of 300 sample #: 199 reconstruction error: 0.069878\n",
      "Epoch: 0 batch #: 62  of 300 sample #: 199 reconstruction error: 0.074401\n",
      "Epoch: 0 batch #: 63  of 300 sample #: 199 reconstruction error: 0.065175\n",
      "Epoch: 0 batch #: 64  of 300 sample #: 199 reconstruction error: 0.084272\n",
      "Epoch: 0 batch #: 65  of 300 sample #: 199 reconstruction error: 0.093778\n",
      "Epoch: 0 batch #: 66  of 300 sample #: 199 reconstruction error: 0.061046\n",
      "Epoch: 0 batch #: 67  of 300 sample #: 199 reconstruction error: 0.067762\n",
      "Epoch: 0 batch #: 68  of 300 sample #: 199 reconstruction error: 0.058817\n",
      "Epoch: 0 batch #: 69  of 300 sample #: 199 reconstruction error: 0.091280\n",
      "Epoch: 0 batch #: 70  of 300 sample #: 199 reconstruction error: 0.087450\n",
      "Epoch: 0 batch #: 71  of 300 sample #: 199 reconstruction error: 0.088305\n",
      "Epoch: 0 batch #: 72  of 300 sample #: 199 reconstruction error: 0.058974\n",
      "Epoch: 0 batch #: 73  of 300 sample #: 199 reconstruction error: 0.087729\n",
      "Epoch: 0 batch #: 74  of 300 sample #: 199 reconstruction error: 0.086631\n",
      "Epoch: 0 batch #: 75  of 300 sample #: 199 reconstruction error: 0.067776\n",
      "Epoch: 0 batch #: 76  of 300 sample #: 199 reconstruction error: 0.085349\n",
      "Epoch: 0 batch #: 77  of 300 sample #: 199 reconstruction error: 0.098528\n",
      "Epoch: 0 batch #: 78  of 300 sample #: 199 reconstruction error: 0.107361\n",
      "Epoch: 0 batch #: 79  of 300 sample #: 199 reconstruction error: 0.122027\n",
      "Epoch: 0 batch #: 80  of 300 sample #: 199 reconstruction error: 0.030035\n",
      "Epoch: 0 batch #: 81  of 300 sample #: 199 reconstruction error: 0.059308\n",
      "Epoch: 0 batch #: 82  of 300 sample #: 199 reconstruction error: 0.042221\n",
      "Epoch: 0 batch #: 83  of 300 sample #: 199 reconstruction error: 0.072263\n",
      "Epoch: 0 batch #: 84  of 300 sample #: 199 reconstruction error: 0.082164\n",
      "Epoch: 0 batch #: 85  of 300 sample #: 199 reconstruction error: 0.044853\n",
      "Epoch: 0 batch #: 86  of 300 sample #: 199 reconstruction error: 0.072403\n",
      "Epoch: 0 batch #: 87  of 300 sample #: 199 reconstruction error: 0.075575\n",
      "Epoch: 0 batch #: 88  of 300 sample #: 199 reconstruction error: 0.031803\n",
      "Epoch: 0 batch #: 89  of 300 sample #: 199 reconstruction error: 0.060979\n",
      "Epoch: 0 batch #: 90  of 300 sample #: 199 reconstruction error: 0.073059\n",
      "Epoch: 0 batch #: 91  of 300 sample #: 199 reconstruction error: 0.061251\n",
      "Epoch: 0 batch #: 92  of 300 sample #: 199 reconstruction error: 0.078684\n",
      "Epoch: 0 batch #: 93  of 300 sample #: 199 reconstruction error: 0.105439\n",
      "Epoch: 0 batch #: 94  of 300 sample #: 199 reconstruction error: 0.111479\n",
      "Epoch: 0 batch #: 95  of 300 sample #: 199 reconstruction error: 0.067626\n",
      "Epoch: 0 batch #: 96  of 300 sample #: 199 reconstruction error: 0.050304\n",
      "Epoch: 0 batch #: 97  of 300 sample #: 199 reconstruction error: 0.116860\n",
      "Epoch: 0 batch #: 98  of 300 sample #: 199 reconstruction error: 0.094636\n",
      "Epoch: 0 batch #: 99  of 300 sample #: 199 reconstruction error: 0.064534\n",
      "Epoch: 0 batch #: 100  of 300 sample #: 199 reconstruction error: 0.110048\n",
      "Epoch: 0 batch #: 101  of 300 sample #: 199 reconstruction error: 0.071026\n",
      "Epoch: 0 batch #: 102  of 300 sample #: 199 reconstruction error: 0.087299\n",
      "Epoch: 0 batch #: 103  of 300 sample #: 199 reconstruction error: 0.085417\n",
      "Epoch: 0 batch #: 104  of 300 sample #: 199 reconstruction error: 0.054451\n",
      "Epoch: 0 batch #: 105  of 300 sample #: 199 reconstruction error: 0.070175\n",
      "Epoch: 0 batch #: 106  of 300 sample #: 199 reconstruction error: 0.106972\n",
      "Epoch: 0 batch #: 107  of 300 sample #: 199 reconstruction error: 0.130180\n",
      "Epoch: 0 batch #: 108  of 300 sample #: 199 reconstruction error: 0.070617\n",
      "Epoch: 0 batch #: 109  of 300 sample #: 199 reconstruction error: 0.116177\n",
      "Epoch: 0 batch #: 110  of 300 sample #: 199 reconstruction error: 0.062013\n",
      "Epoch: 0 batch #: 111  of 300 sample #: 199 reconstruction error: 0.097300\n",
      "Epoch: 0 batch #: 112  of 300 sample #: 199 reconstruction error: 0.048449\n",
      "Epoch: 0 batch #: 113  of 300 sample #: 199 reconstruction error: 0.066036\n",
      "Epoch: 0 batch #: 114  of 300 sample #: 199 reconstruction error: 0.081592\n",
      "Epoch: 0 batch #: 115  of 300 sample #: 199 reconstruction error: 0.070035\n",
      "Epoch: 0 batch #: 116  of 300 sample #: 199 reconstruction error: 0.065896\n",
      "Epoch: 0 batch #: 117  of 300 sample #: 199 reconstruction error: 0.046219\n",
      "Epoch: 0 batch #: 118  of 300 sample #: 199 reconstruction error: 0.066118\n",
      "Epoch: 0 batch #: 119  of 300 sample #: 199 reconstruction error: 0.116045\n",
      "Epoch: 0 batch #: 120  of 300 sample #: 199 reconstruction error: 0.064216\n",
      "Epoch: 0 batch #: 121  of 300 sample #: 199 reconstruction error: 0.047049\n",
      "Epoch: 0 batch #: 122  of 300 sample #: 199 reconstruction error: 0.085076\n",
      "Epoch: 0 batch #: 123  of 300 sample #: 199 reconstruction error: 0.068895\n",
      "Epoch: 0 batch #: 124  of 300 sample #: 199 reconstruction error: 0.080142\n",
      "Epoch: 0 batch #: 125  of 300 sample #: 199 reconstruction error: 0.044436\n",
      "Epoch: 0 batch #: 126  of 300 sample #: 199 reconstruction error: 0.082781\n",
      "Epoch: 0 batch #: 127  of 300 sample #: 199 reconstruction error: 0.098398\n",
      "Epoch: 0 batch #: 128  of 300 sample #: 199 reconstruction error: 0.057087\n",
      "Epoch: 0 batch #: 129  of 300 sample #: 199 reconstruction error: 0.044998\n",
      "Epoch: 0 batch #: 130  of 300 sample #: 199 reconstruction error: 0.082452\n",
      "Epoch: 0 batch #: 131  of 300 sample #: 199 reconstruction error: 0.063202\n",
      "Epoch: 0 batch #: 132  of 300 sample #: 199 reconstruction error: 0.038453\n",
      "Epoch: 0 batch #: 133  of 300 sample #: 199 reconstruction error: 0.052623\n",
      "Epoch: 0 batch #: 134  of 300 sample #: 199 reconstruction error: 0.122798\n",
      "Epoch: 0 batch #: 135  of 300 sample #: 199 reconstruction error: 0.092913\n",
      "Epoch: 0 batch #: 136  of 300 sample #: 199 reconstruction error: 0.112433\n",
      "Epoch: 0 batch #: 137  of 300 sample #: 199 reconstruction error: 0.072582\n",
      "Epoch: 0 batch #: 138  of 300 sample #: 199 reconstruction error: 0.084457\n",
      "Epoch: 0 batch #: 139  of 300 sample #: 199 reconstruction error: 0.104282\n",
      "Epoch: 0 batch #: 140  of 300 sample #: 199 reconstruction error: 0.078647\n",
      "Epoch: 0 batch #: 141  of 300 sample #: 199 reconstruction error: 0.093875\n",
      "Epoch: 0 batch #: 142  of 300 sample #: 199 reconstruction error: 0.065368\n",
      "Epoch: 0 batch #: 143  of 300 sample #: 199 reconstruction error: 0.045107\n",
      "Epoch: 0 batch #: 144  of 300 sample #: 199 reconstruction error: 0.067418\n",
      "Epoch: 0 batch #: 145  of 300 sample #: 199 reconstruction error: 0.093922\n",
      "Epoch: 0 batch #: 146  of 300 sample #: 199 reconstruction error: 0.094581\n",
      "Epoch: 0 batch #: 147  of 300 sample #: 199 reconstruction error: 0.073802\n",
      "Epoch: 0 batch #: 148  of 300 sample #: 199 reconstruction error: 0.077555\n",
      "Epoch: 0 batch #: 149  of 300 sample #: 199 reconstruction error: 0.041271\n",
      "Epoch: 0 batch #: 150  of 300 sample #: 199 reconstruction error: 0.049302\n",
      "Epoch: 0 batch #: 151  of 300 sample #: 199 reconstruction error: 0.081502\n",
      "Epoch: 0 batch #: 152  of 300 sample #: 199 reconstruction error: 0.093908\n",
      "Epoch: 0 batch #: 153  of 300 sample #: 199 reconstruction error: 0.065769\n",
      "Epoch: 0 batch #: 154  of 300 sample #: 199 reconstruction error: 0.072872\n",
      "Epoch: 0 batch #: 155  of 300 sample #: 199 reconstruction error: 0.060582\n",
      "Epoch: 0 batch #: 156  of 300 sample #: 199 reconstruction error: 0.081714\n",
      "Epoch: 0 batch #: 157  of 300 sample #: 199 reconstruction error: 0.072971\n",
      "Epoch: 0 batch #: 158  of 300 sample #: 199 reconstruction error: 0.069624\n",
      "Epoch: 0 batch #: 159  of 300 sample #: 199 reconstruction error: 0.068345\n",
      "Epoch: 0 batch #: 160  of 300 sample #: 199 reconstruction error: 0.070528\n",
      "Epoch: 0 batch #: 161  of 300 sample #: 199 reconstruction error: 0.076723\n",
      "Epoch: 0 batch #: 162  of 300 sample #: 199 reconstruction error: 0.097392\n",
      "Epoch: 0 batch #: 163  of 300 sample #: 199 reconstruction error: 0.036075\n",
      "Epoch: 0 batch #: 164  of 300 sample #: 199 reconstruction error: 0.061154\n",
      "Epoch: 0 batch #: 165  of 300 sample #: 199 reconstruction error: 0.089003\n",
      "Epoch: 0 batch #: 166  of 300 sample #: 199 reconstruction error: 0.072990\n",
      "Epoch: 0 batch #: 167  of 300 sample #: 199 reconstruction error: 0.095583\n",
      "Epoch: 0 batch #: 168  of 300 sample #: 199 reconstruction error: 0.048191\n",
      "Epoch: 0 batch #: 169  of 300 sample #: 199 reconstruction error: 0.042888\n",
      "Epoch: 0 batch #: 170  of 300 sample #: 199 reconstruction error: 0.060029\n",
      "Epoch: 0 batch #: 171  of 300 sample #: 199 reconstruction error: 0.034267\n",
      "Epoch: 0 batch #: 172  of 300 sample #: 199 reconstruction error: 0.040228\n",
      "Epoch: 0 batch #: 173  of 300 sample #: 199 reconstruction error: 0.078561\n",
      "Epoch: 0 batch #: 174  of 300 sample #: 199 reconstruction error: 0.122814\n",
      "Epoch: 0 batch #: 175  of 300 sample #: 199 reconstruction error: 0.066681\n",
      "Epoch: 0 batch #: 176  of 300 sample #: 199 reconstruction error: 0.052709\n",
      "Epoch: 0 batch #: 177  of 300 sample #: 199 reconstruction error: 0.042104\n",
      "Epoch: 0 batch #: 178  of 300 sample #: 199 reconstruction error: 0.104635\n",
      "Epoch: 0 batch #: 179  of 300 sample #: 199 reconstruction error: 0.073394\n",
      "Epoch: 0 batch #: 180  of 300 sample #: 199 reconstruction error: 0.094386\n",
      "Epoch: 0 batch #: 181  of 300 sample #: 199 reconstruction error: 0.091731\n",
      "Epoch: 0 batch #: 182  of 300 sample #: 199 reconstruction error: 0.063531\n",
      "Epoch: 0 batch #: 183  of 300 sample #: 199 reconstruction error: 0.119678\n",
      "Epoch: 0 batch #: 184  of 300 sample #: 199 reconstruction error: 0.054584\n",
      "Epoch: 0 batch #: 185  of 300 sample #: 199 reconstruction error: 0.072658\n",
      "Epoch: 0 batch #: 186  of 300 sample #: 199 reconstruction error: 0.109872\n",
      "Epoch: 0 batch #: 187  of 300 sample #: 199 reconstruction error: 0.060539\n",
      "Epoch: 0 batch #: 188  of 300 sample #: 199 reconstruction error: 0.099160\n",
      "Epoch: 0 batch #: 189  of 300 sample #: 199 reconstruction error: 0.081683\n",
      "Epoch: 0 batch #: 190  of 300 sample #: 199 reconstruction error: 0.066659\n",
      "Epoch: 0 batch #: 191  of 300 sample #: 199 reconstruction error: 0.109780\n",
      "Epoch: 0 batch #: 192  of 300 sample #: 199 reconstruction error: 0.117698\n",
      "Epoch: 0 batch #: 193  of 300 sample #: 199 reconstruction error: 0.110782\n",
      "Epoch: 0 batch #: 194  of 300 sample #: 199 reconstruction error: 0.082615\n",
      "Epoch: 0 batch #: 195  of 300 sample #: 199 reconstruction error: 0.043857\n",
      "Epoch: 0 batch #: 196  of 300 sample #: 199 reconstruction error: 0.046448\n",
      "Epoch: 0 batch #: 197  of 300 sample #: 199 reconstruction error: 0.044371\n",
      "Epoch: 0 batch #: 198  of 300 sample #: 199 reconstruction error: 0.089979\n",
      "Epoch: 0 batch #: 199  of 300 sample #: 199 reconstruction error: 0.089318\n",
      "Epoch: 0 batch #: 200  of 300 sample #: 199 reconstruction error: 0.134549\n",
      "Epoch: 0 batch #: 201  of 300 sample #: 199 reconstruction error: 0.081304\n",
      "Epoch: 0 batch #: 202  of 300 sample #: 199 reconstruction error: 0.030454\n",
      "Epoch: 0 batch #: 203  of 300 sample #: 199 reconstruction error: 0.081863\n",
      "Epoch: 0 batch #: 204  of 300 sample #: 199 reconstruction error: 0.067151\n",
      "Epoch: 0 batch #: 205  of 300 sample #: 199 reconstruction error: 0.019585\n",
      "Epoch: 0 batch #: 206  of 300 sample #: 199 reconstruction error: 0.067224\n",
      "Epoch: 0 batch #: 207  of 300 sample #: 199 reconstruction error: 0.112070\n",
      "Epoch: 0 batch #: 208  of 300 sample #: 199 reconstruction error: 0.053835\n",
      "Epoch: 0 batch #: 209  of 300 sample #: 199 reconstruction error: 0.037063\n",
      "Epoch: 0 batch #: 210  of 300 sample #: 199 reconstruction error: 0.110522\n",
      "Epoch: 0 batch #: 211  of 300 sample #: 199 reconstruction error: 0.105780\n",
      "Epoch: 0 batch #: 212  of 300 sample #: 199 reconstruction error: 0.081241\n",
      "Epoch: 0 batch #: 213  of 300 sample #: 199 reconstruction error: 0.097932\n",
      "Epoch: 0 batch #: 214  of 300 sample #: 199 reconstruction error: 0.113968\n",
      "Epoch: 0 batch #: 215  of 300 sample #: 199 reconstruction error: 0.030052\n",
      "Epoch: 0 batch #: 216  of 300 sample #: 199 reconstruction error: 0.099822\n",
      "Epoch: 0 batch #: 217  of 300 sample #: 199 reconstruction error: 0.088474\n",
      "Epoch: 0 batch #: 218  of 300 sample #: 199 reconstruction error: 0.074199\n",
      "Epoch: 0 batch #: 219  of 300 sample #: 199 reconstruction error: 0.074187\n",
      "Epoch: 0 batch #: 220  of 300 sample #: 199 reconstruction error: 0.067614\n",
      "Epoch: 0 batch #: 221  of 300 sample #: 199 reconstruction error: 0.094801\n",
      "Epoch: 0 batch #: 222  of 300 sample #: 199 reconstruction error: 0.097786\n",
      "Epoch: 0 batch #: 223  of 300 sample #: 199 reconstruction error: 0.071758\n",
      "Epoch: 0 batch #: 224  of 300 sample #: 199 reconstruction error: 0.058489\n",
      "Epoch: 0 batch #: 225  of 300 sample #: 199 reconstruction error: 0.075265\n",
      "Epoch: 0 batch #: 226  of 300 sample #: 199 reconstruction error: 0.126602\n",
      "Epoch: 0 batch #: 227  of 300 sample #: 199 reconstruction error: 0.099765\n",
      "Epoch: 0 batch #: 228  of 300 sample #: 199 reconstruction error: 0.067231\n",
      "Epoch: 0 batch #: 229  of 300 sample #: 199 reconstruction error: 0.104481\n",
      "Epoch: 0 batch #: 230  of 300 sample #: 199 reconstruction error: 0.032057\n",
      "Epoch: 0 batch #: 231  of 300 sample #: 199 reconstruction error: 0.025884\n",
      "Epoch: 0 batch #: 232  of 300 sample #: 199 reconstruction error: 0.084640\n",
      "Epoch: 0 batch #: 233  of 300 sample #: 199 reconstruction error: 0.074162\n",
      "Epoch: 0 batch #: 234  of 300 sample #: 199 reconstruction error: 0.078452\n",
      "Epoch: 0 batch #: 235  of 300 sample #: 199 reconstruction error: 0.066164\n",
      "Epoch: 0 batch #: 236  of 300 sample #: 199 reconstruction error: 0.101047\n",
      "Epoch: 0 batch #: 237  of 300 sample #: 199 reconstruction error: 0.074078\n",
      "Epoch: 0 batch #: 238  of 300 sample #: 199 reconstruction error: 0.117872\n",
      "Epoch: 0 batch #: 239  of 300 sample #: 199 reconstruction error: 0.026865\n",
      "Epoch: 0 batch #: 240  of 300 sample #: 199 reconstruction error: 0.114008\n",
      "Epoch: 0 batch #: 241  of 300 sample #: 199 reconstruction error: 0.084746\n",
      "Epoch: 0 batch #: 242  of 300 sample #: 199 reconstruction error: 0.071280\n",
      "Epoch: 0 batch #: 243  of 300 sample #: 199 reconstruction error: 0.078058\n",
      "Epoch: 0 batch #: 244  of 300 sample #: 199 reconstruction error: 0.081273\n",
      "Epoch: 0 batch #: 245  of 300 sample #: 199 reconstruction error: 0.049788\n",
      "Epoch: 0 batch #: 246  of 300 sample #: 199 reconstruction error: 0.089315\n",
      "Epoch: 0 batch #: 247  of 300 sample #: 199 reconstruction error: 0.064868\n",
      "Epoch: 0 batch #: 248  of 300 sample #: 199 reconstruction error: 0.080052\n",
      "Epoch: 0 batch #: 249  of 300 sample #: 199 reconstruction error: 0.045226\n",
      "Epoch: 0 batch #: 250  of 300 sample #: 199 reconstruction error: 0.084100\n",
      "Epoch: 0 batch #: 251  of 300 sample #: 199 reconstruction error: 0.043694\n",
      "Epoch: 0 batch #: 252  of 300 sample #: 199 reconstruction error: 0.063504\n",
      "Epoch: 0 batch #: 253  of 300 sample #: 199 reconstruction error: 0.061122\n",
      "Epoch: 0 batch #: 254  of 300 sample #: 199 reconstruction error: 0.024711\n",
      "Epoch: 0 batch #: 255  of 300 sample #: 199 reconstruction error: 0.056018\n",
      "Epoch: 0 batch #: 256  of 300 sample #: 199 reconstruction error: 0.081306\n",
      "Epoch: 0 batch #: 257  of 300 sample #: 199 reconstruction error: 0.077128\n",
      "Epoch: 0 batch #: 258  of 300 sample #: 199 reconstruction error: 0.094006\n",
      "Epoch: 0 batch #: 259  of 300 sample #: 199 reconstruction error: 0.075548\n",
      "Epoch: 0 batch #: 260  of 300 sample #: 199 reconstruction error: 0.101024\n",
      "Epoch: 0 batch #: 261  of 300 sample #: 199 reconstruction error: 0.037208\n",
      "Epoch: 0 batch #: 262  of 300 sample #: 199 reconstruction error: 0.054238\n",
      "Epoch: 0 batch #: 263  of 300 sample #: 199 reconstruction error: 0.089827\n",
      "Epoch: 0 batch #: 264  of 300 sample #: 199 reconstruction error: 0.081462\n",
      "Epoch: 0 batch #: 265  of 300 sample #: 199 reconstruction error: 0.054342\n",
      "Epoch: 0 batch #: 266  of 300 sample #: 199 reconstruction error: 0.035274\n",
      "Epoch: 0 batch #: 267  of 300 sample #: 199 reconstruction error: 0.063705\n",
      "Epoch: 0 batch #: 268  of 300 sample #: 199 reconstruction error: 0.019998\n",
      "Epoch: 0 batch #: 269  of 300 sample #: 199 reconstruction error: 0.077128\n",
      "Epoch: 0 batch #: 270  of 300 sample #: 199 reconstruction error: 0.074168\n",
      "Epoch: 0 batch #: 271  of 300 sample #: 199 reconstruction error: 0.065666\n",
      "Epoch: 0 batch #: 272  of 300 sample #: 199 reconstruction error: 0.065547\n",
      "Epoch: 0 batch #: 273  of 300 sample #: 199 reconstruction error: 0.057093\n",
      "Epoch: 0 batch #: 274  of 300 sample #: 199 reconstruction error: 0.063465\n",
      "Epoch: 0 batch #: 275  of 300 sample #: 199 reconstruction error: 0.093924\n",
      "Epoch: 0 batch #: 276  of 300 sample #: 199 reconstruction error: 0.079029\n",
      "Epoch: 0 batch #: 277  of 300 sample #: 199 reconstruction error: 0.085974\n",
      "Epoch: 0 batch #: 278  of 300 sample #: 199 reconstruction error: 0.058925\n",
      "Epoch: 0 batch #: 279  of 300 sample #: 199 reconstruction error: 0.049960\n",
      "Epoch: 0 batch #: 280  of 300 sample #: 199 reconstruction error: 0.065614\n",
      "Epoch: 0 batch #: 281  of 300 sample #: 199 reconstruction error: 0.089605\n",
      "Epoch: 0 batch #: 282  of 300 sample #: 199 reconstruction error: 0.098878\n",
      "Epoch: 0 batch #: 283  of 300 sample #: 199 reconstruction error: 0.051398\n",
      "Epoch: 0 batch #: 284  of 300 sample #: 199 reconstruction error: 0.049557\n",
      "Epoch: 0 batch #: 285  of 300 sample #: 199 reconstruction error: 0.073474\n",
      "Epoch: 0 batch #: 286  of 300 sample #: 199 reconstruction error: 0.086590\n",
      "Epoch: 0 batch #: 287  of 300 sample #: 199 reconstruction error: 0.079648\n",
      "Epoch: 0 batch #: 288  of 300 sample #: 199 reconstruction error: 0.025451\n",
      "Epoch: 0 batch #: 289  of 300 sample #: 199 reconstruction error: 0.092685\n",
      "Epoch: 0 batch #: 290  of 300 sample #: 199 reconstruction error: 0.103976\n",
      "Epoch: 0 batch #: 291  of 300 sample #: 199 reconstruction error: 0.109479\n",
      "Epoch: 0 batch #: 292  of 300 sample #: 199 reconstruction error: 0.066961\n",
      "Epoch: 0 batch #: 293  of 300 sample #: 199 reconstruction error: 0.057526\n",
      "Epoch: 0 batch #: 294  of 300 sample #: 199 reconstruction error: 0.074828\n",
      "Epoch: 0 batch #: 295  of 300 sample #: 199 reconstruction error: 0.075462\n",
      "Epoch: 0 batch #: 296  of 300 sample #: 199 reconstruction error: 0.030070\n",
      "Epoch: 0 batch #: 297  of 300 sample #: 199 reconstruction error: 0.104292\n",
      "Epoch: 0 batch #: 298  of 300 sample #: 199 reconstruction error: 0.045820\n",
      "Epoch: 0 batch #: 299  of 300 sample #: 199 reconstruction error: 0.051701\n",
      "Epoch: 0 batch #: 300  of 300 sample #: 199 reconstruction error: 0.088272\n"
     ]
    }
   ],
   "source": [
    "#Parameters\n",
    "alpha = 0.01\n",
    "epochs = 1\n",
    "batchsize = 200\n",
    "weights = []\n",
    "errors = []\n",
    "batch_number = 0\n",
    "K = 1\n",
    "\n",
    "#creating datasets\n",
    "train_ds = \\\n",
    "    tf.data.Dataset.from_tensor_slices((trX, trY)).batch(batchsize)\n",
    "\n",
    "for epoch in range(epochs):\n",
    "    for batch_x, batch_y in train_ds:\n",
    "        batch_number += 1\n",
    "        for i_sample in range(batchsize):           \n",
    "            for k in range(K):\n",
    "                v0_state = batch_x[i_sample]\n",
    "                h0_state = hidden_layer(v0_state, W, hb)\n",
    "                v1_state = reconstructed_output(h0_state, W, vb)\n",
    "                h1_state = hidden_layer(v1_state, W, hb)\n",
    "\n",
    "                delta_W = tf.matmul(tf.transpose([v0_state]), h0_state) - tf.matmul(tf.transpose([v1_state]), h1_state)\n",
    "                W = W + alpha * delta_W\n",
    "\n",
    "                vb = vb + alpha * tf.reduce_mean(v0_state - v1_state, 0)\n",
    "                hb = hb + alpha * tf.reduce_mean(h0_state - h1_state, 0) \n",
    "\n",
    "                v0_state = v1_state\n",
    "\n",
    "            if i_sample == batchsize-1:\n",
    "                err = error(batch_x[i_sample], v1_state)\n",
    "                errors.append(err)\n",
    "                weights.append(W)\n",
    "                print ( 'Epoch: %d' % epoch, \n",
    "                       \"batch #: %i \" % batch_number, \"of %i\" % int(60e3/batchsize), \n",
    "                       \"sample #: %i\" % i_sample,\n",
    "                       'reconstruction error: %f' % err)\n",
    "\n"
   ]
  },
  {
   "cell_type": "markdown",
   "metadata": {},
   "source": [
    "Let's take a look at the errors at the end of each batch:\n"
   ]
  },
  {
   "cell_type": "code",
   "execution_count": 18,
   "metadata": {},
   "outputs": [
    {
     "data": {
      "image/png": "[encoded data removed]",
      "text/plain": [
       "<Figure size 432x288 with 1 Axes>"
      ]
     },
     "metadata": {
      "needs_background": "light"
     },
     "output_type": "display_data"
    }
   ],
   "source": [
    "plt.plot(errors)\n",
    "plt.xlabel(\"Batch Number\")\n",
    "plt.ylabel(\"Error\")\n",
    "plt.show()"
   ]
  },
  {
   "cell_type": "markdown",
   "metadata": {},
   "source": [
    "What is the final weight matrix $W$ after training?\n"
   ]
  },
  {
   "cell_type": "code",
   "execution_count": 19,
   "metadata": {},
   "outputs": [
    {
     "name": "stdout",
     "output_type": "stream",
     "text": [
      "[[-0.23000003 -0.24000004 -0.5299998  ... -0.12999998 -0.22000003\n",
      "  -0.55999976]\n",
      " [-0.20000002 -0.25000003 -0.56999975 ... -0.18       -0.21000002\n",
      "  -0.58999974]\n",
      " [-0.18       -0.23000003 -0.5299998  ... -0.18       -0.27\n",
      "  -0.5399998 ]\n",
      " ...\n",
      " [-0.20000002 -0.18       -0.55999976 ... -0.14999999 -0.17\n",
      "  -0.58999974]\n",
      " [-0.16       -0.25000003 -0.55999976 ... -0.18       -0.23000003\n",
      "  -0.5399998 ]\n",
      " [-0.22000003 -0.26000002 -0.55999976 ... -0.17       -0.22000003\n",
      "  -0.5999997 ]]\n"
     ]
    }
   ],
   "source": [
    "print(W.numpy()) # a weight matrix of shape (50,784)"
   ]
  },
  {
   "cell_type": "markdown",
   "metadata": {},
   "source": [
    "<a id=\"ref5\"></a>\n",
    "\n",
    "<h3>Learned features</h3> \n"
   ]
  },
  {
   "cell_type": "markdown",
   "metadata": {},
   "source": [
    "We can take each hidden unit and visualize the connections between that hidden unit and each element in the input vector. In our case, we have 50 hidden units. Lets visualize those.\n"
   ]
  },
  {
   "cell_type": "markdown",
   "metadata": {},
   "source": [
    "Let's plot the current weights:\n",
    "<b>tile_raster_images</b> helps in generating an easy to grasp image from a set of samples or weights. It transforms the <b>uw</b> (with one flattened image per row of size 784), into an array (of size $28\\times28$) in which images are reshaped and laid out like tiles on a floor.\n"
   ]
  },
  {
   "cell_type": "code",
   "execution_count": 20,
   "metadata": {},
   "outputs": [
    {
     "data": {
      "image/png": "[encoded data removed]",
      "text/plain": [
       "<Figure size 1296x1296 with 1 Axes>"
      ]
     },
     "metadata": {
      "needs_background": "light"
     },
     "output_type": "display_data"
    }
   ],
   "source": [
    "tile_raster_images(X=W.numpy().T, img_shape=(28, 28), tile_shape=(5, 10), tile_spacing=(1, 1))\n",
    "import matplotlib.pyplot as plt\n",
    "from PIL import Image\n",
    "%matplotlib inline\n",
    "image = Image.fromarray(tile_raster_images(X=W.numpy().T, img_shape=(28, 28) ,tile_shape=(5, 10), tile_spacing=(1, 1)))\n",
    "### Plot image\n",
    "plt.rcParams['figure.figsize'] = (18.0, 18.0)\n",
    "imgplot = plt.imshow(image)\n",
    "imgplot.set_cmap('gray')  "
   ]
  },
  {
   "cell_type": "markdown",
   "metadata": {},
   "source": [
    "Each tile in the above visualization corresponds to a vector of connections between a hidden unit and visible layer's units. \n"
   ]
  },
  {
   "cell_type": "markdown",
   "metadata": {},
   "source": [
    "Let's look at one of the learned weights corresponding to one of hidden units for example. In this particular square, the gray color represents weight = 0, and the whiter it is, the more positive the weights are (closer to 1). Conversely, the darker pixels are, the more negative the weights. The positive pixels will increase the probability of activation in hidden units (after multiplying by input/visible pixels), and negative pixels will decrease the probability of a unit hidden to be 1 (activated). So, why is this important?  So we can see that this specific square (hidden unit) can detect a feature (e.g. a \"/\" shape) and if it exists in the input.\n"
   ]
  },
  {
   "cell_type": "code",
   "execution_count": 21,
   "metadata": {},
   "outputs": [
    {
     "data": {
      "image/png": "[encoded data removed]",
      "text/plain": [
       "<Figure size 288x288 with 1 Axes>"
      ]
     },
     "metadata": {
      "needs_background": "light"
     },
     "output_type": "display_data"
    }
   ],
   "source": [
    "from PIL import Image\n",
    "image = Image.fromarray(tile_raster_images(X =W.numpy().T[10:11], img_shape=(28, 28),tile_shape=(1, 1), tile_spacing=(1, 1)))\n",
    "### Plot image\n",
    "plt.rcParams['figure.figsize'] = (4.0, 4.0)\n",
    "imgplot = plt.imshow(image)\n",
    "imgplot.set_cmap('gray')  "
   ]
  },
  {
   "cell_type": "markdown",
   "metadata": {},
   "source": [
    "Let's look at the reconstruction of an image now. Imagine that we have a destructed image of figure 3. Lets see if our trained network can fix it:\n",
    "\n",
    "First we plot the image:\n"
   ]
  },
  {
   "cell_type": "code",
   "execution_count": 22,
   "metadata": {},
   "outputs": [
    {
     "name": "stdout",
     "output_type": "stream",
     "text": [
      "--2020-11-29 11:09:15--  https://ibm.box.com/shared/static/vvm1b63uvuxq88vbw9znpwu5ol380mco.jpg\n",
      "Resolving ibm.box.com (ibm.box.com)... 107.152.29.197\n",
      "Connecting to ibm.box.com (ibm.box.com)|107.152.29.197|:443... connected.\n",
      "HTTP request sent, awaiting response... 301 Moved Permanently\n",
      "Location: /public/static/vvm1b63uvuxq88vbw9znpwu5ol380mco.jpg [following]\n",
      "--2020-11-29 11:09:16--  https://ibm.box.com/public/static/vvm1b63uvuxq88vbw9znpwu5ol380mco.jpg\n",
      "Reusing existing connection to ibm.box.com:443.\n",
      "HTTP request sent, awaiting response... 301 Moved Permanently\n",
      "Location: https://ibm.ent.box.com/public/static/vvm1b63uvuxq88vbw9znpwu5ol380mco.jpg [following]\n",
      "--2020-11-29 11:09:16--  https://ibm.ent.box.com/public/static/vvm1b63uvuxq88vbw9znpwu5ol380mco.jpg\n",
      "Resolving ibm.ent.box.com (ibm.ent.box.com)... 107.152.27.211\n",
      "Connecting to ibm.ent.box.com (ibm.ent.box.com)|107.152.27.211|:443... connected.\n",
      "HTTP request sent, awaiting response... 302 Found\n",
      "Location: https://public.boxcloud.com/d/1/b1!lNiVyxFE8fUcWosYEhDMCiFnKd0QmkA_XQwLWnKZLpd_iaPixgoXvtv2JXCT41xMtvX5cNr7SrVkJpAVIlQG261qRoIh7udKR9AyqwQVRin2xNv7LbCwy0KV2hqOzMF4dbS4zoNai7rdceKm_QUPv4AL9bYAp9sbVR0_4yLhh_eC8mKB1d0elShXTJLDJ09jypWcs2J4KercvWpk83lgPfdBZv2EqJBy8NTc64dvdpoBCyHdjhRAzaiQpaIQOLwKVxNxmOmL0_y-GcIfitKbQceBtPAFfQMU8ZlWRbKX7CDx4t5eoaeDttT-1Xip_iOonlfKi5gxq5-jICFCtQsS3ddBgH0D0ZKPM6K4nytybbtFWDS3-6-TOWEmVHormvZ3l82OKfibc6_uVbMRnLFip553kEpJEbfuCAjdCCgNwwIDdPK8RT9Z_977bJByjgkyUKONYCsi21ggpI04Q3b3sDl3KV1rG_FpsC8msROXN8xEZ0WouHyCgLMy1MXsGKej2V-pbJjrZlbxxr0c-M92ov-P4-tiDstnDbtyAkainfBt2JNxF6oVHb2qYHLEBI1IvRBD-2nwMW4UQ_qBdyCMVHfKXfxIwA_FUI7C3Utfococ16LLZh_PmYBdIBNqHZZdO2Oh6Z8dcxG2BVzZIIoiwaIAX7vNVpXRcyPj9g9Oy9V1eUqhiUb-yQj8QSUSlH4a_XAIJ2bzuKUv_kE3pG7gp4KO1IFIJBrl9BT4MgreQwXAg8u1DytOXYwDiAtj9LGDrCq1OBnKKV7psMCd1Eh-Gffk6xPewavvQwg_mSDD0z2wzXR9HGGJOy-L3fHHQMu0JkAkHBLH6q1x_a5-O_63TWwvYgbaXGecKvj0rq2POB28fTXp1crL1nIsZ8Ghv7feqOkL5NBcATG0o1m8KKjwD5nb9nfU6HM6qovVsihA6SINratN6_DNOHMxvp1KCm-1ttfMpjxcMzdV4sc4zP0d2PoC1lgoX0nSr59UJ7suCu2uabffEbDK5fTkjttU4MG33y4O0mOi9jptp5B-0ao8yhch9YYrogWi8PUEnM5pyg83Pp4nG-W-52Tiwl75hk2_VBtjeWK-mSEtgdFMVSftRptitlb-1Jmtb5wkzvgxnH8ok5q9tZ2Gsd1esKAyW9UieIu5QBso4DXT-uUQEWN3q-CH0a_YurJ1EUGnGwlTxX7Tk-eChT4Muhv01w_APx1w71fbit-G0DETuImGHWKUp45FwGY3XKNb-y6zIjtcDNHZy9SO6zYrMX2GwJT0htOStTZOk-rWQ8YKDYKy7ICtaw_qP45NGmv1QStAK3arQkL1O3ksqm6CCbqascIm7EBCAE2Op0f5CldEgAlFaEko4XIrJrErg4l3qK5H9mZNkOz4c8-CgqyMOkJEZTj7-FLCrltgwKbJIFzqHW3KUQrIdSR3sAcD3HZdKtZnDIzyX7zMY1pNCrdQXWrcqHgzG3qO/download [following]\n",
      "--2020-11-29 11:09:16--  https://public.boxcloud.com/d/1/b1!lNiVyxFE8fUcWosYEhDMCiFnKd0QmkA_XQwLWnKZLpd_iaPixgoXvtv2JXCT41xMtvX5cNr7SrVkJpAVIlQG261qRoIh7udKR9AyqwQVRin2xNv7LbCwy0KV2hqOzMF4dbS4zoNai7rdceKm_QUPv4AL9bYAp9sbVR0_4yLhh_eC8mKB1d0elShXTJLDJ09jypWcs2J4KercvWpk83lgPfdBZv2EqJBy8NTc64dvdpoBCyHdjhRAzaiQpaIQOLwKVxNxmOmL0_y-GcIfitKbQceBtPAFfQMU8ZlWRbKX7CDx4t5eoaeDttT-1Xip_iOonlfKi5gxq5-jICFCtQsS3ddBgH0D0ZKPM6K4nytybbtFWDS3-6-TOWEmVHormvZ3l82OKfibc6_uVbMRnLFip553kEpJEbfuCAjdCCgNwwIDdPK8RT9Z_977bJByjgkyUKONYCsi21ggpI04Q3b3sDl3KV1rG_FpsC8msROXN8xEZ0WouHyCgLMy1MXsGKej2V-pbJjrZlbxxr0c-M92ov-P4-tiDstnDbtyAkainfBt2JNxF6oVHb2qYHLEBI1IvRBD-2nwMW4UQ_qBdyCMVHfKXfxIwA_FUI7C3Utfococ16LLZh_PmYBdIBNqHZZdO2Oh6Z8dcxG2BVzZIIoiwaIAX7vNVpXRcyPj9g9Oy9V1eUqhiUb-yQj8QSUSlH4a_XAIJ2bzuKUv_kE3pG7gp4KO1IFIJBrl9BT4MgreQwXAg8u1DytOXYwDiAtj9LGDrCq1OBnKKV7psMCd1Eh-Gffk6xPewavvQwg_mSDD0z2wzXR9HGGJOy-L3fHHQMu0JkAkHBLH6q1x_a5-O_63TWwvYgbaXGecKvj0rq2POB28fTXp1crL1nIsZ8Ghv7feqOkL5NBcATG0o1m8KKjwD5nb9nfU6HM6qovVsihA6SINratN6_DNOHMxvp1KCm-1ttfMpjxcMzdV4sc4zP0d2PoC1lgoX0nSr59UJ7suCu2uabffEbDK5fTkjttU4MG33y4O0mOi9jptp5B-0ao8yhch9YYrogWi8PUEnM5pyg83Pp4nG-W-52Tiwl75hk2_VBtjeWK-mSEtgdFMVSftRptitlb-1Jmtb5wkzvgxnH8ok5q9tZ2Gsd1esKAyW9UieIu5QBso4DXT-uUQEWN3q-CH0a_YurJ1EUGnGwlTxX7Tk-eChT4Muhv01w_APx1w71fbit-G0DETuImGHWKUp45FwGY3XKNb-y6zIjtcDNHZy9SO6zYrMX2GwJT0htOStTZOk-rWQ8YKDYKy7ICtaw_qP45NGmv1QStAK3arQkL1O3ksqm6CCbqascIm7EBCAE2Op0f5CldEgAlFaEko4XIrJrErg4l3qK5H9mZNkOz4c8-CgqyMOkJEZTj7-FLCrltgwKbJIFzqHW3KUQrIdSR3sAcD3HZdKtZnDIzyX7zMY1pNCrdQXWrcqHgzG3qO/download\n",
      "Resolving public.boxcloud.com (public.boxcloud.com)... 107.152.29.200\n",
      "Connecting to public.boxcloud.com (public.boxcloud.com)|107.152.29.200|:443... connected.\n",
      "HTTP request sent, awaiting response... 200 OK\n",
      "Length: 24383 (24K) [image/jpeg]\n",
      "Saving to: ‘destructed3.jpg’\n",
      "\n",
      "destructed3.jpg     100%[===================>]  23.81K  --.-KB/s    in 0.01s   \n",
      "\n",
      "2020-11-29 11:09:17 (2.21 MB/s) - ‘destructed3.jpg’ saved [24383/24383]\n",
      "\n"
     ]
    },
    {
     "data": {
      "image/png": "[encoded data removed]",
      "text/plain": [
       "<PIL.JpegImagePlugin.JpegImageFile image mode=RGB size=181x181 at 0x7F700878FDD8>"
      ]
     },
     "execution_count": 22,
     "metadata": {},
     "output_type": "execute_result"
    }
   ],
   "source": [
    "!wget -O destructed3.jpg  https://ibm.box.com/shared/static/vvm1b63uvuxq88vbw9znpwu5ol380mco.jpg\n",
    "img = Image.open('destructed3.jpg')\n",
    "img"
   ]
  },
  {
   "cell_type": "markdown",
   "metadata": {},
   "source": [
    "Now let's pass this image through the neural net:\n"
   ]
  },
  {
   "cell_type": "code",
   "execution_count": 23,
   "metadata": {},
   "outputs": [],
   "source": [
    "# convert the image to a 1d numpy array\n",
    "sample_case = np.array(img.convert('I').resize((28,28))).ravel().reshape((1, -1))/255.0\n",
    "\n",
    "sample_case = tf.cast(sample_case, dtype=tf.float32)"
   ]
  },
  {
   "cell_type": "markdown",
   "metadata": {},
   "source": [
    "Feed the sample case into the network and reconstruct the output:\n"
   ]
  },
  {
   "cell_type": "code",
   "execution_count": 24,
   "metadata": {},
   "outputs": [
    {
     "name": "stdout",
     "output_type": "stream",
     "text": [
      "Probability nodes in hidden layer: tf.Tensor(\n",
      "[[3.5064775e-15 3.4590839e-06 9.9839228e-01 9.9999309e-01 4.4411734e-01\n",
      "  5.8320165e-04 9.9472523e-01 7.3397946e-01 3.2791040e-12 9.9999863e-01\n",
      "  7.7843559e-01 9.0679722e-14 2.8971399e-16 8.8148069e-01 8.4137917e-04\n",
      "  9.9923790e-01 9.9999958e-01 5.4722769e-09 6.1137797e-07 9.9953389e-01\n",
      "  5.6902433e-10 8.6192277e-15 2.2255296e-16 9.9864507e-01 9.9999905e-01\n",
      "  2.3467948e-07 3.1560659e-04 9.9999851e-01 2.5313957e-06 9.9947900e-01\n",
      "  4.9772534e-06 9.9994147e-01 7.0156748e-11 9.7814810e-01 5.4113428e-08\n",
      "  3.1077862e-04 1.0787249e-02 6.1076880e-04 5.7539295e-05 2.3833765e-05\n",
      "  4.9904375e-10 7.4256579e-20 2.3501605e-13 9.9986774e-01 1.0000000e+00\n",
      "  9.8198038e-01 8.1773996e-03 1.5101311e-05 1.4115504e-07 1.0000000e+00]], shape=(1, 50), dtype=float32)\n",
      "activated nodes in hidden layer: tf.Tensor(\n",
      "[[0. 0. 1. 1. 0. 0. 1. 1. 0. 1. 1. 0. 0. 1. 0. 1. 1. 0. 0. 1. 0. 0. 0. 1.\n",
      "  1. 0. 0. 1. 0. 1. 0. 1. 0. 1. 0. 0. 0. 0. 0. 0. 0. 0. 0. 1. 1. 1. 0. 0.\n",
      "  0. 1.]], shape=(1, 50), dtype=float32)\n",
      "tf.Tensor(\n",
      "[[5.57885214e-05 7.53065688e-05 1.13473259e-04 7.60633557e-05\n",
      "  1.26659870e-04 7.45571670e-05 9.66955413e-05 7.53064960e-05\n",
      "  1.16929004e-04 9.57333832e-05 6.54684263e-05 1.19291064e-04\n",
      "  1.20494813e-04 5.97773324e-05 5.19801397e-05 5.06044089e-05\n",
      "  7.45572397e-05 1.24156475e-04 7.45572397e-05 9.38376979e-05\n",
      "  1.11226283e-04 8.40630382e-05 9.66954540e-05 1.25408173e-04\n",
      "  5.86488131e-05 1.18104188e-04 9.96402377e-05 1.33186579e-04\n",
      "  8.49079079e-05 1.11226182e-04 6.81401725e-05 9.86487867e-05\n",
      "  7.80393966e-05 9.46359287e-05 5.31467813e-05 9.48701490e-05\n",
      "  1.05959523e-04 1.53005123e-04 1.62154436e-04 1.50710344e-04\n",
      "  1.46210194e-04 1.21362762e-04 9.63135099e-05 1.49160624e-04\n",
      "  1.73389912e-04 2.55435705e-04 2.19613314e-04 1.34319067e-04\n",
      "  1.00318735e-04 1.13602437e-04 1.14843257e-04 7.77523528e-05\n",
      "  3.70240341e-05 7.02153338e-05 5.63491631e-05 8.23984446e-05\n",
      "  8.23985174e-05 7.99632980e-05 7.72205894e-05 1.58786774e-04\n",
      "  1.57624483e-04 1.00377591e-04 7.93230865e-05 1.13282309e-04\n",
      "  1.35570765e-04 1.14955903e-04 3.53319519e-05 6.15521203e-05\n",
      "  4.70041414e-05 6.13736338e-05 1.55121088e-04 2.14159489e-04\n",
      "  1.60753727e-04 9.70229157e-05 9.88974643e-05 2.41224388e-05\n",
      "  5.68666110e-05 1.17287615e-04 1.88499689e-04 7.66293742e-05\n",
      "  1.36077404e-04 7.53746062e-05 9.19796294e-05 5.46837546e-05\n",
      "  8.15786261e-05 6.88250075e-05 5.79833359e-05 1.04302344e-04\n",
      "  1.04786093e-04 1.10652218e-04 9.41808030e-05 1.09908549e-04\n",
      "  8.82178720e-05 3.48956200e-05 3.76895150e-05 2.81928988e-05\n",
      "  4.13673552e-05 1.96456909e-04 3.97503376e-04 7.34537840e-04\n",
      "  4.72068787e-04 5.45978546e-04 3.15517187e-04 2.67684460e-04\n",
      "  1.88291073e-04 2.39104033e-04 3.96609306e-04 1.90943480e-04\n",
      "  2.19821930e-04 1.20277822e-04 7.75453009e-05 1.03706734e-04\n",
      "  6.88249420e-05 7.61291012e-05 1.10400826e-04 8.74801990e-05\n",
      "  9.17095022e-05 2.87920237e-04 3.03030014e-04 1.08610780e-04\n",
      "  2.15381384e-04 2.04533339e-04 1.87933445e-04 4.28915024e-04\n",
      "  9.64909792e-04 3.27253342e-03 6.83811307e-03 2.09277570e-02\n",
      "  1.68334842e-02 4.54111397e-02 2.57947445e-02 2.35413313e-02\n",
      "  1.34338439e-02 7.19180703e-03 5.56647778e-03 3.70466709e-03\n",
      "  9.34362411e-04 2.73704529e-04 1.08729444e-04 6.38757192e-05\n",
      "  7.23536868e-05 7.16338109e-05 1.50322914e-04 2.39342451e-04\n",
      "  3.18437815e-04 4.72992659e-04 2.21431255e-04 6.28560781e-04\n",
      "  8.66264105e-04 1.26492977e-03 1.48376822e-03 9.58454609e-03\n",
      "  8.60839784e-02 4.33422327e-01 4.75929171e-01 6.03520691e-01\n",
      "  7.13506043e-01 6.66069388e-01 4.37027216e-01 4.14339542e-01\n",
      "  2.47053057e-01 1.28011316e-01 7.42901862e-02 1.17980242e-02\n",
      "  2.73251534e-03 1.71694160e-03 2.70009041e-04 1.04187820e-04\n",
      "  6.88250075e-05 1.51008368e-04 7.92919309e-05 3.35156918e-04\n",
      "  7.82042742e-04 4.27305698e-04 1.13156438e-03 4.99427319e-04\n",
      "  1.00010633e-03 1.69786811e-03 1.90918744e-02 1.85440928e-01\n",
      "  8.47693563e-01 9.50267315e-01 8.62755656e-01 8.93215537e-01\n",
      "  8.93833756e-01 7.87848234e-01 7.91247070e-01 8.66261065e-01\n",
      "  5.41873991e-01 4.07550454e-01 6.88968003e-02 2.13220716e-02\n",
      "  4.26140428e-03 7.51167536e-04 8.09967518e-04 1.04326718e-04\n",
      "  7.29664534e-05 1.36882067e-04 2.52842903e-04 5.00470400e-04\n",
      "  1.62494183e-03 2.70357728e-03 3.51834297e-03 1.84142590e-03\n",
      "  2.45580077e-03 6.95061684e-03 8.42677653e-02 7.31642306e-01\n",
      "  9.36403513e-01 9.71307755e-01 9.28249240e-01 8.18396449e-01\n",
      "  6.68825269e-01 5.83590209e-01 6.07012093e-01 8.16055417e-01\n",
      "  8.15943480e-01 6.63278222e-01 1.10183269e-01 1.53591633e-02\n",
      "  2.13178992e-03 4.81277704e-04 6.18010759e-04 2.07692385e-04\n",
      "  1.28418207e-04 8.89608345e-05 4.37796116e-04 4.36753035e-04\n",
      "  1.39462948e-03 2.59977579e-03 6.22978806e-03 2.04604864e-03\n",
      "  2.58100033e-03 1.73205733e-02 4.98374969e-01 9.13288474e-01\n",
      "  8.98640633e-01 8.65372896e-01 4.85141754e-01 3.14966649e-01\n",
      "  1.63980633e-01 2.09751040e-01 2.56787121e-01 7.57283568e-01\n",
      "  7.22883999e-01 4.93141353e-01 1.35978937e-01 1.28171444e-02\n",
      "  9.00715590e-04 6.69956207e-04 5.86926937e-04 1.01852864e-04\n",
      "  1.32739544e-04 1.32799149e-04 2.58386135e-04 6.12646341e-04\n",
      "  2.04786658e-03 4.34255600e-03 2.02566385e-03 1.76724792e-03\n",
      "  3.09410691e-03 4.45380509e-02 4.49660808e-01 7.02124417e-01\n",
      "  6.90595269e-01 1.29480898e-01 7.82542825e-02 6.60550594e-02\n",
      "  8.64126384e-02 2.01944679e-01 4.12380725e-01 7.47732639e-01\n",
      "  8.00139308e-01 6.70995653e-01 8.87583196e-02 1.29136145e-02\n",
      "  1.60279870e-03 4.92602587e-04 2.73108482e-04 1.52349472e-04\n",
      "  1.18127391e-04 1.94609165e-04 3.43799591e-04 7.64280558e-04\n",
      "  2.54651904e-03 2.48318911e-03 1.09741092e-03 8.21828842e-04\n",
      "  4.03717160e-03 3.36402655e-02 1.08821213e-01 2.25280493e-01\n",
      "  1.33557379e-01 6.64363801e-02 4.46304083e-02 7.69408643e-02\n",
      "  2.29830205e-01 5.27087629e-01 7.55752265e-01 8.24524641e-01\n",
      "  8.62486482e-01 3.81847918e-01 5.80801666e-02 5.54069877e-03\n",
      "  1.31833553e-03 6.21169806e-04 1.96337700e-04 9.09039591e-05\n",
      "  8.17163673e-05 1.22534228e-04 3.09377909e-04 5.15133142e-04\n",
      "  1.07154250e-03 1.06009841e-03 6.96361065e-04 9.46909189e-04\n",
      "  4.14547324e-03 8.16190243e-03 6.72923028e-02 1.03942156e-01\n",
      "  1.12090498e-01 1.28643394e-01 1.47635818e-01 3.20659369e-01\n",
      "  5.86283386e-01 7.70917654e-01 7.59749651e-01 8.26312780e-01\n",
      "  8.00426841e-01 2.27778167e-01 8.49613547e-03 1.29207969e-03\n",
      "  4.23222780e-04 7.06911087e-04 1.96367502e-04 9.57146694e-05\n",
      "  1.11873727e-04 1.70141459e-04 5.10990620e-04 3.81380320e-04\n",
      "  5.69343567e-04 1.02615356e-03 6.94900751e-04 9.56684351e-04\n",
      "  4.67491150e-03 2.43764520e-02 8.42937529e-02 1.47058278e-01\n",
      "  4.85887110e-01 4.35632318e-01 4.58932519e-01 7.34809756e-01\n",
      "  8.16179991e-01 8.15986097e-01 7.68879950e-01 8.14904213e-01\n",
      "  3.56236458e-01 3.11255753e-02 2.33435631e-03 1.94668770e-04\n",
      "  2.20656395e-04 2.00778246e-04 1.46985054e-04 7.53627464e-05\n",
      "  7.13703266e-05 1.33782625e-04 2.70426273e-04 2.37613916e-04\n",
      "  3.47465277e-04 3.59594822e-04 9.47237015e-04 8.30918550e-04\n",
      "  3.93992662e-03 1.99573338e-02 1.51230633e-01 4.90819573e-01\n",
      "  8.29746127e-01 8.90106857e-01 7.37075210e-01 7.82772481e-01\n",
      "  9.06657815e-01 7.67394662e-01 7.71243274e-01 5.47342181e-01\n",
      "  1.51167482e-01 6.31001592e-03 8.09371471e-04 1.42365694e-04\n",
      "  1.56342983e-04 1.54703856e-04 1.58488750e-04 1.01061007e-04\n",
      "  8.36716863e-05 1.04584826e-04 9.23953921e-05 2.29835510e-04\n",
      "  3.07768583e-04 3.86923552e-04 4.29332256e-04 1.04412436e-03\n",
      "  5.15246391e-03 4.91850972e-02 1.91256613e-01 7.82679200e-01\n",
      "  8.10631752e-01 9.01101351e-01 7.64452934e-01 8.34300637e-01\n",
      "  8.13239098e-01 7.51194715e-01 6.79512799e-01 2.21353441e-01\n",
      "  4.07357514e-02 7.76001811e-03 9.08881426e-04 7.16461727e-05\n",
      "  8.96871206e-05 1.74671412e-04 1.18540425e-04 5.62300411e-05\n",
      "  9.84750804e-05 6.50563379e-05 1.36762857e-04 4.46021557e-04\n",
      "  9.38296318e-04 2.83479691e-04 4.66197729e-04 2.96148658e-03\n",
      "  8.90925527e-03 3.23026776e-02 2.08414674e-01 4.65392590e-01\n",
      "  7.03512669e-01 7.40131319e-01 6.57116532e-01 6.45271838e-01\n",
      "  6.43507421e-01 7.34785557e-01 7.63169050e-01 2.01510906e-01\n",
      "  3.21367085e-02 2.55382061e-03 7.88837671e-04 1.71840191e-04\n",
      "  8.44771712e-05 3.79116136e-05 1.67608261e-04 9.39519523e-05\n",
      "  6.88520595e-05 1.19426863e-04 1.81227922e-04 1.98307633e-03\n",
      "  3.88142467e-03 2.06756592e-03 1.46293640e-03 4.20805812e-03\n",
      "  1.87848806e-02 3.19083333e-02 7.09539950e-02 2.98210859e-01\n",
      "  4.92674947e-01 4.94377881e-01 4.03642178e-01 2.19061434e-01\n",
      "  5.27122259e-01 8.12219322e-01 5.46948969e-01 2.24871248e-01\n",
      "  1.99088454e-02 8.08361173e-03 1.20830536e-03 1.25825405e-04\n",
      "  5.97294638e-05 1.23411417e-04 1.41173601e-04 8.62977467e-05\n",
      "  6.22754233e-05 9.57597804e-05 2.95937061e-04 4.95934486e-03\n",
      "  1.25952363e-02 1.19103491e-02 9.04989243e-03 6.25091791e-03\n",
      "  9.43559408e-03 1.50410533e-02 4.08019125e-02 1.33462965e-01\n",
      "  2.58262992e-01 1.19651586e-01 1.20832562e-01 1.51671350e-01\n",
      "  5.16167641e-01 6.13423824e-01 4.19172794e-01 2.44333953e-01\n",
      "  3.80533338e-02 7.92044401e-03 1.66949630e-03 1.86800957e-04\n",
      "  6.90214802e-05 6.73913528e-05 1.48117542e-04 7.13955087e-05\n",
      "  6.88088621e-05 3.84022824e-05 7.00742006e-04 7.24917650e-03\n",
      "  2.56218314e-02 4.12284732e-02 3.79959047e-02 1.19700432e-02\n",
      "  1.66893303e-02 3.53954732e-02 6.90409243e-02 1.60725683e-01\n",
      "  6.11849427e-02 2.66654789e-02 2.65060067e-02 1.35514349e-01\n",
      "  4.98613358e-01 6.43438458e-01 5.04394174e-01 2.17378765e-01\n",
      "  5.00531197e-02 1.00899935e-02 1.26278400e-03 3.05891037e-04\n",
      "  1.59382820e-04 1.43319368e-04 1.55061483e-04 1.31845474e-04\n",
      "  1.35511160e-04 1.05685722e-04 1.18491054e-03 3.71322930e-02\n",
      "  1.21791989e-01 1.93182230e-01 7.92757273e-02 1.26723886e-01\n",
      "  3.91162932e-02 8.48433077e-02 9.85341072e-02 1.09893441e-01\n",
      "  3.89556587e-02 5.09980321e-03 2.00544298e-02 1.69345349e-01\n",
      "  6.32548332e-01 7.49180913e-01 6.61604404e-01 2.51833081e-01\n",
      "  3.21163833e-02 2.31787562e-03 5.18143177e-04 2.79873610e-04\n",
      "  5.68866730e-04 3.33577394e-04 1.45763159e-04 1.66922808e-04\n",
      "  1.09023909e-04 1.33961439e-04 3.30826640e-03 8.54817331e-02\n",
      "  3.04972887e-01 3.76286030e-01 2.75666595e-01 2.42380559e-01\n",
      "  2.76840568e-01 2.34681457e-01 1.21522456e-01 4.37006354e-02\n",
      "  1.42104328e-02 9.74899530e-03 4.72583473e-02 5.90534329e-01\n",
      "  8.75241518e-01 8.07306588e-01 6.29242897e-01 5.76917529e-02\n",
      "  8.38541985e-03 1.46654248e-03 5.00530005e-04 3.52293253e-04\n",
      "  6.96450472e-04 2.23189592e-04 2.13623047e-04 8.48646741e-05\n",
      "  8.78272767e-05 8.96225683e-05 2.34097242e-03 9.75557268e-02\n",
      "  3.49360436e-01 4.16070879e-01 6.65009916e-01 4.39754516e-01\n",
      "  4.12537754e-01 2.26427406e-01 1.07017905e-01 5.25086522e-02\n",
      "  5.87043464e-02 2.74340510e-02 3.42904627e-01 8.52183819e-01\n",
      "  9.28244352e-01 7.51580417e-01 1.25453562e-01 1.44919455e-02\n",
      "  1.75249577e-03 4.47869301e-04 6.18547201e-04 3.14712524e-04\n",
      "  4.18573618e-04 2.87353992e-04 9.90909029e-05 1.10873618e-04\n",
      "  7.18757801e-05 1.11178459e-04 1.22246146e-03 3.07073891e-02\n",
      "  1.64166927e-01 6.45583391e-01 6.50195241e-01 8.74378860e-01\n",
      "  7.83201456e-01 6.91520572e-01 3.82358074e-01 4.37565684e-01\n",
      "  3.56962025e-01 3.21403503e-01 7.42289305e-01 9.37918663e-01\n",
      "  7.82412112e-01 3.02956700e-01 2.43636370e-02 2.13918090e-03\n",
      "  7.98553228e-04 4.61339951e-04 4.41640615e-04 4.87208366e-04\n",
      "  4.61935997e-04 1.92463398e-04 1.11222042e-04 8.67148628e-05\n",
      "  5.92382567e-05 7.53065688e-05 1.72823668e-04 5.18834591e-03\n",
      "  2.95020342e-02 3.35972667e-01 6.59299612e-01 7.49972105e-01\n",
      "  8.95145357e-01 8.89189005e-01 9.12045836e-01 8.19920480e-01\n",
      "  5.89375138e-01 6.12883389e-01 7.41835117e-01 5.36219180e-01\n",
      "  1.02387041e-01 3.19305956e-02 4.98428941e-03 1.06543303e-03\n",
      "  9.30428505e-04 5.74141741e-04 2.65896320e-04 4.65154648e-04\n",
      "  2.89916992e-04 1.67042017e-04 1.48117542e-04 1.19291064e-04\n",
      "  6.48169880e-05 1.14613598e-04 7.71267514e-05 5.01453876e-04\n",
      "  6.14994764e-03 7.34566152e-02 3.10948014e-01 2.70222068e-01\n",
      "  6.78091824e-01 8.53296995e-01 6.75620615e-01 4.96432751e-01\n",
      "  3.83878797e-01 3.32471460e-01 1.73817426e-01 8.14602971e-02\n",
      "  1.41254961e-02 9.59321856e-03 1.29282475e-03 3.24845314e-04\n",
      "  1.25229359e-04 1.75207853e-04 2.13801861e-04 3.83853912e-04\n",
      "  1.92612410e-04 1.21067977e-04 8.94714976e-05 7.09210217e-05\n",
      "  8.74937105e-05 8.57612613e-05 9.59814934e-05 1.39474869e-04\n",
      "  4.87148762e-04 8.75115395e-04 4.02250886e-03 9.76684690e-03\n",
      "  3.39421928e-02 1.50754154e-02 7.52505660e-03 4.14744020e-03\n",
      "  7.15619326e-03 9.62123275e-03 4.94047999e-03 7.78636336e-03\n",
      "  4.08735871e-03 1.47357583e-03 2.10583210e-04 1.63644552e-04\n",
      "  5.20724752e-05 7.63536300e-05 1.00867372e-04 1.45554543e-04\n",
      "  9.90210974e-05 9.38820012e-05 6.26944602e-05 9.29039743e-05\n",
      "  6.48169225e-05 9.76672818e-05 9.29039743e-05 7.85645825e-05\n",
      "  1.17752730e-04 3.60190868e-04 6.38812780e-04 7.49677420e-04\n",
      "  5.06371260e-04 2.12103128e-04 2.11775303e-04 7.77355162e-05\n",
      "  2.13444233e-04 2.70932913e-04 2.26408243e-04 2.78025866e-04\n",
      "  5.96374273e-04 2.54184008e-04 9.55352007e-05 7.84786098e-05\n",
      "  6.72721144e-05 1.07033033e-04 1.00574791e-04 8.27352997e-05\n",
      "  7.38212038e-05 1.08278284e-04 1.05801795e-04 5.41396803e-05\n",
      "  9.57333832e-05 9.38376979e-05 7.09210217e-05 8.32265796e-05\n",
      "  1.37388706e-04 1.14178525e-04 1.50561333e-04 1.72168016e-04\n",
      "  2.24411488e-04 3.99708748e-04 3.68833542e-04 3.39925289e-04\n",
      "  1.98513269e-04 2.75790691e-04 6.26325607e-04 1.79201365e-04\n",
      "  6.65485859e-04 4.64886427e-04 1.81347132e-04 1.01856844e-04\n",
      "  1.03898084e-04 7.24730198e-05 8.19344714e-05 6.11189171e-05\n",
      "  9.86488740e-05 9.86487867e-05 1.14613598e-04 7.53065688e-05]], shape=(1, 784), dtype=float32)\n"
     ]
    }
   ],
   "source": [
    "hh0_p = tf.nn.sigmoid(tf.matmul(sample_case, W) + hb)\n",
    "hh0_s = tf.round(hh0_p)\n",
    "\n",
    "print(\"Probability nodes in hidden layer:\" ,hh0_p)\n",
    "print(\"activated nodes in hidden layer:\" ,hh0_s)\n",
    "\n",
    "# reconstruct\n",
    "vv1_p = tf.nn.sigmoid(tf.matmul(hh0_s, tf.transpose(W)) + vb)\n",
    "\n",
    "print(vv1_p)\n",
    "#rec_prob = sess.run(vv1_p, feed_dict={ hh0_s: hh0_s_val, W: prv_w, vb: prv_vb})"
   ]
  },
  {
   "cell_type": "markdown",
   "metadata": {},
   "source": [
    "Here we plot the reconstructed image:\n"
   ]
  },
  {
   "cell_type": "code",
   "execution_count": 25,
   "metadata": {},
   "outputs": [
    {
     "data": {
      "image/png": "[encoded data removed]",
      "text/plain": [
       "<Figure size 288x288 with 1 Axes>"
      ]
     },
     "metadata": {
      "needs_background": "light"
     },
     "output_type": "display_data"
    }
   ],
   "source": [
    "img = Image.fromarray(tile_raster_images(X=vv1_p.numpy(), img_shape=(28, 28),tile_shape=(1, 1), tile_spacing=(1, 1)))\n",
    "plt.rcParams['figure.figsize'] = (4.0, 4.0)\n",
    "imgplot = plt.imshow(img)\n",
    "imgplot.set_cmap('gray') "
   ]
  },
  {
   "cell_type": "markdown",
   "metadata": {},
   "source": [
    "<hr>\n",
    "\n",
    "## Want to learn more?\n",
    "\n",
    "Running deep learning programs usually needs a high performance platform. **PowerAI** speeds up deep learning and AI. Built on IBM’s Power Systems, **PowerAI** is a scalable software platform that accelerates deep learning and AI with blazing performance for individual users or enterprises. The **PowerAI** platform supports popular machine learning libraries and dependencies including TensorFlow, Caffe, Torch, and Theano. You can use [PowerAI on IMB Cloud](https://cocl.us/ML0120EN_PAI).\n",
    "\n",
    "Also, you can use **Watson Studio** to run these notebooks faster with bigger datasets.**Watson Studio** is IBM’s leading cloud solution for data scientists, built by data scientists. With Jupyter notebooks, RStudio, Apache Spark and popular libraries pre-packaged in the cloud, **Watson Studio** enables data scientists to collaborate on their projects without having to install anything. Join the fast-growing community of **Watson Studio** users today with a free account at [Watson Studio](https://cocl.us/ML0120EN_DSX).This is the end of this lesson. Thank you for reading this notebook, and good luck on your studies.\n"
   ]
  },
  {
   "cell_type": "markdown",
   "metadata": {},
   "source": [
    "### Thanks for completing this lesson!\n",
    "\n",
    "Notebook created by: <a href = \"https://ca.linkedin.com/in/saeedaghabozorgi\">Saeed Aghabozorgi</a>\n",
    "\n",
    "Updated to TF 2.X by  <a href=\"https://ca.linkedin.com/in/nilmeier\"> Jerome Nilmeier</a><br />\n"
   ]
  },
  {
   "cell_type": "markdown",
   "metadata": {},
   "source": [
    "### References:\n",
    "\n",
    "[https://en.wikipedia.org/wiki/Restricted_Boltzmann_machine](https://en.wikipedia.org/wiki/Restricted_Boltzmann_machine?cm_mmc=Email_Newsletter-_-Developer_Ed%2BTech-_-WW_WW-_-SkillsNetwork-Courses-IBMDeveloperSkillsNetwork-DL0120EN-SkillsNetwork-20629446&cm_mmca1=000026UJ&cm_mmca2=10006555&cm_mmca3=M12345678&cvosrc=email.Newsletter.M12345678&cvo_campaign=000026UJ)  \n",
    "[http://deeplearning.net/tutorial/rbm.html](http://deeplearning.net/tutorial/rbm.html?cm_mmc=Email_Newsletter-_-Developer_Ed%2BTech-_-WW_WW-_-SkillsNetwork-Courses-IBMDeveloperSkillsNetwork-DL0120EN-SkillsNetwork-20629446&cm_mmca1=000026UJ&cm_mmca2=10006555&cm_mmca3=M12345678&cvosrc=email.Newsletter.M12345678&cvo_campaign=000026UJ&cm_mmc=Email_Newsletter-_-Developer_Ed%2BTech-_-WW_WW-_-SkillsNetwork-Courses-IBMDeveloperSkillsNetwork-DL0120EN-SkillsNetwork-20629446&cm_mmca1=000026UJ&cm_mmca2=10006555&cm_mmca3=M12345678&cvosrc=email.Newsletter.M12345678&cvo_campaign=000026UJ)  \n",
    "[http://www.cs.utoronto.ca/~hinton/absps/netflixICML.pdf](http://www.cs.utoronto.ca/~hinton/absps/netflixICML.pdf?cm_mmc=Email_Newsletter-_-Developer_Ed%2BTech-_-WW_WW-_-SkillsNetwork-Courses-IBMDeveloperSkillsNetwork-DL0120EN-SkillsNetwork-20629446&cm_mmca1=000026UJ&cm_mmca2=10006555&cm_mmca3=M12345678&cvosrc=email.Newsletter.M12345678&cvo_campaign=000026UJ&cm_mmc=Email_Newsletter-_-Developer_Ed%2BTech-_-WW_WW-_-SkillsNetwork-Courses-IBMDeveloperSkillsNetwork-DL0120EN-SkillsNetwork-20629446&cm_mmca1=000026UJ&cm_mmca2=10006555&cm_mmca3=M12345678&cvosrc=email.Newsletter.M12345678&cvo_campaign=000026UJ)<br>\n",
    "<http://imonad.com/rbm/restricted-boltzmann-machine/>  \n"
   ]
  },
  {
   "cell_type": "markdown",
   "metadata": {},
   "source": [
    "<hr>\n",
    "\n",
    "Copyright © 2018 [Cognitive Class](https://cocl.us/DX0108EN_CC). This notebook and its source code are released under the terms of the [MIT License](https://bigdatauniversity.com/mit-license?cm_mmc=Email_Newsletter-_-Developer_Ed%2BTech-_-WW_WW-_-SkillsNetwork-Courses-IBMDeveloperSkillsNetwork-DL0120EN-SkillsNetwork-20629446&cm_mmca1=000026UJ&cm_mmca2=10006555&cm_mmca3=M12345678&cvosrc=email.Newsletter.M12345678&cvo_campaign=000026UJ&cm_mmc=Email_Newsletter-_-Developer_Ed%2BTech-_-WW_WW-_-SkillsNetwork-Courses-IBMDeveloperSkillsNetwork-DL0120EN-SkillsNetwork-20629446&cm_mmca1=000026UJ&cm_mmca2=10006555&cm_mmca3=M12345678&cvosrc=email.Newsletter.M12345678&cvo_campaign=000026UJ).\n"
   ]
  }
 ],
 "metadata": {
  "kernelspec": {
   "display_name": "Python",
   "language": "python",
   "name": "conda-env-python-py"
  },
  "language_info": {
   "codemirror_mode": {
    "name": "ipython",
    "version": 3
   },
   "file_extension": ".py",
   "mimetype": "text/x-python",
   "name": "python",
   "nbconvert_exporter": "python",
   "pygments_lexer": "ipython3",
   "version": "3.6.11"
  },
  "widgets": {
   "state": {},
   "version": "1.1.2"
  }
 },
 "nbformat": 4,
 "nbformat_minor": 4
}
